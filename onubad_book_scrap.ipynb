{
 "cells": [
  {
   "cell_type": "code",
   "execution_count": null,
   "id": "46690d77",
   "metadata": {},
   "outputs": [],
   "source": [
    "# https://allbanglaboi.com/বাংলা-অনুবাদ-ই-বুক/"
   ]
  },
  {
   "cell_type": "code",
   "execution_count": 5,
   "id": "e95aad3d",
   "metadata": {},
   "outputs": [],
   "source": [
    "from selenium import webdriver\n",
    "from selenium.webdriver.chrome.service import Service\n",
    "from selenium.webdriver.common.by import By\n",
    "from selenium.webdriver.support.ui import WebDriverWait\n",
    "from selenium.webdriver.support import expected_conditions as EC\n",
    "from selenium.webdriver.common.action_chains import ActionChains\n",
    "from selenium.common.exceptions import NoSuchElementException \n",
    "import time\n",
    "import os"
   ]
  },
  {
   "cell_type": "markdown",
   "id": "df999af0",
   "metadata": {},
   "source": [
    "### Download all translated books"
   ]
  },
  {
   "cell_type": "code",
   "execution_count": 14,
   "id": "40cd8f8d",
   "metadata": {},
   "outputs": [
    {
     "name": "stdout",
     "output_type": "stream",
     "text": [
      "https://allbanglaboi.com/tno-bangla-ebook/\n",
      "https://allbanglaboi.com/tma-bangla-pdf/\n",
      "https://allbanglaboi.com/sacred-games-bangla-pdf/\n",
      "https://allbanglaboi.com/prem-puja-vog-bangla-book-pdf/\n",
      "https://allbanglaboi.com/the-wolf-leader-bangla-pdf/\n",
      "No PDF link found for: https://allbanglaboi.com/the-wolf-leader-bangla-pdf/\n",
      "https://allbanglaboi.com/greek-puran-katha-bangla-book/\n",
      "No PDF link found for: https://allbanglaboi.com/greek-puran-katha-bangla-book/\n",
      "https://allbanglaboi.com/the-snowman-bangla-pdf/\n",
      "https://allbanglaboi.com/sons-and-lovers-bangla-books-pdf/\n",
      "https://allbanglaboi.com/the-positive-way-to-change-your-life-bangla-pdf/\n",
      "https://allbanglaboi.com/boys-from-brazil-bangla-pdf/\n",
      "https://allbanglaboi.com/the-silent-patient-bangla-pdf-free-download/\n",
      "https://allbanglaboi.com/jadughore-churi-pdf/\n",
      "https://allbanglaboi.com/life-of-pi-pdf/\n",
      "https://allbanglaboi.com/dopamine-detox-bangla-pdf/\n",
      "https://allbanglaboi.com/mistress-wilding-bangla-pdf/\n"
     ]
    },
    {
     "ename": "NoSuchWindowException",
     "evalue": "Message: no such window: target window already closed\nfrom unknown error: web view not found\n  (Session info: chrome=120.0.6099.225)\nStacktrace:\n\tGetHandleVerifier [0x00007FF63A522142+3514994]\n\t(No symbol) [0x00007FF63A140CE2]\n\t(No symbol) [0x00007FF639FE76AA]\n\t(No symbol) [0x00007FF639FC0AFD]\n\t(No symbol) [0x00007FF63A05CB1B]\n\t(No symbol) [0x00007FF63A07218F]\n\t(No symbol) [0x00007FF63A055D93]\n\t(No symbol) [0x00007FF63A024BDC]\n\t(No symbol) [0x00007FF63A025C64]\n\tGetHandleVerifier [0x00007FF63A54E16B+3695259]\n\tGetHandleVerifier [0x00007FF63A5A6737+4057191]\n\tGetHandleVerifier [0x00007FF63A59E4E3+4023827]\n\tGetHandleVerifier [0x00007FF63A2704F9+689705]\n\t(No symbol) [0x00007FF63A14C048]\n\t(No symbol) [0x00007FF63A148044]\n\t(No symbol) [0x00007FF63A1481C9]\n\t(No symbol) [0x00007FF63A1388C4]\n\tBaseThreadInitThunk [0x00007FF9D7577344+20]\n\tRtlUserThreadStart [0x00007FF9D95626B1+33]\n",
     "output_type": "error",
     "traceback": [
      "\u001b[1;31m---------------------------------------------------------------------------\u001b[0m",
      "\u001b[1;31mNoSuchWindowException\u001b[0m                     Traceback (most recent call last)",
      "Cell \u001b[1;32mIn[14], line 52\u001b[0m\n\u001b[0;32m     49\u001b[0m website \u001b[38;5;241m=\u001b[39m \u001b[38;5;124m\"\u001b[39m\u001b[38;5;124mhttps://allbanglaboi.com/\u001b[39m\u001b[38;5;132;01m%E\u001b[39;00m\u001b[38;5;124m0\u001b[39m\u001b[38;5;124m%\u001b[39m\u001b[38;5;124mA6\u001b[39m\u001b[38;5;124m%\u001b[39m\u001b[38;5;124mAC\u001b[39m\u001b[38;5;132;01m%E\u001b[39;00m\u001b[38;5;124m0\u001b[39m\u001b[38;5;124m%\u001b[39m\u001b[38;5;124mA6\u001b[39m\u001b[38;5;124m%\u001b[39m\u001b[38;5;124mBE\u001b[39m\u001b[38;5;132;01m%E\u001b[39;00m\u001b[38;5;124m0\u001b[39m\u001b[38;5;124m%\u001b[39m\u001b[38;5;124mA6\u001b[39m\u001b[38;5;132;01m%82%\u001b[39;00m\u001b[38;5;124mE0\u001b[39m\u001b[38;5;124m%\u001b[39m\u001b[38;5;124mA6\u001b[39m\u001b[38;5;124m%\u001b[39m\u001b[38;5;124mB2\u001b[39m\u001b[38;5;132;01m%E\u001b[39;00m\u001b[38;5;124m0\u001b[39m\u001b[38;5;124m%\u001b[39m\u001b[38;5;124mA6\u001b[39m\u001b[38;5;124m%\u001b[39m\u001b[38;5;124mBE-\u001b[39m\u001b[38;5;132;01m%E\u001b[39;00m\u001b[38;5;124m0\u001b[39m\u001b[38;5;124m%\u001b[39m\u001b[38;5;124mA6\u001b[39m\u001b[38;5;132;01m%85%\u001b[39;00m\u001b[38;5;124mE0\u001b[39m\u001b[38;5;124m%\u001b[39m\u001b[38;5;124mA6\u001b[39m\u001b[38;5;124m%\u001b[39m\u001b[38;5;124mA8\u001b[39m\u001b[38;5;132;01m%E\u001b[39;00m\u001b[38;5;124m0\u001b[39m\u001b[38;5;124m%\u001b[39m\u001b[38;5;124mA7\u001b[39m\u001b[38;5;132;01m%81%\u001b[39;00m\u001b[38;5;124mE0\u001b[39m\u001b[38;5;124m%\u001b[39m\u001b[38;5;124mA6\u001b[39m\u001b[38;5;124m%\u001b[39m\u001b[38;5;124mAC\u001b[39m\u001b[38;5;132;01m%E\u001b[39;00m\u001b[38;5;124m0\u001b[39m\u001b[38;5;124m%\u001b[39m\u001b[38;5;124mA6\u001b[39m\u001b[38;5;124m%\u001b[39m\u001b[38;5;124mBE\u001b[39m\u001b[38;5;132;01m%E\u001b[39;00m\u001b[38;5;124m0\u001b[39m\u001b[38;5;124m%\u001b[39m\u001b[38;5;124mA6\u001b[39m\u001b[38;5;124m%\u001b[39m\u001b[38;5;124mA6-\u001b[39m\u001b[38;5;132;01m%E\u001b[39;00m\u001b[38;5;124m0\u001b[39m\u001b[38;5;124m%\u001b[39m\u001b[38;5;124mA6\u001b[39m\u001b[38;5;124m%\u001b[39m\u001b[38;5;124m87-\u001b[39m\u001b[38;5;132;01m%E\u001b[39;00m\u001b[38;5;124m0\u001b[39m\u001b[38;5;124m%\u001b[39m\u001b[38;5;124mA6\u001b[39m\u001b[38;5;124m%\u001b[39m\u001b[38;5;124mAC\u001b[39m\u001b[38;5;132;01m%E\u001b[39;00m\u001b[38;5;124m0\u001b[39m\u001b[38;5;124m%\u001b[39m\u001b[38;5;124mA7\u001b[39m\u001b[38;5;132;01m%81%\u001b[39;00m\u001b[38;5;124mE0\u001b[39m\u001b[38;5;124m%\u001b[39m\u001b[38;5;124mA6\u001b[39m\u001b[38;5;124m%\u001b[39m\u001b[38;5;124m95/\u001b[39m\u001b[38;5;124m\"\u001b[39m\n\u001b[0;32m     50\u001b[0m chromedriver_path \u001b[38;5;241m=\u001b[39m \u001b[38;5;124mr\u001b[39m\u001b[38;5;124m\"\u001b[39m\u001b[38;5;124mC:\u001b[39m\u001b[38;5;124m\\\u001b[39m\u001b[38;5;124mUsers\u001b[39m\u001b[38;5;124m\\\u001b[39m\u001b[38;5;124mPappu\u001b[39m\u001b[38;5;124m\\\u001b[39m\u001b[38;5;124mDesktop\u001b[39m\u001b[38;5;124m\\\u001b[39m\u001b[38;5;124mbooks\u001b[39m\u001b[38;5;124m\\\u001b[39m\u001b[38;5;124mchromedriver-win64\u001b[39m\u001b[38;5;124m\\\u001b[39m\u001b[38;5;124mchromedriver.exe\u001b[39m\u001b[38;5;124m\"\u001b[39m\n\u001b[1;32m---> 52\u001b[0m \u001b[43mget_books\u001b[49m\u001b[43m(\u001b[49m\u001b[43mwebsite\u001b[49m\u001b[43m,\u001b[49m\u001b[43m \u001b[49m\u001b[43mchromedriver_path\u001b[49m\u001b[43m)\u001b[49m\n",
      "Cell \u001b[1;32mIn[14], line 21\u001b[0m, in \u001b[0;36mget_books\u001b[1;34m(url, chromedriver_path)\u001b[0m\n\u001b[0;32m     18\u001b[0m time\u001b[38;5;241m.\u001b[39msleep(\u001b[38;5;241m3\u001b[39m)\n\u001b[0;32m     20\u001b[0m \u001b[38;5;28;01mtry\u001b[39;00m:\n\u001b[1;32m---> 21\u001b[0m     pdf_link \u001b[38;5;241m=\u001b[39m \u001b[43mdriver\u001b[49m\u001b[38;5;241;43m.\u001b[39;49m\u001b[43mfind_element\u001b[49m\u001b[43m(\u001b[49m\u001b[43mBy\u001b[49m\u001b[38;5;241;43m.\u001b[39;49m\u001b[43mXPATH\u001b[49m\u001b[43m,\u001b[49m\u001b[43m \u001b[49m\u001b[38;5;124;43m\"\u001b[39;49m\u001b[38;5;124;43m//a[contains(@href, \u001b[39;49m\u001b[38;5;124;43m'\u001b[39;49m\u001b[38;5;124;43mdrive.google.com/uc?export=download&id=\u001b[39;49m\u001b[38;5;124;43m'\u001b[39;49m\u001b[38;5;124;43m)]\u001b[39;49m\u001b[38;5;124;43m\"\u001b[39;49m\u001b[43m)\u001b[49m\n\u001b[0;32m     22\u001b[0m     pdf_link\u001b[38;5;241m.\u001b[39mclick()\n\u001b[0;32m     23\u001b[0m     time\u001b[38;5;241m.\u001b[39msleep(\u001b[38;5;241m3\u001b[39m)                    \n",
      "File \u001b[1;32m~\\anaconda3\\envs\\bnlp\\lib\\site-packages\\selenium\\webdriver\\remote\\webdriver.py:742\u001b[0m, in \u001b[0;36mWebDriver.find_element\u001b[1;34m(self, by, value)\u001b[0m\n\u001b[0;32m    739\u001b[0m     by \u001b[38;5;241m=\u001b[39m By\u001b[38;5;241m.\u001b[39mCSS_SELECTOR\n\u001b[0;32m    740\u001b[0m     value \u001b[38;5;241m=\u001b[39m \u001b[38;5;124mf\u001b[39m\u001b[38;5;124m'\u001b[39m\u001b[38;5;124m[name=\u001b[39m\u001b[38;5;124m\"\u001b[39m\u001b[38;5;132;01m{\u001b[39;00mvalue\u001b[38;5;132;01m}\u001b[39;00m\u001b[38;5;124m\"\u001b[39m\u001b[38;5;124m]\u001b[39m\u001b[38;5;124m'\u001b[39m\n\u001b[1;32m--> 742\u001b[0m \u001b[38;5;28;01mreturn\u001b[39;00m \u001b[38;5;28;43mself\u001b[39;49m\u001b[38;5;241;43m.\u001b[39;49m\u001b[43mexecute\u001b[49m\u001b[43m(\u001b[49m\u001b[43mCommand\u001b[49m\u001b[38;5;241;43m.\u001b[39;49m\u001b[43mFIND_ELEMENT\u001b[49m\u001b[43m,\u001b[49m\u001b[43m \u001b[49m\u001b[43m{\u001b[49m\u001b[38;5;124;43m\"\u001b[39;49m\u001b[38;5;124;43musing\u001b[39;49m\u001b[38;5;124;43m\"\u001b[39;49m\u001b[43m:\u001b[49m\u001b[43m \u001b[49m\u001b[43mby\u001b[49m\u001b[43m,\u001b[49m\u001b[43m \u001b[49m\u001b[38;5;124;43m\"\u001b[39;49m\u001b[38;5;124;43mvalue\u001b[39;49m\u001b[38;5;124;43m\"\u001b[39;49m\u001b[43m:\u001b[49m\u001b[43m \u001b[49m\u001b[43mvalue\u001b[49m\u001b[43m}\u001b[49m\u001b[43m)\u001b[49m[\u001b[38;5;124m\"\u001b[39m\u001b[38;5;124mvalue\u001b[39m\u001b[38;5;124m\"\u001b[39m]\n",
      "File \u001b[1;32m~\\anaconda3\\envs\\bnlp\\lib\\site-packages\\selenium\\webdriver\\remote\\webdriver.py:348\u001b[0m, in \u001b[0;36mWebDriver.execute\u001b[1;34m(self, driver_command, params)\u001b[0m\n\u001b[0;32m    346\u001b[0m response \u001b[38;5;241m=\u001b[39m \u001b[38;5;28mself\u001b[39m\u001b[38;5;241m.\u001b[39mcommand_executor\u001b[38;5;241m.\u001b[39mexecute(driver_command, params)\n\u001b[0;32m    347\u001b[0m \u001b[38;5;28;01mif\u001b[39;00m response:\n\u001b[1;32m--> 348\u001b[0m     \u001b[38;5;28;43mself\u001b[39;49m\u001b[38;5;241;43m.\u001b[39;49m\u001b[43merror_handler\u001b[49m\u001b[38;5;241;43m.\u001b[39;49m\u001b[43mcheck_response\u001b[49m\u001b[43m(\u001b[49m\u001b[43mresponse\u001b[49m\u001b[43m)\u001b[49m\n\u001b[0;32m    349\u001b[0m     response[\u001b[38;5;124m\"\u001b[39m\u001b[38;5;124mvalue\u001b[39m\u001b[38;5;124m\"\u001b[39m] \u001b[38;5;241m=\u001b[39m \u001b[38;5;28mself\u001b[39m\u001b[38;5;241m.\u001b[39m_unwrap_value(response\u001b[38;5;241m.\u001b[39mget(\u001b[38;5;124m\"\u001b[39m\u001b[38;5;124mvalue\u001b[39m\u001b[38;5;124m\"\u001b[39m, \u001b[38;5;28;01mNone\u001b[39;00m))\n\u001b[0;32m    350\u001b[0m     \u001b[38;5;28;01mreturn\u001b[39;00m response\n",
      "File \u001b[1;32m~\\anaconda3\\envs\\bnlp\\lib\\site-packages\\selenium\\webdriver\\remote\\errorhandler.py:229\u001b[0m, in \u001b[0;36mErrorHandler.check_response\u001b[1;34m(self, response)\u001b[0m\n\u001b[0;32m    227\u001b[0m         alert_text \u001b[38;5;241m=\u001b[39m value[\u001b[38;5;124m\"\u001b[39m\u001b[38;5;124malert\u001b[39m\u001b[38;5;124m\"\u001b[39m]\u001b[38;5;241m.\u001b[39mget(\u001b[38;5;124m\"\u001b[39m\u001b[38;5;124mtext\u001b[39m\u001b[38;5;124m\"\u001b[39m)\n\u001b[0;32m    228\u001b[0m     \u001b[38;5;28;01mraise\u001b[39;00m exception_class(message, screen, stacktrace, alert_text)  \u001b[38;5;66;03m# type: ignore[call-arg]  # mypy is not smart enough here\u001b[39;00m\n\u001b[1;32m--> 229\u001b[0m \u001b[38;5;28;01mraise\u001b[39;00m exception_class(message, screen, stacktrace)\n",
      "\u001b[1;31mNoSuchWindowException\u001b[0m: Message: no such window: target window already closed\nfrom unknown error: web view not found\n  (Session info: chrome=120.0.6099.225)\nStacktrace:\n\tGetHandleVerifier [0x00007FF63A522142+3514994]\n\t(No symbol) [0x00007FF63A140CE2]\n\t(No symbol) [0x00007FF639FE76AA]\n\t(No symbol) [0x00007FF639FC0AFD]\n\t(No symbol) [0x00007FF63A05CB1B]\n\t(No symbol) [0x00007FF63A07218F]\n\t(No symbol) [0x00007FF63A055D93]\n\t(No symbol) [0x00007FF63A024BDC]\n\t(No symbol) [0x00007FF63A025C64]\n\tGetHandleVerifier [0x00007FF63A54E16B+3695259]\n\tGetHandleVerifier [0x00007FF63A5A6737+4057191]\n\tGetHandleVerifier [0x00007FF63A59E4E3+4023827]\n\tGetHandleVerifier [0x00007FF63A2704F9+689705]\n\t(No symbol) [0x00007FF63A14C048]\n\t(No symbol) [0x00007FF63A148044]\n\t(No symbol) [0x00007FF63A1481C9]\n\t(No symbol) [0x00007FF63A1388C4]\n\tBaseThreadInitThunk [0x00007FF9D7577344+20]\n\tRtlUserThreadStart [0x00007FF9D95626B1+33]\n"
     ]
    }
   ],
   "source": [
    "def get_books(url, chromedriver_path):\n",
    "    service = Service(chromedriver_path)\n",
    "    driver = webdriver.Chrome(service=service)\n",
    "    \n",
    "    try:\n",
    "        driver.get(url)\n",
    "        driver.implicitly_wait(10)\n",
    "        driver.maximize_window()\n",
    "\n",
    "        while True:\n",
    "            links = driver.find_elements(By.XPATH, \"//h2[@class='entry-title']//a\")\n",
    "            for link in links:\n",
    "                link_url = link.get_attribute('href')\n",
    "                print(link_url)\n",
    "                \n",
    "                driver.switch_to.new_window('tab')\n",
    "                driver.get(link_url)\n",
    "                time.sleep(3)\n",
    "                \n",
    "                try:\n",
    "                    pdf_link = driver.find_element(By.XPATH, \"//a[contains(@href, 'drive.google.com/uc?export=download&id=')]\")\n",
    "                    pdf_link.click()\n",
    "                    time.sleep(3)                    \n",
    "                    #get_link = pdf_link.get_attribute('href')\n",
    "                    #print(get_link)\n",
    "                    \n",
    "                except NoSuchElementException as e:\n",
    "                    print(f\"No PDF link found for: {link_url}\")   \n",
    "                    \n",
    "                driver.close()\n",
    "                driver.switch_to.window(driver.window_handles[0])\n",
    "                time.sleep(1) \n",
    "\n",
    "            next_button = driver.find_element(By.XPATH, \"//a[@class='next page-numbers']\")\n",
    "            if next_button:\n",
    "                next_button.click()\n",
    "            else:\n",
    "                break\n",
    "\n",
    "            time.sleep(2) \n",
    "\n",
    "    except NoSuchElementException as e:\n",
    "        print(f\"Element not found: {e}\")\n",
    "\n",
    "    finally:\n",
    "        driver.quit()\n",
    "        \n",
    "\n",
    "website = \"https://allbanglaboi.com/%E0%A6%AC%E0%A6%BE%E0%A6%82%E0%A6%B2%E0%A6%BE-%E0%A6%85%E0%A6%A8%E0%A7%81%E0%A6%AC%E0%A6%BE%E0%A6%A6-%E0%A6%87-%E0%A6%AC%E0%A7%81%E0%A6%95/\"\n",
    "chromedriver_path = r\"C:\\Users\\Pappu\\Desktop\\books\\chromedriver-win64\\chromedriver.exe\"\n",
    "\n",
    "get_books(website, chromedriver_path)\n"
   ]
  },
  {
   "cell_type": "code",
   "execution_count": null,
   "id": "e7f6b7ea",
   "metadata": {},
   "outputs": [],
   "source": []
  },
  {
   "cell_type": "code",
   "execution_count": null,
   "id": "d5176869",
   "metadata": {},
   "outputs": [],
   "source": [
    "import os\n",
    "import requests\n",
    "\n",
    "def get_books(url, chromedriver_path):\n",
    "    service = Service(chromedriver_path)\n",
    "    driver = webdriver.Chrome(service=service)\n",
    "    \n",
    "    try:\n",
    "        driver.get(url)\n",
    "        driver.implicitly_wait(10)\n",
    "        driver.maximize_window()\n",
    "\n",
    "        while True:\n",
    "            links = driver.find_elements(By.XPATH, \"//h2[@class='entry-title']//a\")\n",
    "            for link in links:\n",
    "                link_url = link.get_attribute('href')\n",
    "                pdf_link = scrape_pdf_link(link_url)\n",
    "                if pdf_link:\n",
    "                    download_pdf(pdf_link, output_folder)\n",
    "                time.sleep(1) \n",
    "\n",
    "            next_button = driver.find_element(By.XPATH, \"//a[@class='next page-numbers']\")\n",
    "            if next_button:\n",
    "                next_button.click()\n",
    "            else:\n",
    "                break\n",
    "\n",
    "            time.sleep(2) \n",
    "\n",
    "    except NoSuchElementException as e:\n",
    "        print(f\"Element not found: {e}\")\n",
    "\n",
    "    finally:\n",
    "        driver.quit()\n",
    "\n",
    "def scrape_pdf_link(url):\n",
    "    driver = webdriver.Chrome()\n",
    "    try:\n",
    "        driver.get(url)\n",
    "        pdf_link = driver.find_element(By.XPATH, \"//a[contains(text(), 'Download PDF')]\").get_attribute('href')\n",
    "        return pdf_link\n",
    "    except NoSuchElementException as e:\n",
    "        print(f\"PDF link not found on page: {url}\")\n",
    "        return None\n",
    "    finally:\n",
    "        driver.quit()\n",
    "\n",
    "def download_pdf(url, output_folder):\n",
    "    filename = url.split('/')[-1]\n",
    "    filepath = os.path.join(output_folder, filename)\n",
    "    response = requests.get(url)\n",
    "    with open(filepath, 'wb') as f:\n",
    "        f.write(response.content)\n",
    "    print(f\"Downloaded: {filename}\")\n",
    "\n",
    "website = \"https://allbanglaboi.com/%E0%A6%AC%E0%A6%BE%E0%A6%82%E0%A6%B2%E0%A6%BE-%E0%A6%85%E0%A6%A8%E0%A7%81%E0%A6%AC%E0%A6%BE%E0%A6%A6-%E0%A6%87-%E0%A6%AC%E0%A7%81%E0%A6%95/\"\n",
    "chromedriver_path = r\"C:\\Users\\Pappu\\Desktop\\books\\chromedriver-win64\\chromedriver.exe\"\n",
    "output_folder = r\"C:\\Users\\Pappu\\Desktop\\books\\pdfs\"\n",
    "\n",
    "get_books(website, chromedriver_path)\n"
   ]
  },
  {
   "cell_type": "code",
   "execution_count": null,
   "id": "024c3fde",
   "metadata": {},
   "outputs": [],
   "source": []
  },
  {
   "cell_type": "code",
   "execution_count": null,
   "id": "0a2984cc",
   "metadata": {},
   "outputs": [],
   "source": [
    "//a[contains(@href, 'drive.google.com/uc?export=download&id=')]\n"
   ]
  },
  {
   "cell_type": "code",
   "execution_count": null,
   "id": "8234fac7",
   "metadata": {},
   "outputs": [],
   "source": []
  },
  {
   "cell_type": "code",
   "execution_count": null,
   "id": "106337eb",
   "metadata": {},
   "outputs": [],
   "source": []
  },
  {
   "cell_type": "code",
   "execution_count": null,
   "id": "8f231c5f",
   "metadata": {},
   "outputs": [],
   "source": []
  },
  {
   "cell_type": "code",
   "execution_count": null,
   "id": "fd32d4b5",
   "metadata": {},
   "outputs": [],
   "source": []
  },
  {
   "cell_type": "code",
   "execution_count": null,
   "id": "57f8c2a5",
   "metadata": {},
   "outputs": [],
   "source": []
  },
  {
   "cell_type": "code",
   "execution_count": null,
   "id": "78f75631",
   "metadata": {},
   "outputs": [],
   "source": []
  },
  {
   "cell_type": "code",
   "execution_count": null,
   "id": "2cda8804",
   "metadata": {},
   "outputs": [],
   "source": []
  },
  {
   "cell_type": "code",
   "execution_count": null,
   "id": "c1d33195",
   "metadata": {},
   "outputs": [],
   "source": []
  },
  {
   "cell_type": "code",
   "execution_count": null,
   "id": "376473e2",
   "metadata": {},
   "outputs": [],
   "source": []
  },
  {
   "cell_type": "code",
   "execution_count": null,
   "id": "1cef110a",
   "metadata": {},
   "outputs": [],
   "source": []
  },
  {
   "cell_type": "code",
   "execution_count": null,
   "id": "4e1b3c8c",
   "metadata": {},
   "outputs": [],
   "source": []
  },
  {
   "cell_type": "code",
   "execution_count": null,
   "id": "84dbd3fd",
   "metadata": {},
   "outputs": [],
   "source": []
  },
  {
   "cell_type": "code",
   "execution_count": null,
   "id": "2b4220d4",
   "metadata": {},
   "outputs": [],
   "source": []
  },
  {
   "cell_type": "code",
   "execution_count": null,
   "id": "3ce1c27e",
   "metadata": {},
   "outputs": [],
   "source": []
  },
  {
   "cell_type": "code",
   "execution_count": null,
   "id": "444c7cfa",
   "metadata": {},
   "outputs": [],
   "source": []
  },
  {
   "cell_type": "code",
   "execution_count": null,
   "id": "7607458b",
   "metadata": {},
   "outputs": [],
   "source": []
  },
  {
   "cell_type": "code",
   "execution_count": null,
   "id": "c803c46d",
   "metadata": {},
   "outputs": [],
   "source": []
  },
  {
   "cell_type": "code",
   "execution_count": null,
   "id": "e53b6b1d",
   "metadata": {},
   "outputs": [],
   "source": []
  },
  {
   "cell_type": "code",
   "execution_count": null,
   "id": "e012afff",
   "metadata": {},
   "outputs": [],
   "source": []
  }
 ],
 "metadata": {
  "kernelspec": {
   "display_name": "Python 3 (ipykernel)",
   "language": "python",
   "name": "python3"
  },
  "language_info": {
   "codemirror_mode": {
    "name": "ipython",
    "version": 3
   },
   "file_extension": ".py",
   "mimetype": "text/x-python",
   "name": "python",
   "nbconvert_exporter": "python",
   "pygments_lexer": "ipython3",
   "version": "3.8.18"
  }
 },
 "nbformat": 4,
 "nbformat_minor": 5
}
