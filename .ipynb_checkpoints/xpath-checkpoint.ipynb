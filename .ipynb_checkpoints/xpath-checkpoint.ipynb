{
 "cells": [
  {
   "cell_type": "markdown",
   "id": "8332243c",
   "metadata": {},
   "source": [
    "## Details About XPATH"
   ]
  },
  {
   "cell_type": "code",
   "execution_count": null,
   "id": "030988da",
   "metadata": {},
   "outputs": [],
   "source": [
    "# How to create XPATHS\n",
    "# Syntax\n",
    "# Absolute and Relative XPaths\n",
    "# Methods\n",
    "    ## contains\n",
    "    ## text\n",
    "    ## starts-with\n",
    "    ## Or, And\n",
    "#https://www.youtube.com/watch?v=W9_q7tZon2M&list=PLhW3qG5bs-L83gLEZVIDHOvgTTz27po_0&index=2&ab_channel=AutomationStepbyStep"
   ]
  },
  {
   "cell_type": "code",
   "execution_count": 10,
   "id": "e7ffb2d3",
   "metadata": {},
   "outputs": [],
   "source": [
    "from selenium import webdriver\n",
    "from selenium.webdriver.chrome.service import Service\n",
    "from selenium.webdriver.common.keys import Keys"
   ]
  },
  {
   "cell_type": "code",
   "execution_count": 14,
   "id": "eb15b94c",
   "metadata": {},
   "outputs": [],
   "source": [
    "website = \"https://www.google.com/\"\n",
    "path = r\"C:\\Users\\Pappu\\Desktop\\books\\chromedriver-win64\\chromedriver.exe\"\n",
    "service = Service(path)\n",
    "driver = webdriver.Chrome(service=service)\n",
    "driver.get(website)\n",
    "search_text = driver.find_element(\"xpath\", \"//textarea[@id='APjFqb']\")\n",
    "search_text.send_keys(\"Data Science\")\n",
    "search_text.send_keys(Keys.ENTER)\n",
    "driver.quit()"
   ]
  },
  {
   "cell_type": "markdown",
   "id": "0cdfed6b",
   "metadata": {},
   "source": [
    "### More XPATH with it's advance lavel"
   ]
  },
  {
   "cell_type": "code",
   "execution_count": null,
   "id": "64e5fbe9",
   "metadata": {},
   "outputs": [],
   "source": [
    "# https://www.youtube.com/watch?v=NhG__BL8zFo&ab_channel=AutomationZone\n",
    "# https://theautomationzone.blogspot.com/2020/07/xpath-practice.html\n",
    "# https://theautomationzone.blogspot.com/2020/07/sample-webtable-3.html"
   ]
  },
  {
   "cell_type": "raw",
   "id": "edcc3e3d",
   "metadata": {},
   "source": [
    "## Basic syntax\n",
    "\n",
    "## It search in all the tags\n",
    "# //*[@AttributeName=\"value\"]\n",
    "\n",
    "## It search with the tag\n",
    "# //TagName[@AttributeName=\"value\"]\n",
    "\n",
    "# And, or\n",
    "\n",
    "## text() this is a function of XPATH which return the text of any element of a webpage.\n",
    "# //p[text() = \"put the text here\"]\n",
    "\n",
    "## An example like parent tag has No unique identifier but it's child tag has unique identifier\n",
    "# //TagName[@AttributeName='value']/..\n",
    "# //div[ @id = 'Y2']/parent::* \"This is another way whuch also discuss in advance axes section\"\n",
    "\n",
    "## Identify parents tag using child tag (another way)\n",
    "# //TagName[ TagName[@AttributeName='value'] ]  like //a[ span[@id=\"link\"] ]\n",
    "# //a[.//span[@id=\"link\"] ], it will identify if need to identify parent child under a child that has unique indentifier\n",
    "\n",
    "## Another example like parent tag has unique identifier but it's child tag has No unique identifier\n",
    "# //div[@Id='divA']/* ,  Or use //div[@Id='divA']/TagName (Most appropriate)\n",
    "# //div[ @id = 'B2']/child::* \"This is another way whuch also discuss in advance axes section\"\n",
    "\n",
    "## If element not direct child then\n",
    "# //TagName[@AttributeName='value']/TagName/TagName like //div[@Id='divC']/span/input\n",
    "# Also can be use //div[@Id='divC']//input, it says that first // (double slash) means anywhere inside HTML page, but second // means inside of this first double slash.\n",
    "# //div[ @id = 'B2']//*\n",
    "# //div[ @id = 'B2']/descendant::* \"This is another way whuch also discuss in advance axes section\"\n",
    "\n",
    "## Identify with the help of indexes, its only used when none other identification works, but there is a challenge here, when you give the indexes, this indexes basically specify the child.\n",
    "# (//label[@id='lable'])[1], if you not encapsulate it, then it will select all first child of the parent. 19.00 minute(Tutorial)"
   ]
  },
  {
   "cell_type": "raw",
   "id": "e204008e",
   "metadata": {},
   "source": [
    "## XPATH Advance\n",
    "## XPATH Functions\n",
    "\n",
    "## Contain Function, it's very helpull when partial match is needed\n",
    "# //TagName[ contains( text(), 'put the text') ] like //p[ contains( text(), 'has logged in successfully') ], Also it can be written //TagName[ @AttributeName, 'value') ] like //p[ contains( @id, 'id1') ], also it can be used like combine with both //p[ contains( @id, 'd1')  and text()='unique id']. 27.00 minutes (Tutorial)\n",
    "\n",
    "## Starts with Function\n",
    "# //p[ starts-with( text(), 'logged in successfully') ]\n",
    "\n",
    "## Position\n",
    "# //table[@id = 'table1']//tr[position() = 2], also this can be used like //table[@id = 'table1']//tr[2]\n",
    "# //table[@id = 'table1']//tr[last()] to select the last row\n",
    "# //table[@id = 'table1']//tr[last()]/td/input\n",
    "# //table[@id = 'table1']//tr[last()-1]/td/input to point the second last row\n",
    "# //table[@id = 'table1']//tr[2+1]/td/input, can be done by mathmatical expression"
   ]
  },
  {
   "cell_type": "raw",
   "id": "42e679ff",
   "metadata": {},
   "source": [
    "## XPATH More Advance\n",
    "## XPATH Functions\n",
    "## Identify elements by using attributes by ignoring its case as well as apaces if present inside of it\n",
    "# XPATH not work with spaces both for text and attribute\n",
    "# //p[ normalize-space(text()) = 'put text with out space' ], like //p[ normalize-space(text()) = 'Tommy' ], it will remove preceding and trailing space\n",
    "# //p[ normalize-space(@AttributeName) = 'Tommy' ]\n",
    "\n",
    "## Convert Uppercase character to Lowercase character\n",
    "#//p[ translate(text(), 'ABCDEFGHIJKLMNOPQRSTUVWXYZ', 'abcdefghizklmnopqrstuvwxyz' ) = 'tommy' ]\n",
    "\n",
    "## Remove preceding and trailing space and convert uppercase to lowercase\n",
    "#//p[normalize-space( translate(text(), 'ABCDEFGHIJKLMNOPQRSTUVWXYZ', 'abcdefghizklmnopqrstuvwxyz' )) = 'tommy' ]\n",
    "\n",
    "## Point the paragraph tag that has text greater then 30\n",
    "#//p[ string-length(text()) >30 ], //p[ string-length(text()) < 30 ] (smaller then 30)\n",
    "\n",
    "## Round and floor (Actual number 53.80)\n",
    "# //td[round(text() ) = '54']\n",
    "# //td[round(text() ) = '54']\n",
    "\n",
    "## and \n",
    "# //input[@type='radio' and @id='gender-0'], it selects the male \n",
    "# ////input[@type='radio' and not (@id='gender-0')], where as by using not it becomes the opposite such as it may be select female.\n",
    "\n",
    "## SubString (Olive has logged in successfully : 1pm) actual text\n",
    "# //p[  substring-after( text(), ':' ) = ' 1pm' ]\n",
    "# //p[  substring-before( text(), ':' ) = 'Olive has logged in successfully ' ]\n",
    "# //p[  normalize-space(substring-before( text(), ':' )) = 'Olive has logged in successfully' ], if string has contained spaces (I test it)"
   ]
  },
  {
   "cell_type": "raw",
   "id": "c27804f0",
   "metadata": {},
   "source": [
    "## XPATH ADVANCE AXES\n",
    "## Parent\n",
    "# //div[ @id = 'Y2']/parent::*\n",
    "\n",
    "## Ancestor\n",
    "//div[ @id = 'Y2']/ancestor::div[ @id = 'A'] 1.05 minute(Tutorial)\n",
    "\n",
    "## Child\n",
    "# //div[ @id = 'B2']/child::*\n",
    "\n",
    "## Descendant (It means child and their child and their child and so on)\n",
    "# //div[ @id = 'B2']/descendant::*"
   ]
  },
  {
   "cell_type": "code",
   "execution_count": null,
   "id": "b3c37b8d",
   "metadata": {},
   "outputs": [],
   "source": []
  },
  {
   "cell_type": "code",
   "execution_count": null,
   "id": "3ff6d113",
   "metadata": {},
   "outputs": [],
   "source": []
  },
  {
   "cell_type": "code",
   "execution_count": null,
   "id": "2baa85eb",
   "metadata": {},
   "outputs": [],
   "source": []
  },
  {
   "cell_type": "code",
   "execution_count": null,
   "id": "84d1c39b",
   "metadata": {},
   "outputs": [],
   "source": []
  },
  {
   "cell_type": "code",
   "execution_count": null,
   "id": "5f81c85e",
   "metadata": {},
   "outputs": [],
   "source": []
  },
  {
   "cell_type": "code",
   "execution_count": null,
   "id": "9de9955d",
   "metadata": {},
   "outputs": [],
   "source": []
  },
  {
   "cell_type": "code",
   "execution_count": null,
   "id": "3d456e6b",
   "metadata": {},
   "outputs": [],
   "source": []
  },
  {
   "cell_type": "code",
   "execution_count": null,
   "id": "c102fc0e",
   "metadata": {},
   "outputs": [],
   "source": []
  },
  {
   "cell_type": "code",
   "execution_count": null,
   "id": "d6d8d4d8",
   "metadata": {},
   "outputs": [],
   "source": []
  },
  {
   "cell_type": "code",
   "execution_count": null,
   "id": "6bce0f53",
   "metadata": {},
   "outputs": [],
   "source": []
  },
  {
   "cell_type": "code",
   "execution_count": null,
   "id": "c0efaa7e",
   "metadata": {},
   "outputs": [],
   "source": []
  },
  {
   "cell_type": "code",
   "execution_count": null,
   "id": "0878c28f",
   "metadata": {},
   "outputs": [],
   "source": []
  },
  {
   "cell_type": "code",
   "execution_count": null,
   "id": "bfcb69a2",
   "metadata": {},
   "outputs": [],
   "source": []
  },
  {
   "cell_type": "code",
   "execution_count": null,
   "id": "e2d58ebc",
   "metadata": {},
   "outputs": [],
   "source": []
  },
  {
   "cell_type": "code",
   "execution_count": null,
   "id": "951294ca",
   "metadata": {},
   "outputs": [],
   "source": []
  },
  {
   "cell_type": "code",
   "execution_count": null,
   "id": "61cdb214",
   "metadata": {},
   "outputs": [],
   "source": []
  },
  {
   "cell_type": "code",
   "execution_count": null,
   "id": "205e7ce8",
   "metadata": {},
   "outputs": [],
   "source": []
  },
  {
   "cell_type": "code",
   "execution_count": null,
   "id": "47f54078",
   "metadata": {},
   "outputs": [],
   "source": []
  },
  {
   "cell_type": "code",
   "execution_count": null,
   "id": "a470960b",
   "metadata": {},
   "outputs": [],
   "source": []
  },
  {
   "cell_type": "code",
   "execution_count": null,
   "id": "747de4c5",
   "metadata": {},
   "outputs": [],
   "source": []
  },
  {
   "cell_type": "code",
   "execution_count": null,
   "id": "d445b132",
   "metadata": {},
   "outputs": [],
   "source": []
  },
  {
   "cell_type": "code",
   "execution_count": null,
   "id": "0b1dcbe3",
   "metadata": {},
   "outputs": [],
   "source": []
  },
  {
   "cell_type": "code",
   "execution_count": null,
   "id": "ac3615f6",
   "metadata": {},
   "outputs": [],
   "source": []
  },
  {
   "cell_type": "code",
   "execution_count": null,
   "id": "8ef12654",
   "metadata": {},
   "outputs": [],
   "source": []
  },
  {
   "cell_type": "code",
   "execution_count": null,
   "id": "af3c8ec1",
   "metadata": {},
   "outputs": [],
   "source": []
  },
  {
   "cell_type": "code",
   "execution_count": null,
   "id": "bed87f48",
   "metadata": {},
   "outputs": [],
   "source": []
  },
  {
   "cell_type": "code",
   "execution_count": null,
   "id": "da355d51",
   "metadata": {},
   "outputs": [],
   "source": []
  },
  {
   "cell_type": "code",
   "execution_count": null,
   "id": "d9380187",
   "metadata": {},
   "outputs": [],
   "source": []
  },
  {
   "cell_type": "code",
   "execution_count": null,
   "id": "e3753689",
   "metadata": {},
   "outputs": [],
   "source": []
  },
  {
   "cell_type": "code",
   "execution_count": null,
   "id": "7b6233e2",
   "metadata": {},
   "outputs": [],
   "source": []
  },
  {
   "cell_type": "code",
   "execution_count": null,
   "id": "4047512a",
   "metadata": {},
   "outputs": [],
   "source": []
  },
  {
   "cell_type": "code",
   "execution_count": null,
   "id": "a525bffd",
   "metadata": {},
   "outputs": [],
   "source": []
  },
  {
   "cell_type": "code",
   "execution_count": null,
   "id": "c571d68a",
   "metadata": {},
   "outputs": [],
   "source": []
  },
  {
   "cell_type": "code",
   "execution_count": null,
   "id": "82bafad1",
   "metadata": {},
   "outputs": [],
   "source": []
  },
  {
   "cell_type": "code",
   "execution_count": null,
   "id": "cf99ba43",
   "metadata": {},
   "outputs": [],
   "source": []
  },
  {
   "cell_type": "code",
   "execution_count": null,
   "id": "d98b6b82",
   "metadata": {},
   "outputs": [],
   "source": []
  },
  {
   "cell_type": "code",
   "execution_count": null,
   "id": "bf79b14f",
   "metadata": {},
   "outputs": [],
   "source": []
  },
  {
   "cell_type": "code",
   "execution_count": null,
   "id": "558f97b1",
   "metadata": {},
   "outputs": [],
   "source": []
  },
  {
   "cell_type": "code",
   "execution_count": null,
   "id": "bd60379a",
   "metadata": {},
   "outputs": [],
   "source": []
  },
  {
   "cell_type": "code",
   "execution_count": null,
   "id": "ac16063f",
   "metadata": {},
   "outputs": [],
   "source": []
  },
  {
   "cell_type": "code",
   "execution_count": null,
   "id": "87fd8bca",
   "metadata": {},
   "outputs": [],
   "source": []
  },
  {
   "cell_type": "code",
   "execution_count": null,
   "id": "146f5cbe",
   "metadata": {},
   "outputs": [],
   "source": []
  }
 ],
 "metadata": {
  "kernelspec": {
   "display_name": "Python 3 (ipykernel)",
   "language": "python",
   "name": "python3"
  },
  "language_info": {
   "codemirror_mode": {
    "name": "ipython",
    "version": 3
   },
   "file_extension": ".py",
   "mimetype": "text/x-python",
   "name": "python",
   "nbconvert_exporter": "python",
   "pygments_lexer": "ipython3",
   "version": "3.8.18"
  }
 },
 "nbformat": 4,
 "nbformat_minor": 5
}
