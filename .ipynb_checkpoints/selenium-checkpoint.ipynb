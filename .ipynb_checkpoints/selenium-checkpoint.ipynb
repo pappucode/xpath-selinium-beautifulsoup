{
 "cells": [
  {
   "cell_type": "markdown",
   "id": "e4ffcb38",
   "metadata": {},
   "source": [
    "## Working with Selenium using Python"
   ]
  },
  {
   "cell_type": "code",
   "execution_count": 1,
   "id": "e939223e",
   "metadata": {},
   "outputs": [],
   "source": [
    "from selenium import webdriver\n",
    "from selenium.webdriver.chrome.service import Service\n",
    "from selenium.webdriver.common.keys import Keys\n",
    "from selenium.webdriver.support.ui import Select\n",
    "from selenium.common.exceptions import NoSuchElementException\n",
    "from selenium.webdriver.common.by import By\n",
    "from selenium.webdriver.support.ui import WebDriverWait\n",
    "from selenium.webdriver.support import expected_conditions as EC\n",
    "from selenium.webdriver.common.action_chains import ActionChains\n",
    "import pyautogui\n",
    "import time"
   ]
  },
  {
   "cell_type": "code",
   "execution_count": 2,
   "id": "44a514ed",
   "metadata": {},
   "outputs": [],
   "source": [
    "# https://www.youtube.com/watch?v=wI0KGYIiZyA&list=PLcxbJOVMGpYD_e0cVjS1DDA2Thfn_vqWJ&index=3&ab_channel=AutomationZone"
   ]
  },
  {
   "cell_type": "markdown",
   "id": "84807a0f",
   "metadata": {},
   "source": [
    "##### Basic Browser Commands"
   ]
  },
  {
   "cell_type": "code",
   "execution_count": 6,
   "id": "6ed54e74",
   "metadata": {},
   "outputs": [
    {
     "name": "stdout",
     "output_type": "stream",
     "text": [
      "Google\n",
      "https://www.google.com/\n"
     ]
    }
   ],
   "source": [
    "website = \"https://www.google.com/\"\n",
    "path = r\"C:\\Users\\Pappu\\Desktop\\books\\chromedriver-win64\\chromedriver.exe\"\n",
    "service = Service(path)\n",
    "\n",
    "driver = webdriver.Chrome(service=service)\n",
    "driver.get(website)\n",
    "\n",
    "# Get The title\n",
    "print(driver.title)\n",
    "\n",
    "# Get the current page URL\n",
    "current_url = driver.current_url\n",
    "print(current_url)\n",
    "\n",
    "# Get the page html source code\n",
    "# page_source = driver.page_source\n",
    "# print(page_source)\n",
    "\n",
    "# It will close only the parent window. If there is a window like pop up window, here driver.close() will not perform.\n",
    "# driver.close()\n",
    "\n",
    "# It will close all windows including pop-up windows\n",
    "driver.quit()"
   ]
  },
  {
   "cell_type": "code",
   "execution_count": 8,
   "id": "cfce6253",
   "metadata": {},
   "outputs": [
    {
     "name": "stdout",
     "output_type": "stream",
     "text": [
      "Main Website Title: Google\n",
      "Main Website  URL: https://www.google.com/\n",
      "Navigating Website2 title : Facebook – log in or sign up\n",
      "Navigating Website2 URL : https://www.facebook.com/\n",
      "Main Website title after back: Google\n",
      "Main Website Website URL after back: https://www.google.com/\n",
      "Navigating Website2 title after forward: Facebook – log in or sign up\n",
      "Navigating Website2 URL after forward: https://www.facebook.com/\n"
     ]
    }
   ],
   "source": [
    "def get_page_info(url, chromedriver_path):\n",
    "    \n",
    "    # Set up the Chrome driver\n",
    "    service = Service(chromedriver_path)\n",
    "    driver = webdriver.Chrome(service=service)\n",
    "\n",
    "    try:\n",
    "        # Open the specified website\n",
    "        driver.get(url)\n",
    "        \n",
    "        # Maximize the window\n",
    "        driver.maximize_window\n",
    "        \n",
    "        # Get the title\n",
    "        title = driver.title\n",
    "        print(\"Main Website Title:\", title)\n",
    "\n",
    "        # Get the current page URL\n",
    "        current_url = driver.current_url\n",
    "        print(\"Main Website  URL:\", current_url)\n",
    "\n",
    "        # Get the page HTML source code\n",
    "        #page_source = driver.page_source\n",
    "        #print(\"HTML Source:\\n\", page_source)\n",
    "        \n",
    "        time.sleep(2)        \n",
    "        driver.get(website2)\n",
    "        print(\"Navigating Website2 title :\", driver.title)\n",
    "        print(\"Navigating Website2 URL :\", driver.current_url)\n",
    "        \n",
    "        time.sleep(2)\n",
    "        driver.back()\n",
    "        print(\"Main Website title after back:\", driver.title)\n",
    "        print(\"Main Website Website URL after back:\", driver.current_url)\n",
    "        \n",
    "        time.sleep(2)\n",
    "        driver.forward()\n",
    "        print(\"Navigating Website2 title after forward:\", driver.title)\n",
    "        print(\"Navigating Website2 URL after forward:\", driver.current_url)\n",
    "        \n",
    "            \n",
    "    finally:\n",
    "        driver.quit()\n",
    "\n",
    "\n",
    "website = \"https://www.google.com/\"\n",
    "website2 = \"https://www.fb.com/\"\n",
    "chromedriver_path = r\"C:\\Users\\Pappu\\Desktop\\books\\chromedriver-win64\\chromedriver.exe\"\n",
    "\n",
    "get_page_info(website, chromedriver_path)"
   ]
  },
  {
   "cell_type": "code",
   "execution_count": 9,
   "id": "05820a8d",
   "metadata": {},
   "outputs": [],
   "source": [
    "def get_page_info1(url, chromedriver_path):\n",
    "    \n",
    "    # Set up the Chrome driver\n",
    "    service = Service(chromedriver_path)\n",
    "    driver = webdriver.Chrome(service=service)\n",
    "\n",
    "    try:\n",
    "        # Open the specified website\n",
    "        driver.get(url)\n",
    "        \n",
    "        # Maximize the window\n",
    "        driver.maximize_window()\n",
    "        \n",
    "        time.sleep(2)  \n",
    "        # Open a new blank window, after opening a new tab, all of the code below it working on new window, not previous one.\n",
    "        driver.execute_script(\"window.open('', '_blank');\")\n",
    "        # Switch to new window\n",
    "        driver.switch_to.window(driver.window_handles[1])  \n",
    "        driver.get(website2)\n",
    "        \n",
    "        time.sleep(2)  \n",
    "       # Open a new browser window using JavaScript\n",
    "        driver.execute_script(\"window.open('', '_blank');\")\n",
    "\n",
    "        # Switch to the new window\n",
    "        new_window_handle = driver.window_handles[-1]\n",
    "        driver.switch_to.window(new_window_handle) \n",
    "        driver.get(\"https://www.prothomalo.com/\")\n",
    "        \n",
    "        time.sleep(2)\n",
    "        # Get Back to new window again\n",
    "        driver.switch_to.window(driver.window_handles[0])    \n",
    "            \n",
    "    finally:\n",
    "        driver.quit()\n",
    "\n",
    "\n",
    "website = \"https://www.google.com/\"\n",
    "website2 = \"https://www.fb.com/\"\n",
    "chromedriver_path = r\"C:\\Users\\Pappu\\Desktop\\books\\chromedriver-win64\\chromedriver.exe\"\n",
    "\n",
    "get_page_info1(website, chromedriver_path)\n"
   ]
  },
  {
   "cell_type": "markdown",
   "id": "5706b6a9",
   "metadata": {},
   "source": [
    "##### Find Element using Location"
   ]
  },
  {
   "cell_type": "code",
   "execution_count": null,
   "id": "7f5c6000",
   "metadata": {},
   "outputs": [],
   "source": [
    "# https://opensource-demo.orangehrmlive.com/web/index.php/auth/login"
   ]
  },
  {
   "cell_type": "markdown",
   "id": "94c37553",
   "metadata": {},
   "source": [
    "![Selenium Locators](selenium_locators.png)"
   ]
  },
  {
   "cell_type": "code",
   "execution_count": null,
   "id": "7f13019a",
   "metadata": {},
   "outputs": [],
   "source": [
    "def get_page_info2(url, chromedriver_path):\n",
    "    \n",
    "    # Set up the Chrome driver\n",
    "    service = Service(chromedriver_path)\n",
    "    driver = webdriver.Chrome(service=service)\n",
    "\n",
    "    try:\n",
    "        driver.get(url)\n",
    "        driver.maximize_window()\n",
    "        time.sleep(5)\n",
    "        \n",
    "        # Select by name\n",
    "        # Username\n",
    "        username = driver.find_element(\"name\", \"username\")\n",
    "        username.send_keys('Admin')\n",
    "        time.sleep(2)\n",
    "        # Password\n",
    "        driver.find_element(\"name\", \"password\").send_keys(\"admin123\")\n",
    "        time.sleep(2)\n",
    "        \n",
    "        # ClassName and TagName\n",
    "        ## Do not use class for identifying a single object, because same class may be used by many HTML tag\n",
    "        ## Do not use tagname also for identifying a single object, class and tagname will be preferable when need to identify total number of links or images in the page.\n",
    "        #driver.find_element('class name', \"oxd-button\").click()\n",
    "        driver.find_element('xpath', \"//button[@type='submit']\").click()\n",
    "        time.sleep(2)\n",
    "        \n",
    "        ## link text and partial link text are only used with the link(anchor tag <a>). link text or Partial link text only support for <a> element. It doesn't support other element.\n",
    "        driver.find_element('link text', 'Admin').click()\n",
    "        time.sleep(5)\n",
    "        driver.find_element('partial link text', 'Dashb').click()\n",
    "        time.sleep(5) \n",
    "        \n",
    "    except NoSuchElementException as e:\n",
    "        # Handle the exception (print an error, log it, etc.)\n",
    "        print(f\"Element not found: {e}\")\n",
    "        \n",
    "            \n",
    "    finally:\n",
    "        driver.quit()\n",
    "\n",
    "\n",
    "website = \"https://opensource-demo.orangehrmlive.com/web/index.php/auth/login\"\n",
    "\n",
    "chromedriver_path = r\"C:\\Users\\Pappu\\Desktop\\books\\chromedriver-win64\\chromedriver.exe\"\n",
    "\n",
    "get_page_info2(website, chromedriver_path)"
   ]
  },
  {
   "cell_type": "markdown",
   "id": "36d0c20a",
   "metadata": {},
   "source": [
    "##### Invisible and Inactive elements "
   ]
  },
  {
   "cell_type": "code",
   "execution_count": null,
   "id": "c0c7b87d",
   "metadata": {},
   "outputs": [],
   "source": [
    "# https://theautomationzone.blogspot.com/2020/06/visibile-and-hidden-webelements.html"
   ]
  },
  {
   "cell_type": "code",
   "execution_count": 15,
   "id": "2964bfbc",
   "metadata": {},
   "outputs": [
    {
     "name": "stdout",
     "output_type": "stream",
     "text": [
      "True\n"
     ]
    }
   ],
   "source": [
    "def get_page_info3(url, chromedriver_path):\n",
    "    \n",
    "    # Set up the Chrome driver\n",
    "    service = Service(chromedriver_path)\n",
    "    driver = webdriver.Chrome(service=service)\n",
    "\n",
    "    try:\n",
    "        driver.get(url)\n",
    "        driver.maximize_window()\n",
    "        time.sleep(5)\n",
    " \n",
    "        ## Invisible\n",
    "#         hide = driver.find_element(\"id\", \"hide\").is_displayed())\n",
    "#         time.sleep(2)\n",
    "#         driver.find_element(\"id\", \"hide\").click()\n",
    "#         time.sleep(2)\n",
    "#         print(driver.find_element(\"id\", \"hide\").is_displayed())\n",
    "#         time.sleep(2)\n",
    "\n",
    "        \n",
    "        if driver.find_element(\"id\", \"hide\").is_displayed():\n",
    "            print(\"True\")\n",
    "            time.sleep(2)\n",
    "            driver.find_element(\"id\", \"hide\").click()\n",
    "            time.sleep(2)\n",
    "        else:\n",
    "            print(\"Button is not displayed.\")\n",
    "        \n",
    "        ## Disable\n",
    "#         print(driver.find_element('id', 'button1').is_enabled())\n",
    "#         time.sleep(1)\n",
    "#         print(driver.find_element('id', 'button2').is_enabled())\n",
    "\n",
    "        if driver.find_element('id', 'button1').is_enabled():\n",
    "            driver.find_element('id', 'button1').click()\n",
    "            \n",
    "        \n",
    "    except NoSuchElementException as e:\n",
    "        # Handle the exception (print an error, log it, etc.)\n",
    "        print(f\"Element not found: {e}\")\n",
    "        \n",
    "            \n",
    "    finally:\n",
    "        driver.quit()\n",
    "\n",
    "\n",
    "website = \"https://theautomationzone.blogspot.com/2020/06/visibile-and-hidden-webelements.html\"\n",
    "\n",
    "chromedriver_path = r\"C:\\Users\\Pappu\\Desktop\\books\\chromedriver-win64\\chromedriver.exe\"\n",
    "\n",
    "get_page_info3(website, chromedriver_path)"
   ]
  },
  {
   "cell_type": "markdown",
   "id": "d80062bc",
   "metadata": {},
   "source": [
    "##### Radio buttons and Check boxes"
   ]
  },
  {
   "cell_type": "code",
   "execution_count": null,
   "id": "0d7d3f14",
   "metadata": {},
   "outputs": [],
   "source": [
    "# https://theautomationzone.blogspot.com/2020/06/simple-checkbox-and-radio-buttons.html"
   ]
  },
  {
   "cell_type": "code",
   "execution_count": 18,
   "id": "724c1ab0",
   "metadata": {},
   "outputs": [],
   "source": [
    "def get_page_info4(url, chromedriver_path):\n",
    "    \n",
    "    # Set up the Chrome driver\n",
    "    service = Service(chromedriver_path)\n",
    "    driver = webdriver.Chrome(service=service)\n",
    "\n",
    "    try:\n",
    "        driver.get(url)\n",
    "        driver.maximize_window()\n",
    "        time.sleep(3)\n",
    "        \n",
    "        # CheckBox\n",
    "#         print(driver.find_element('id', 'myCheck').is_selected())\n",
    "#         time.sleep(2)\n",
    "#         driver.find_element('id', 'myCheck').click()\n",
    "#         time.sleep(2)\n",
    "#         print(driver.find_element('id', 'myCheck').is_selected())\n",
    "        check = driver.find_element('id', 'myCheck').is_selected()\n",
    "        if check == False:\n",
    "            driver.find_element('id', 'myCheck').click()   \n",
    "            time.sleep(2)\n",
    "            \n",
    "            ## Radio Button\n",
    "            driver.find_element('id', 'gc').click()\n",
    "            time.sleep(2)\n",
    "        else:\n",
    "            driver.find_element('id', 'myCheck').click() \n",
    "        \n",
    "    except NoSuchElementException as e:\n",
    "        print(f\"Element not found: {e}\")\n",
    "        \n",
    "            \n",
    "    finally:\n",
    "        driver.quit()\n",
    "\n",
    "\n",
    "website = \"https://theautomationzone.blogspot.com/2020/06/simple-checkbox-and-radio-buttons.html\"\n",
    "\n",
    "chromedriver_path = r\"C:\\Users\\Pappu\\Desktop\\books\\chromedriver-win64\\chromedriver.exe\"\n",
    "\n",
    "get_page_info4(website, chromedriver_path)"
   ]
  },
  {
   "cell_type": "markdown",
   "id": "b1a85b59",
   "metadata": {},
   "source": [
    "##### Dropdowns and Multi Select Element or the Select Class"
   ]
  },
  {
   "cell_type": "code",
   "execution_count": null,
   "id": "8ac6bed6",
   "metadata": {},
   "outputs": [],
   "source": [
    "# https://theautomationzone.blogspot.com/2020/07/basic-dropdown.html"
   ]
  },
  {
   "cell_type": "code",
   "execution_count": 32,
   "id": "266541d1",
   "metadata": {},
   "outputs": [
    {
     "name": "stdout",
     "output_type": "stream",
     "text": [
      "Selected option: Volvo\n",
      "Selected option: Saab\n",
      "Selected option: Opel\n"
     ]
    }
   ],
   "source": [
    "def get_page_info5(url, chromedriver_path):\n",
    "    \n",
    "    # Set up the Chrome driver\n",
    "    service = Service(chromedriver_path)\n",
    "    driver = webdriver.Chrome(service=service)\n",
    "\n",
    "    try:\n",
    "        driver.get(url)\n",
    "        driver.maximize_window()\n",
    "        time.sleep(3)\n",
    "        \n",
    "        ## Select will only work when html has select tag, like the \"link text and the partial link text\"\n",
    "        ## One way selecting Dropdown (By Index)\n",
    "#         dropdown_elem = driver.find_element('id', 'mySelect')\n",
    "#         dropdown = Select(dropdown_elem)\n",
    "#         dropdown.select_by_index(1)\n",
    "#         selected_option = dropdown.first_selected_option.text\n",
    "#         print(f\"Selected option: {selected_option}\")\n",
    "#         time.sleep(3)\n",
    "        \n",
    "        ## Another way of selecting Dropdown (By visible_text)\n",
    "#         dropdown = Select(driver.find_element('id', 'mySelect'))\n",
    "#         dropdown.select_by_visible_text(\"Banana\")\n",
    "#         selected_option = dropdown.first_selected_option.text\n",
    "#         print(f\"Selected option: {selected_option}\")\n",
    "#         time.sleep(3)\n",
    "        \n",
    "        ## Another way of selecting Dropdown (By selecting the value)\n",
    "#         dropdown = Select(driver.find_element('id', 'mySelect'))\n",
    "#         dropdown.select_by_value(\"orange\")\n",
    "#         selected_option = dropdown.first_selected_option.text\n",
    "#         print(f\"Selected option: {selected_option}\")\n",
    "#         time.sleep(3)\n",
    "        \n",
    "        ## Print all From the dropdown\n",
    "#         dropdown = Select(driver.find_element('id', 'mySelect'))\n",
    "#         all_options = dropdown.options\n",
    "        \n",
    "#         for option in all_options:\n",
    "#             print(f\"Option: {option.text}\")\n",
    "#             time.sleep(1)\n",
    "\n",
    "\n",
    "#         ## Multi Select\n",
    "        dropdown = Select(driver.find_element('id', 'cars'))\n",
    "        # By Index\n",
    "#         dropdown.select_by_index(0)\n",
    "#         dropdown.select_by_index(1)\n",
    "#         dropdown.select_by_index(2)\n",
    "        \n",
    "#         #By visible_text\n",
    "#         dropdown.select_by_visible_text(\"Volvo\")\n",
    "#         dropdown.select_by_visible_text(\"Saab\")\n",
    "#         dropdown.select_by_visible_text(\"Audi\")\n",
    "\n",
    "#         #By option value\n",
    "        dropdown.select_by_value(\"volvo\")\n",
    "        dropdown.select_by_value(\"saab\")\n",
    "        dropdown.select_by_value(\"opel\")\n",
    "        time.sleep(3)\n",
    "#         # Print all of them\n",
    "        selected_options = dropdown.all_selected_options\n",
    "        for option in selected_options:\n",
    "            print(f\"Selected option: {option.text}\")\n",
    "    \n",
    "    except NoSuchElementException as e:\n",
    "        print(f\"Element not found: {e}\")        \n",
    "            \n",
    "    finally:\n",
    "        driver.quit()\n",
    "\n",
    "website = \"https://theautomationzone.blogspot.com/2020/07/basic-dropdown.html\"\n",
    "\n",
    "chromedriver_path = r\"C:\\Users\\Pappu\\Desktop\\books\\chromedriver-win64\\chromedriver.exe\"\n",
    "\n",
    "get_page_info5(website, chromedriver_path)"
   ]
  },
  {
   "cell_type": "markdown",
   "id": "aa7b4a60",
   "metadata": {},
   "source": [
    "##### GetText, get value and get Attributes from WebElements"
   ]
  },
  {
   "cell_type": "code",
   "execution_count": null,
   "id": "e0bb317c",
   "metadata": {},
   "outputs": [],
   "source": [
    "# https://theautomationzone.blogspot.com/2020/07/mix-of-basic-webelements.html"
   ]
  },
  {
   "cell_type": "code",
   "execution_count": 44,
   "id": "61d7eff7",
   "metadata": {},
   "outputs": [
    {
     "name": "stdout",
     "output_type": "stream",
     "text": [
      "This is an example of paragraphs\n",
      "This paragraph contains a lot of lines in the source code, but the browser ignores it.\n",
      "This paragraph contains a lot of spaces in the source code, but the browser ignores it.\n",
      "This is an example of paragraphs with a span inside\n",
      "\n",
      "This paragraph\n",
      "contains a lot of lines\n",
      "in the source code,\n",
      "but the browser\n",
      "ignores it.\n",
      "\n",
      "\n",
      "This paragraph\n",
      "contains         a lot of spaces\n",
      "in the source         code,\n",
      "but the        browser\n",
      "ignores it.\n",
      "\n",
      "This is           an example of paragraphs                with a span inside\n",
      "This is           an <span>example</span> of paragraphs                with a span inside\n",
      "Pappu Akondo\n",
      "Rabiul Islam\n",
      "user-id\n",
      "pass\n",
      "password\n",
      "https://www.google.com/\n",
      "apple\n"
     ]
    }
   ],
   "source": [
    "def get_page_info4(url, chromedriver_path):\n",
    "    \n",
    "    # Set up the Chrome driver\n",
    "    service = Service(chromedriver_path)\n",
    "    driver = webdriver.Chrome(service=service)\n",
    "\n",
    "    try:\n",
    "        driver.get(url)\n",
    "        driver.maximize_window()\n",
    "        time.sleep(3)\n",
    "        \n",
    "        print(driver.find_element('id', 'h1').text)\n",
    "        # Selenium Ignore the space or line breaks in the source code\n",
    "        print(driver.find_element('id', 'p1').text)\n",
    "        print(driver.find_element('id', 'p2').text)\n",
    "        # Selenium ignore the other tags like span tag and provide the exact text like in browser\n",
    "        print(driver.find_element('id', 'p3').text)\n",
    "        \n",
    "        #  If you want to get the text content of a specific attribute\n",
    "        print(driver.find_element('id', 'p1').get_attribute(\"textContent\"))\n",
    "        print(driver.find_element('id', 'p2').get_attribute(\"textContent\"))\n",
    "        print(driver.find_element('id', 'p3').get_attribute(\"textContent\"))\n",
    "        \n",
    "        # Print the text with HTML tag \n",
    "        print(driver.find_element('id', 'p3').get_attribute(\"innerHTML\"))\n",
    "        \n",
    "        # Get Value from input and dropdown\n",
    "        driver.find_element('id', 'input1').send_keys(\"Pappu Akondo\")\n",
    "        print(driver.find_element('id', 'input1').get_attribute(\"value\"))\n",
    "        \n",
    "        driver.find_element('id', 'input1').clear()\n",
    "        \n",
    "        driver.find_element('id', 'input1').send_keys(\"Rabiul Islam\")\n",
    "        print(driver.find_element('id', 'input1').get_attribute(\"value\"))     \n",
    "        print(driver.find_element('id', 'input1').get_attribute(\"name\"))\n",
    "        \n",
    "        # Print name and type and href\n",
    "        print(driver.find_element('id', 'input2').get_attribute(\"name\"))       \n",
    "        print(driver.find_element('id', 'input2').get_attribute(\"type\"))\n",
    "        \n",
    "        print(driver.find_element('id', 'link').get_attribute(\"href\"))\n",
    "        \n",
    "        # Get Value from dropdown\n",
    "        print(driver.find_element('id', 'mySelect').get_attribute(\"value\"))\n",
    "        \n",
    "        \n",
    "        \n",
    "    except NoSuchElementException as e:\n",
    "        print(f\"Element not found: {e}\")\n",
    "        \n",
    "            \n",
    "    finally:\n",
    "        driver.quit()\n",
    "\n",
    "\n",
    "website = \"https://theautomationzone.blogspot.com/2020/07/mix-of-basic-webelements.html\"\n",
    "\n",
    "chromedriver_path = r\"C:\\Users\\Pappu\\Desktop\\books\\chromedriver-win64\\chromedriver.exe\"\n",
    "\n",
    "get_page_info4(website, chromedriver_path)"
   ]
  },
  {
   "cell_type": "markdown",
   "id": "77cddde3",
   "metadata": {},
   "source": [
    "#####  FindElements, List of WebElements, Handling Multiple WebElements"
   ]
  },
  {
   "cell_type": "code",
   "execution_count": null,
   "id": "100e7ec9",
   "metadata": {},
   "outputs": [],
   "source": [
    "# http://newtours.demoaut.com/\n",
    "# https://www.amazon.in/"
   ]
  },
  {
   "cell_type": "markdown",
   "id": "3555702a",
   "metadata": {},
   "source": [
    "##### This is image contain code in java.  Convert this for python \n",
    "![Webelements](webelements.png)"
   ]
  },
  {
   "cell_type": "code",
   "execution_count": 45,
   "id": "afc486d0",
   "metadata": {},
   "outputs": [
    {
     "name": "stdout",
     "output_type": "stream",
     "text": [
      "39\n",
      "Delivering to Mumbai 400001\n",
      "                \n",
      "                \n",
      "                   Update location\n",
      "EN\n",
      "Hello, sign in\n",
      "  Account & Lists\n",
      "Returns\n",
      "  & Orders\n",
      "0\n",
      "      \n",
      "    \n",
      "    \n",
      "      \n",
      "         \n",
      "      \n",
      "      \n",
      "        Cart\n",
      "Start here.\n",
      "Start here.\n",
      "Fresh\n",
      "Amazon miniTV\n",
      "Sell\n",
      "Best Sellers\n",
      "Mobiles\n",
      "Today's Deals\n",
      "Electronics\n",
      "Customer Service\n",
      "New Releases\n",
      "Prime\n",
      "Gift Ideas\n",
      "Home & Kitchen\n",
      "Fashion\n",
      "Amazon Pay\n",
      "Computers\n",
      "Books\n",
      "Car & Motorbike\n",
      "Toys & Games\n",
      "Home Improvement\n",
      "Sports, Fitness & Outdoors\n",
      "Beauty & Personal Care\n",
      "Coupons\n",
      "Health, Household & Personal Care\n",
      "Gift Cards\n",
      "Grocery & Gourmet Foods\n",
      "Video Games\n",
      "Subscribe & Save\n",
      "Baby\n",
      "Audible\n",
      "Pet Supplies\n",
      "AmazonBasics\n",
      "Custom Products\n"
     ]
    }
   ],
   "source": [
    "def get_page_info4(url, chromedriver_path):\n",
    "    \n",
    "    # Set up the Chrome driver\n",
    "    service = Service(chromedriver_path)\n",
    "    driver = webdriver.Chrome(service=service)\n",
    "\n",
    "    try:\n",
    "        driver.get(url)\n",
    "        time.sleep(3)\n",
    "        driver.maximize_window()\n",
    "        time.sleep(3)\n",
    "        \n",
    "        navNames = driver.find_elements(By.CLASS_NAME, 'nav-a')\n",
    "        print(len(navNames))\n",
    "        \n",
    "        for name in navNames:\n",
    "            #print(name.text)\n",
    "            print(name.get_attribute(\"textContent\").strip())\n",
    "            time.sleep(1)\n",
    "        \n",
    "    except NoSuchElementException as e:\n",
    "        print(f\"Element not found: {e}\")\n",
    "        \n",
    "            \n",
    "    finally:\n",
    "        driver.quit()\n",
    "\n",
    "\n",
    "website = \"https://www.amazon.in/\"\n",
    "\n",
    "chromedriver_path = r\"C:\\Users\\Pappu\\Desktop\\books\\chromedriver-win64\\chromedriver.exe\"\n",
    "\n",
    "get_page_info4(website, chromedriver_path)"
   ]
  },
  {
   "cell_type": "markdown",
   "id": "caf36565",
   "metadata": {},
   "source": [
    "##### Complete CSS from Basic to Advance | CSS Functions | CSS Contains | CSS Siblings"
   ]
  },
  {
   "cell_type": "code",
   "execution_count": null,
   "id": "f18d019f",
   "metadata": {},
   "outputs": [],
   "source": [
    "# https://theautomationzone.blogspot.com/2020/07/css-selector-practice.html"
   ]
  },
  {
   "cell_type": "raw",
   "id": "6aefe348",
   "metadata": {},
   "source": [
    "# Identify an element using ID\n",
    "\n",
    "# #ID   - Find Element by it's ID\n",
    "# .Class  - Find Element by its class\n",
    "# Tag          - just the tag name\n",
    "\n",
    "# Tag#ID   - Tag having an ID\n",
    "# Tag.Class  - Tag having a class\n",
    "\n",
    "# Tag[attr=value]  - General syntax\n",
    "# Tag[id=value]\n",
    "# Tag[class=value]\n",
    "# Tag[name=value]\n",
    "\n",
    "# Tag[attr=value] &gt Tag[attr=value]\n",
    "\n",
    "# input[id^='ema']  - Starts with\n",
    "# input[id$='mail']   - Ends with\n",
    "# css=input[id*='mai'] - Contains\n",
    "# [attr operator value i] - case insensitive\n",
    "\n",
    "# A ~ B  -  following sibling\n",
    "# A + B  -  directly following sibling\n",
    "# A || B  - combinator selects nodes which belong to a column\n",
    "\n",
    "## Multiple Attribute Matches ( No Space )\n",
    "# Tag[attr1=value1][attr2=value2]"
   ]
  },
  {
   "cell_type": "markdown",
   "id": "1450ea57",
   "metadata": {},
   "source": [
    "##### Synchronization | Implicit Wait | Explicit Wait | Fluent wait"
   ]
  },
  {
   "cell_type": "raw",
   "id": "d35ef84e",
   "metadata": {},
   "source": [
    "## Python and Selenium Wait Mechanism\n",
    "\n",
    "# Python\n",
    "# time.sleep(), It called the default python wait. It;s the hard way to for the waiting. Like if I write time.sleep(5), it must wait for the 5 second.\n",
    "\n",
    "# Implicitly wait\n",
    "# driver.Implicitly_wait(10) it is the global wait for the script in selenium. It will be applied for all of the code where wait is necessary. It is the smart way for waiting. Like if any element need 3 second to be visible. It wait for the 3 second, then go to next line of code, though the maximum wait given in the parameter is 10. It has disadvantage also, like I have 10 elements to be found, among them 5 elements are corrupted. For this reason we have to wait at least 50 seconds. On the other hand some elements may take more then 10 second, in this case we have encoutered by errors. To solve this problem we can use implicitly wait and explicitly wait conbinely.(For those element where we need to wait more then 10 second, we will use explicitly wait and other will use implicitly wait as a global wait.)\n",
    "\n",
    "# Explicitly wait\n",
    "# WebDriverWait(driver, timeout=10)\n",
    "It also a smart way of waiting in selenium. When you use both, the explicit wait will take precedence over the implicit wait for the specific conditions you are waiting for.\n",
    "\n",
    "# Fluent wait\n",
    "# WebDriverWait(driver, timeout=30, poll_frequency=2, ignored_exceptions=[NoSuchElementException])\n",
    "# It is the more smarter way and update version of explicitly wait. Here we can provide more time. Beacuse poll frequency (here provide 2) will consistenly check for that the element is selectable or not with a interval of 2 second. If element is selectable it will stop for waiting and execute the code."
   ]
  },
  {
   "cell_type": "code",
   "execution_count": null,
   "id": "70f293a5",
   "metadata": {},
   "outputs": [],
   "source": [
    "# https://theautomationzone.blogspot.com/2022/08/dynamic-elements-synchronization.html"
   ]
  },
  {
   "cell_type": "markdown",
   "id": "e1d1a396",
   "metadata": {},
   "source": [
    "###### Implicitly wait"
   ]
  },
  {
   "cell_type": "code",
   "execution_count": 46,
   "id": "c4e87ce9",
   "metadata": {},
   "outputs": [],
   "source": [
    "def get_page_info4(url, chromedriver_path):\n",
    "    \n",
    "    # Set up the Chrome driver\n",
    "    service = Service(chromedriver_path)\n",
    "    driver = webdriver.Chrome(service=service)\n",
    "\n",
    "    try:\n",
    "        driver.get(url)\n",
    "        driver.implicitly_wait(10)\n",
    "        driver.maximize_window()\n",
    "        \n",
    "        driver.find_element(By.XPATH, \"//button[text()='Show Message']\").click() \n",
    "        driver.find_element(By.XPATH, \"//p[text()='This message is shown immediately']\").click()  \n",
    "        \n",
    "        \n",
    "        driver.find_element(By.XPATH, \"//button[text()='Show Message with small delay']\").click() \n",
    "        driver.find_element(By.XPATH, \"//p[text()='This message is shown with small delay']\").click() \n",
    "        \n",
    "        driver.find_element(By.XPATH, \"//button[text()='Show Message with huge delay']\").click() \n",
    "        driver.find_element(By.XPATH, \"//p[text()='This message is shown with huge delay']\").click() \n",
    "    \n",
    "        time.sleep(3)\n",
    "        \n",
    "    except NoSuchElementException as e:\n",
    "        print(f\"Element not found: {e}\")\n",
    "        \n",
    "            \n",
    "    finally:\n",
    "        driver.quit()\n",
    "\n",
    "\n",
    "website = \"https://theautomationzone.blogspot.com/2022/08/dynamic-elements-synchronization.html\"\n",
    "\n",
    "chromedriver_path = r\"C:\\Users\\Pappu\\Desktop\\books\\chromedriver-win64\\chromedriver.exe\"\n",
    "\n",
    "get_page_info4(website, chromedriver_path)"
   ]
  },
  {
   "cell_type": "markdown",
   "id": "d5342eb5",
   "metadata": {},
   "source": [
    "###### Use Implicitly wait with Explicitly wait"
   ]
  },
  {
   "cell_type": "code",
   "execution_count": 47,
   "id": "1a0c5748",
   "metadata": {},
   "outputs": [],
   "source": [
    "def get_page_info4(url, chromedriver_path):\n",
    "    \n",
    "    # Set up the Chrome driver\n",
    "    service = Service(chromedriver_path)\n",
    "    driver = webdriver.Chrome(service=service)\n",
    "\n",
    "    try:\n",
    "        driver.get(url)\n",
    "        driver.implicitly_wait(10)\n",
    "        driver.maximize_window()\n",
    "        \n",
    "        driver.find_element(By.XPATH, \"//button[text()='Show Message']\").click() \n",
    "        driver.find_element(By.XPATH, \"//p[text()='This message is shown immediately']\").click()  \n",
    "        \n",
    "        \n",
    "        driver.find_element(By.XPATH, \"//button[text()='Show Message with small delay']\").click() \n",
    "        driver.find_element(By.XPATH, \"//p[text()='This message is shown with small delay']\").click() \n",
    "        \n",
    "        driver.find_element(By.XPATH, \"//button[text()='Show Message with huge delay']\").click() \n",
    "        \n",
    "        wait = WebDriverWait(driver, 20)\n",
    "        button = wait.until(\n",
    "            EC.element_to_be_clickable((By.XPATH, \"//p[text()='This message is shown with huge delay']\")))\n",
    "        button.click()\n",
    "\n",
    "        driver.find_element(By.XPATH, \"//button[text() = 'The button is enabled after a delay']\").click()\n",
    "        wait.until(EC.element_to_be_clickable((By.XPATH, \"//button[text()='BUTTON']\"))).click()\n",
    "        \n",
    "        time.sleep(3)\n",
    "        \n",
    "    except NoSuchElementException as e:\n",
    "        print(f\"Element not found: {e}\")\n",
    "        \n",
    "            \n",
    "    finally:\n",
    "        driver.quit()\n",
    "\n",
    "\n",
    "website = \"https://theautomationzone.blogspot.com/2022/08/dynamic-elements-synchronization.html\"\n",
    "\n",
    "chromedriver_path = r\"C:\\Users\\Pappu\\Desktop\\books\\chromedriver-win64\\chromedriver.exe\"\n",
    "\n",
    "get_page_info4(website, chromedriver_path)"
   ]
  },
  {
   "cell_type": "markdown",
   "id": "a073150c",
   "metadata": {},
   "source": [
    "###### Use Implicitly wait with Fluent wait"
   ]
  },
  {
   "cell_type": "code",
   "execution_count": 48,
   "id": "86f03573",
   "metadata": {},
   "outputs": [],
   "source": [
    "def get_page_info4(url, chromedriver_path):\n",
    "    \n",
    "    # Set up the Chrome driver\n",
    "    service = Service(chromedriver_path)\n",
    "    driver = webdriver.Chrome(service=service)\n",
    "\n",
    "    try:\n",
    "        driver.get(url)\n",
    "        driver.implicitly_wait(10)\n",
    "        driver.maximize_window()\n",
    "        \n",
    "        driver.find_element(By.XPATH, \"//button[text()='Show Message']\").click() \n",
    "        driver.find_element(By.XPATH, \"//p[text()='This message is shown immediately']\").click()  \n",
    "        \n",
    "        \n",
    "        driver.find_element(By.XPATH, \"//button[text()='Show Message with small delay']\").click() \n",
    "        driver.find_element(By.XPATH, \"//p[text()='This message is shown with small delay']\").click() \n",
    "        \n",
    "        driver.find_element(By.XPATH, \"//button[text()='Show Message with huge delay']\").click() \n",
    "        \n",
    "        wait = WebDriverWait(driver, timeout = 30, poll_frequency = 2, ignored_exceptions=[NoSuchElementException])\n",
    "        button = wait.until(\n",
    "            EC.element_to_be_clickable((By.XPATH, \"//p[text()='This message is shown with huge delay']\")))\n",
    "        button.click()\n",
    "\n",
    "        driver.find_element(By.XPATH, \"//button[text() = 'The button is enabled after a delay']\").click()\n",
    "        wait.until(EC.element_to_be_clickable((By.XPATH, \"//button[text()='BUTTON']\"))).click()\n",
    "        \n",
    "        time.sleep(3)\n",
    "        \n",
    "    except NoSuchElementException as e:\n",
    "        print(f\"Element not found: {e}\")\n",
    "        \n",
    "            \n",
    "    finally:\n",
    "        driver.quit()\n",
    "\n",
    "\n",
    "website = \"https://theautomationzone.blogspot.com/2022/08/dynamic-elements-synchronization.html\"\n",
    "\n",
    "chromedriver_path = r\"C:\\Users\\Pappu\\Desktop\\books\\chromedriver-win64\\chromedriver.exe\"\n",
    "\n",
    "get_page_info4(website, chromedriver_path)"
   ]
  },
  {
   "cell_type": "markdown",
   "id": "d0c69534",
   "metadata": {},
   "source": [
    "#### Switching iFrames"
   ]
  },
  {
   "cell_type": "code",
   "execution_count": null,
   "id": "9e39c498",
   "metadata": {},
   "outputs": [],
   "source": [
    "# https://theautomationzone.blogspot.com/2022/08/handling-frames.html"
   ]
  },
  {
   "cell_type": "code",
   "execution_count": 49,
   "id": "7dd5ef37",
   "metadata": {},
   "outputs": [
    {
     "name": "stdout",
     "output_type": "stream",
     "text": [
      "Parent Iframe\n",
      "child Iframe\n",
      "Default Page\n",
      "Parent Iframe\n"
     ]
    }
   ],
   "source": [
    "def get_page_info4(url, chromedriver_path):\n",
    "    \n",
    "    # Set up the Chrome driver\n",
    "    service = Service(chromedriver_path)\n",
    "    driver = webdriver.Chrome(service=service)\n",
    "\n",
    "    try:\n",
    "        driver.get(url)\n",
    "        driver.implicitly_wait(10)\n",
    "        driver.maximize_window()\n",
    "        \n",
    "        # Switch to Frame1 using ID, it can also be done using name, Index, webElement\n",
    "        driver.switch_to.frame(\"frame1\")\n",
    "        print(driver.find_element(By.XPATH, \"//p[text()='Parent Iframe']\").text) \n",
    "        \n",
    "        # Switch to Frame2\n",
    "        driver.switch_to.frame(\"frame2\")\n",
    "        print(driver.find_element(By.XPATH, \"//p[text()='child Iframe']\").text) \n",
    "        \n",
    "        # Switch to main page\n",
    "        driver.switch_to.default_content()\n",
    "        print(driver.find_element(By.XPATH, \"//p[text()='Default Page']\").text) \n",
    "        \n",
    "        # Switch to a iFrame with help of webElement\n",
    "        driver.switch_to.frame(driver.find_element(By.XPATH, \"//iframe[@id='frame1']\"))\n",
    "        print(driver.find_element(By.XPATH, \"//p[text()='Parent Iframe']\").text) \n",
    "        \n",
    "        time.sleep(3)\n",
    "        \n",
    "    except NoSuchElementException as e:\n",
    "        print(f\"Element not found: {e}\")\n",
    "        \n",
    "            \n",
    "    finally:\n",
    "        driver.quit()\n",
    "\n",
    "\n",
    "website = \"https://theautomationzone.blogspot.com/2022/08/handling-frames.html\"\n",
    "\n",
    "chromedriver_path = r\"C:\\Users\\Pappu\\Desktop\\books\\chromedriver-win64\\chromedriver.exe\"\n",
    "\n",
    "get_page_info4(website, chromedriver_path)"
   ]
  },
  {
   "cell_type": "markdown",
   "id": "696cd5ac",
   "metadata": {},
   "source": [
    "# Handle Alerts"
   ]
  },
  {
   "cell_type": "code",
   "execution_count": null,
   "id": "2df11112",
   "metadata": {},
   "outputs": [],
   "source": [
    "# https://demoqa.com/alerts"
   ]
  },
  {
   "cell_type": "code",
   "execution_count": 55,
   "id": "9ae32127",
   "metadata": {},
   "outputs": [],
   "source": [
    "def get_page_info4(url, chromedriver_path):\n",
    "    \n",
    "    # Set up the Chrome driver\n",
    "    service = Service(chromedriver_path)\n",
    "    driver = webdriver.Chrome(service=service)\n",
    "\n",
    "    try:\n",
    "        driver.get(url)\n",
    "        driver.implicitly_wait(10)\n",
    "        driver.maximize_window()\n",
    "        \n",
    "        driver.find_element(By.ID, \"alertButton\").click()\n",
    "        time.sleep(3)\n",
    "        test_alert = driver.switch_to.alert\n",
    "        \n",
    "        # print the text of the alert\n",
    "        print(test_alert.text)\n",
    "        test_alert.accept()\n",
    "        \n",
    "#         driver.find_element(By.ID, \"confirmButton\").click()\n",
    "#         time.sleep(3)\n",
    "#         driver.switch_to.alert.dismiss()\n",
    "\n",
    "#         driver.find_element(By.ID, \"promtButton\").click()\n",
    "#         time.sleep(2)\n",
    "#         driver.switch_to.alert.send_keys(\"Automation\")\n",
    "#         time.sleep(2)\n",
    "#         driver.switch_to.alert.accept()\n",
    "        \n",
    "        \n",
    "#         driver.find_element(By.ID, \"timerAlertButton\").click()\n",
    "#         wait = WebDriverWait(driver, timeout = 30, poll_frequency = 2, ignored_exceptions=[NoSuchElementException])\n",
    "#         button = wait.until(EC.alert_is_present())\n",
    "#         time.sleep(3)\n",
    "#         button.accept()\n",
    "        \n",
    "        time.sleep(3)\n",
    "        \n",
    "    except NoSuchElementException as e:\n",
    "        print(f\"Element not found: {e}\")\n",
    "        \n",
    "            \n",
    "    finally:\n",
    "        driver.quit()\n",
    "\n",
    "\n",
    "website = \"https://demoqa.com/alerts\"\n",
    "\n",
    "chromedriver_path = r\"C:\\Users\\Pappu\\Desktop\\books\\chromedriver-win64\\chromedriver.exe\"\n",
    "\n",
    "get_page_info4(website, chromedriver_path)"
   ]
  },
  {
   "cell_type": "markdown",
   "id": "8f9b1e64",
   "metadata": {},
   "source": [
    "##### Switching Windows and Tabs "
   ]
  },
  {
   "cell_type": "code",
   "execution_count": null,
   "id": "a9d3c765",
   "metadata": {},
   "outputs": [],
   "source": [
    "# https://demoqa.com/browser-windows"
   ]
  },
  {
   "cell_type": "code",
   "execution_count": 61,
   "id": "4796ca6e",
   "metadata": {},
   "outputs": [
    {
     "name": "stdout",
     "output_type": "stream",
     "text": [
      "https://demoqa.com/browser-windows\n",
      "https://demoqa.com/sample\n"
     ]
    }
   ],
   "source": [
    "def get_page_info4(url, chromedriver_path):\n",
    "    \n",
    "    # Set up the Chrome driver\n",
    "    service = Service(chromedriver_path)\n",
    "    driver = webdriver.Chrome(service=service)\n",
    "\n",
    "    try:\n",
    "        driver.get(url)\n",
    "        driver.implicitly_wait(10)\n",
    "        driver.maximize_window()\n",
    "        \n",
    "        driver.find_element(By.ID, 'tabButton').click()\n",
    "        \n",
    "        # Get the handles of all open windows and print them\n",
    "        window_handles = driver.window_handles\n",
    "        for handle in window_handles:\n",
    "            driver.switch_to.window(handle)\n",
    "            print(\"Window Handle:\", handle)\n",
    "            print(\"Current URL:\", driver.current_url)\n",
    "            print(\"\")\n",
    "            \n",
    "        # Switch to a specific window using the handle like the first window\n",
    "#         driver.switch_to.window(window_handles[0])\n",
    "#         print(driver.current_url)\n",
    "        \n",
    "#         driver.switch_to.window(window_handles[1])\n",
    "#         print(driver.current_url)\n",
    "        \n",
    "        time.sleep(3)\n",
    "        \n",
    "    except NoSuchElementException as e:\n",
    "        print(f\"Element not found: {e}\")\n",
    "        \n",
    "            \n",
    "    finally:\n",
    "        driver.quit()\n",
    "\n",
    "\n",
    "website = \"https://demoqa.com/browser-windows\"\n",
    "\n",
    "chromedriver_path = r\"C:\\Users\\Pappu\\Desktop\\books\\chromedriver-win64\\chromedriver.exe\"\n",
    "\n",
    "\n",
    "get_page_info4(website, chromedriver_path)"
   ]
  },
  {
   "cell_type": "markdown",
   "id": "58a57341",
   "metadata": {},
   "source": [
    "##### Drag and Drop | Actions in Selenium"
   ]
  },
  {
   "cell_type": "code",
   "execution_count": null,
   "id": "d18b2829",
   "metadata": {},
   "outputs": [],
   "source": [
    "# https://demoqa.com/droppable"
   ]
  },
  {
   "cell_type": "code",
   "execution_count": 62,
   "id": "f0d07c8d",
   "metadata": {},
   "outputs": [],
   "source": [
    "def get_page_info4(url, chromedriver_path):\n",
    "    \n",
    "    # Set up the Chrome driver\n",
    "    service = Service(chromedriver_path)\n",
    "    driver = webdriver.Chrome(service=service)\n",
    "\n",
    "    try:\n",
    "        driver.get(url)\n",
    "        driver.implicitly_wait(10)\n",
    "        driver.maximize_window()\n",
    "        \n",
    "        draggable_element = driver.find_element(By.ID, \"draggable\")\n",
    "        droppable_element = driver.find_element(By.ID, \"droppable\")\n",
    "        \n",
    "        # Perform drag-and-drop using ActionChains\n",
    "        action_chains = ActionChains(driver)\n",
    "        action_chains.drag_and_drop(draggable_element, droppable_element).perform()\n",
    "\n",
    "        \n",
    "        time.sleep(3)\n",
    "        \n",
    "    except NoSuchElementException as e:\n",
    "        print(f\"Element not found: {e}\")\n",
    "        \n",
    "            \n",
    "    finally:\n",
    "        driver.quit()\n",
    "\n",
    "\n",
    "website = \"https://demoqa.com/droppable\"\n",
    "\n",
    "chromedriver_path = r\"C:\\Users\\Pappu\\Desktop\\books\\chromedriver-win64\\chromedriver.exe\"\n",
    "\n",
    "\n",
    "get_page_info4(website, chromedriver_path)"
   ]
  },
  {
   "cell_type": "markdown",
   "id": "e37c45ab",
   "metadata": {},
   "source": [
    "##### Tool Tip Verification | Actions in Selenium"
   ]
  },
  {
   "cell_type": "code",
   "execution_count": null,
   "id": "b6905f0d",
   "metadata": {},
   "outputs": [],
   "source": [
    "# https://demoqa.com/tool-tips\n",
    "# https://www.amazon.in/"
   ]
  },
  {
   "cell_type": "code",
   "execution_count": null,
   "id": "ba590c1d",
   "metadata": {},
   "outputs": [],
   "source": [
    "def get_page_info4(url, chromedriver_path):\n",
    "    \n",
    "    # Set up the Chrome driver\n",
    "    service = Service(chromedriver_path)\n",
    "    driver = webdriver.Chrome(service=service)\n",
    "\n",
    "    try:\n",
    "        driver.get(url)\n",
    "        driver.implicitly_wait(10)\n",
    "        driver.maximize_window()\n",
    "        \n",
    "        ## Website1\n",
    "        #print(driver.find_element(By.ID, \"searchDropdownBox\").get_attribute(\"title\"))\n",
    "        \n",
    "        # Perform drag-and-drop using ActionChains (Website2)\n",
    "        action_chains = ActionChains(driver)\n",
    "        action_chains.move_to_element(driver.find_element(By.ID, 'toolTipButton')).perform()\n",
    "        time.sleep(2)\n",
    "        print(driver.find_element(By.CLASS_NAME, 'tooltip-inner').text)\n",
    "        time.sleep(3)\n",
    "        \n",
    "    except NoSuchElementException as e:\n",
    "        print(f\"Element not found: {e}\")\n",
    "        \n",
    "            \n",
    "    finally:\n",
    "        driver.quit()\n",
    "\n",
    "\n",
    "website1 = \"https://www.amazon.in/\"\n",
    "website2 = \"https://demoqa.com/tool-tips\"\n",
    "chromedriver_path = r\"C:\\Users\\Pappu\\Desktop\\books\\chromedriver-win64\\chromedriver.exe\"\n",
    "\n",
    "\n",
    "get_page_info4(website2, chromedriver_path)"
   ]
  },
  {
   "cell_type": "markdown",
   "id": "193f35e2",
   "metadata": {},
   "source": [
    "##### Screenshots using Selenium and Robot Class"
   ]
  },
  {
   "cell_type": "code",
   "execution_count": null,
   "id": "f6e8026d",
   "metadata": {},
   "outputs": [],
   "source": [
    "# https://www.amazon.in/"
   ]
  },
  {
   "cell_type": "code",
   "execution_count": 69,
   "id": "96411ac1",
   "metadata": {},
   "outputs": [
    {
     "name": "stdout",
     "output_type": "stream",
     "text": [
      "Second Screenshot saved Successfully !!\n"
     ]
    }
   ],
   "source": [
    "import pyautogui\n",
    "def get_page_info4(url, chromedriver_path):\n",
    "    \n",
    "    # Set up the Chrome driver\n",
    "    service = Service(chromedriver_path)\n",
    "    driver = webdriver.Chrome(service=service)\n",
    "\n",
    "    try:\n",
    "        driver.get(url)\n",
    "        driver.implicitly_wait(10)\n",
    "        driver.maximize_window()\n",
    "        \n",
    "        # Take a full page Screen Shot\n",
    "#         driver.save_screenshot(\"images/Test_ScreenShot.png\")\n",
    "#         print(\"Screenshot saved Successfully !!\")\n",
    "        \n",
    "        # Take a screen shot of specific things\n",
    "        amazon_search = driver.find_element(By.ID, \"searchDropdownBox\")\n",
    "        amazon_search.screenshot(\"images/all_dropdown.png\")\n",
    "        print(\"Second Screenshot saved Successfully !!\")\n",
    "        \n",
    "    except WebDriverException as e:\n",
    "        print(f\"WebDriverException: {e}\")        \n",
    "        # The except block catches the WebDriverException and uses pyautogui to capture the entire screen.\n",
    "        # If the WebDriverException occurs, use pyautogui to capture the whole screen\n",
    "        pyautogui.screenshot(\"backup/full_page_backup.png\")\n",
    "        print(f\" Backup Screenshot captured using pyautogui successfully \")\n",
    "            \n",
    "    finally:\n",
    "        driver.quit()\n",
    "\n",
    "\n",
    "website = \"https://www.amazon.in/\"\n",
    "chromedriver_path = r\"C:\\Users\\Pappu\\Desktop\\books\\chromedriver-win64\\chromedriver.exe\"\n",
    "\n",
    "\n",
    "get_page_info4(website, chromedriver_path)"
   ]
  },
  {
   "cell_type": "markdown",
   "id": "def148ef",
   "metadata": {},
   "source": [
    "##### Minimizing Browser window"
   ]
  },
  {
   "cell_type": "code",
   "execution_count": null,
   "id": "083d5269",
   "metadata": {},
   "outputs": [],
   "source": [
    "# https://www.youtube.com/watch?v=n9moh0W0w3I&list=PLsjUcU8CQXGEe8D7ZVJnANklJEHeqjBul&index=123\n",
    "# https://tutorialsninja.com/demo/"
   ]
  },
  {
   "cell_type": "code",
   "execution_count": 70,
   "id": "c8518589",
   "metadata": {},
   "outputs": [],
   "source": [
    "def get_page_info4(url, chromedriver_path):\n",
    "    \n",
    "    # Set up the Chrome driver\n",
    "    service = Service(chromedriver_path)\n",
    "    driver = webdriver.Chrome(service=service)\n",
    "\n",
    "    try:\n",
    "        driver.get(url)\n",
    "        driver.implicitly_wait(10)\n",
    "        driver.maximize_window()\n",
    "        time.sleep(2)\n",
    "        driver.minimize_window()\n",
    "        time.sleep(3)\n",
    "        \n",
    "    except NoSuchElementException as e:\n",
    "        print(f\"Element not found: {e}\")\n",
    "            \n",
    "    finally:\n",
    "        driver.quit()\n",
    "\n",
    "\n",
    "website = \"https://tutorialsninja.com/demo/\"\n",
    "chromedriver_path = r\"C:\\Users\\Pappu\\Desktop\\books\\chromedriver-win64\\chromedriver.exe\"\n",
    "\n",
    "\n",
    "get_page_info4(website, chromedriver_path)"
   ]
  },
  {
   "cell_type": "markdown",
   "id": "00068797",
   "metadata": {},
   "source": [
    "##### Storing the Element to perform multiple operations on same element"
   ]
  },
  {
   "cell_type": "code",
   "execution_count": null,
   "id": "ee21c236",
   "metadata": {},
   "outputs": [],
   "source": [
    "# https://omayo.blogspot.com/\n",
    "# 127"
   ]
  },
  {
   "cell_type": "code",
   "execution_count": 71,
   "id": "8fd1a082",
   "metadata": {},
   "outputs": [],
   "source": [
    "def get_page_info4(url, chromedriver_path):\n",
    "    \n",
    "    # Set up the Chrome driver\n",
    "    service = Service(chromedriver_path)\n",
    "    driver = webdriver.Chrome(service=service)\n",
    "\n",
    "    try:\n",
    "        driver.get(url)\n",
    "        driver.implicitly_wait(10)\n",
    "        driver.maximize_window()\n",
    "        \n",
    "        # First clear the default text\n",
    "        text_field = driver.find_element(By.ID, 'textbox1')\n",
    "        text_field.clear()\n",
    "        time.sleep(2)\n",
    "        text_field.send_keys('Pappu Akondo')\n",
    "        time.sleep(2)\n",
    "        text_field.clear()\n",
    "        time.sleep(2)\n",
    "        text_field.send_keys('Selenium Python')\n",
    "        time.sleep(2)\n",
    "        text_field.clear()\n",
    "        time.sleep(2)\n",
    "        # If we need the default text then after refreshing it will be back\n",
    "        driver.refresh()\n",
    "        time.sleep(3)\n",
    "        \n",
    "    except NoSuchElementException as e:\n",
    "        print(f\"Element not found: {e}\")\n",
    "            \n",
    "    finally:\n",
    "        driver.quit()\n",
    "\n",
    "\n",
    "website = \"https://omayo.blogspot.com/\"\n",
    "chromedriver_path = r\"C:\\Users\\Pappu\\Desktop\\books\\chromedriver-win64\\chromedriver.exe\"\n",
    "\n",
    "\n",
    "get_page_info4(website, chromedriver_path)"
   ]
  },
  {
   "cell_type": "markdown",
   "id": "cf4e3c15",
   "metadata": {},
   "source": [
    "##### set size of the window,  Full Screen Mode"
   ]
  },
  {
   "cell_type": "code",
   "execution_count": 72,
   "id": "e27caf22",
   "metadata": {},
   "outputs": [
    {
     "name": "stdout",
     "output_type": "stream",
     "text": [
      "Tag name is: p\n"
     ]
    }
   ],
   "source": [
    "def get_page_info4(url, chromedriver_path):\n",
    "    \n",
    "    # Set up the Chrome driver\n",
    "    service = Service(chromedriver_path)\n",
    "    driver = webdriver.Chrome(service=service)\n",
    "\n",
    "    try:\n",
    "        driver.get(url)\n",
    "        driver.implicitly_wait(10)\n",
    "        driver.maximize_window()\n",
    "        \n",
    "        # Set size of the window\n",
    "        time.sleep(3)\n",
    "        driver.set_window_size(300, 800)\n",
    "        time.sleep(3)\n",
    "        \n",
    "        # Print the html tag name\n",
    "        tag_name = driver.find_element(By.ID, 'pah').tag_name\n",
    "        print(f\"Tag name is: {tag_name}\")\n",
    "        time.sleep(3)\n",
    "        \n",
    "        # Full Screen mode\n",
    "        driver.fullscreen_window()\n",
    "        \n",
    "        time.sleep(3)\n",
    "        \n",
    "    except NoSuchElementException as e:\n",
    "        print(f\"Element not found: {e}\")\n",
    "            \n",
    "    finally:\n",
    "        driver.quit()\n",
    "\n",
    "\n",
    "website = \"https://omayo.blogspot.com/\"\n",
    "chromedriver_path = r\"C:\\Users\\Pappu\\Desktop\\books\\chromedriver-win64\\chromedriver.exe\"\n",
    "\n",
    "\n",
    "get_page_info4(website, chromedriver_path)"
   ]
  },
  {
   "cell_type": "markdown",
   "id": "aa3f0864",
   "metadata": {},
   "source": [
    "##### Submitting the form, Size of a text box"
   ]
  },
  {
   "cell_type": "code",
   "execution_count": 73,
   "id": "65cea1f1",
   "metadata": {},
   "outputs": [
    {
     "name": "stdout",
     "output_type": "stream",
     "text": [
      "{'height': 34, 'width': 369}\n",
      "34\n",
      "369\n"
     ]
    }
   ],
   "source": [
    "def get_page_info4(url, chromedriver_path):\n",
    "    \n",
    "    # Set up the Chrome driver\n",
    "    service = Service(chromedriver_path)\n",
    "    driver = webdriver.Chrome(service=service)\n",
    "\n",
    "    try:\n",
    "        driver.get(url)\n",
    "        driver.implicitly_wait(10)\n",
    "        driver.maximize_window()\n",
    "        \n",
    "        # Here we don't need to click the login button to submit the form. We just select any element like password field and perform submit\n",
    "        time.sleep(2)\n",
    "        driver.find_element(By.ID, 'input-password').submit()\n",
    "        \n",
    "        # Size of a text box\n",
    "        text_box_size = driver.find_element(By.ID, 'input-password').size\n",
    "        print(text_box_size)\n",
    "        print(text_box_size.get('height'))\n",
    "        print(text_box_size.get('width'))\n",
    "        time.sleep(3)\n",
    "        \n",
    "    except NoSuchElementException as e:\n",
    "        print(f\"Element not found: {e}\")\n",
    "            \n",
    "    finally:\n",
    "        driver.quit()\n",
    "\n",
    "\n",
    "website = \"https://tutorialsninja.com/demo/index.php?route=account/login\"\n",
    "chromedriver_path = r\"C:\\Users\\Pappu\\Desktop\\books\\chromedriver-win64\\chromedriver.exe\"\n",
    "\n",
    "\n",
    "get_page_info4(website, chromedriver_path)"
   ]
  },
  {
   "cell_type": "markdown",
   "id": "664ead04",
   "metadata": {},
   "source": [
    "##### Setting page load time out for the website"
   ]
  },
  {
   "cell_type": "code",
   "execution_count": 77,
   "id": "8b5fffd1",
   "metadata": {},
   "outputs": [],
   "source": [
    "def get_page_info4(url, chromedriver_path):\n",
    "    \n",
    "    # Set up the Chrome driver\n",
    "    service = Service(chromedriver_path)\n",
    "    driver = webdriver.Chrome(service=service)\n",
    "\n",
    "    try:\n",
    "        \n",
    "        driver.maximize_window()\n",
    "        # Its help to find the loading time of the web page. If website take more time then given in the parameter, it shows a timeout Exception.\n",
    "        driver.set_page_load_timeout(5)\n",
    "        driver.get(url)\n",
    "        \n",
    "    except NoSuchElementException as e:\n",
    "        print(f\"Element not found: {e}\")\n",
    "            \n",
    "    finally:\n",
    "        driver.quit()\n",
    "\n",
    "\n",
    "website = \"https://selenium143.blogspot.com/\"\n",
    "chromedriver_path = r\"C:\\Users\\Pappu\\Desktop\\books\\chromedriver-win64\\chromedriver.exe\"\n",
    "\n",
    "\n",
    "get_page_info4(website, chromedriver_path)"
   ]
  },
  {
   "cell_type": "markdown",
   "id": "4cde057f",
   "metadata": {},
   "source": [
    "##### Handling Web push Notification"
   ]
  },
  {
   "cell_type": "code",
   "execution_count": null,
   "id": "55d920a5",
   "metadata": {},
   "outputs": [],
   "source": [
    "# https://www.youtube.com/watch?v=hvj2ypC_xfo&list=PLsjUcU8CQXGEe8D7ZVJnANklJEHeqjBul&index=156"
   ]
  },
  {
   "cell_type": "code",
   "execution_count": null,
   "id": "26727725",
   "metadata": {},
   "outputs": [],
   "source": [
    "chrome_options = webdriver.ChromeOptions()\n",
    "chrome_options.add_argument(\"--disable-notifications\")\n",
    "driver = webdriver.Chrome(Options=chrome_options)"
   ]
  },
  {
   "cell_type": "markdown",
   "id": "440bd65c",
   "metadata": {},
   "source": [
    "##### Handling cookies"
   ]
  },
  {
   "cell_type": "code",
   "execution_count": 78,
   "id": "a6cd9bfd",
   "metadata": {},
   "outputs": [],
   "source": [
    "def get_page_info4(url, chromedriver_path):\n",
    "    \n",
    "    # Set up the Chrome driver\n",
    "    service = Service(chromedriver_path)\n",
    "    driver = webdriver.Chrome(service=service)\n",
    "\n",
    "    try:\n",
    "        driver.get(url)\n",
    "        driver.implicitly_wait(10)\n",
    "        driver.maximize_window()\n",
    "        time.sleep(3)\n",
    "        \n",
    "        driver.find_element(By.XPATH, \"//span[contains(text(), 'Accept cookies')]\").click()\n",
    "        \n",
    "        time.sleep(5)\n",
    "    except NoSuchElementException as e:\n",
    "        print(f\"Element not found: {e}\")\n",
    "            \n",
    "    finally:\n",
    "        driver.quit()\n",
    "\n",
    "\n",
    "website = \"https://www.opera.com/\"\n",
    "chromedriver_path = r\"C:\\Users\\Pappu\\Desktop\\books\\chromedriver-win64\\chromedriver.exe\"\n",
    "\n",
    "\n",
    "get_page_info4(website, chromedriver_path)"
   ]
  },
  {
   "cell_type": "markdown",
   "id": "446c7d6c",
   "metadata": {},
   "source": [
    "##### Handling Mouse Events"
   ]
  },
  {
   "cell_type": "code",
   "execution_count": null,
   "id": "01e6f3e6",
   "metadata": {},
   "outputs": [],
   "source": [
    "def get_page_info4(url, chromedriver_path):\n",
    "    \n",
    "    # Set up the Chrome driver\n",
    "    service = Service(chromedriver_path)\n",
    "    driver = webdriver.Chrome(service=service)\n",
    "\n",
    "    try:\n",
    "        driver.get(url)\n",
    "        driver.implicitly_wait(10)\n",
    "        driver.maximize_window()\n",
    "        time.sleep(3)\n",
    "        \n",
    "        # Select main menu\n",
    "        blogs = driver.find_element(By.ID, 'blogsmenu')\n",
    "        actions = ActionChains(driver)\n",
    "        actions.move_to_element(blogs).perform()\n",
    "        time.sleep(3)\n",
    "        \n",
    "        # Select sub menu\n",
    "        next_menu = driver.find_element(By.XPATH, \"//span[contains(text(), 'Selenium143')]\")\n",
    "        actions.move_to_element(next_menu).perform()\n",
    "        \n",
    "        # Left click sub menu\n",
    "#         time.sleep(1)\n",
    "#         actions.click(next_menu).perform()\n",
    "        \n",
    "        # Right click()\n",
    "        time.sleep(2)\n",
    "        actions.context_click(next_menu).perform()\n",
    "        time.sleep(5)\n",
    "        \n",
    "        # Double Click\n",
    "        double = driver.find_element(By.ID, \"testdoubleclick\")\n",
    "        actions.double_click(double).perform()\n",
    "        \n",
    "        time.sleep(3)\n",
    "        \n",
    "    except NoSuchElementException as e:\n",
    "        print(f\"Element not found: {e}\")\n",
    "            \n",
    "    finally:\n",
    "        driver.quit()\n",
    "\n",
    "\n",
    "website = \"https://omayo.blogspot.com/\"\n",
    "chromedriver_path = r\"C:\\Users\\Pappu\\Desktop\\books\\chromedriver-win64\\chromedriver.exe\"\n",
    "\n",
    "\n",
    "get_page_info4(website, chromedriver_path)"
   ]
  },
  {
   "cell_type": "markdown",
   "id": "59e12afb",
   "metadata": {},
   "source": [
    "##### Keys class"
   ]
  },
  {
   "cell_type": "code",
   "execution_count": 30,
   "id": "b9563fb3",
   "metadata": {},
   "outputs": [],
   "source": [
    "def get_page_info4(url, chromedriver_path):\n",
    "    \n",
    "    # Set up the Chrome driver\n",
    "    service = Service(chromedriver_path)\n",
    "    driver = webdriver.Chrome(service=service)\n",
    "\n",
    "    try:\n",
    "        driver.get(url)\n",
    "        driver.implicitly_wait(10)\n",
    "        driver.maximize_window()\n",
    "        time.sleep(3)\n",
    "        \n",
    "        # Select main menu\n",
    "#         driver.find_element(By.ID, 'input-email').send_keys(\"pappuakondo@gmail.com\")\n",
    "#         driver.find_element(By.ID, 'input-password').send_keys(\"12345\")\n",
    "\n",
    "        # It works like the enter button\n",
    "        #driver.find_element(By.ID, 'input-password').send_keys(Keys.ENTER)\n",
    "        \n",
    "        # Another way to work like enter\n",
    "#         actions = ActionChains(driver)\n",
    "#         actions.send_keys(Keys.ENTER).perform()\n",
    "        \n",
    "        # Another way to do that also\n",
    "        driver.find_element(By.ID, 'input-email').send_keys(\"pappuakondo@gmail.com\")\n",
    "        actions = ActionChains(driver)\n",
    "        actions.send_keys(Keys.TAB).pause(3).send_keys(\"12345\").send_keys(Keys.TAB).send_keys(Keys.TAB).pause(3).send_keys(Keys.ENTER).perform()\n",
    "        \n",
    "        time.sleep(3)\n",
    "        \n",
    "    except NoSuchElementException as e:\n",
    "        print(f\"Element not found: {e}\")\n",
    "            \n",
    "    finally:\n",
    "        driver.quit()\n",
    "\n",
    "\n",
    "website = \"https://tutorialsninja.com/demo/index.php?route=account/login\"\n",
    "chromedriver_path = r\"C:\\Users\\Pappu\\Desktop\\books\\chromedriver-win64\\chromedriver.exe\"\n",
    "\n",
    "\n",
    "get_page_info4(website, chromedriver_path)"
   ]
  },
  {
   "cell_type": "markdown",
   "id": "7b51f65c",
   "metadata": {},
   "source": [
    "##### key Down AND Keu Up "
   ]
  },
  {
   "cell_type": "code",
   "execution_count": 22,
   "id": "6324fa82",
   "metadata": {},
   "outputs": [
    {
     "name": "stdout",
     "output_type": "stream",
     "text": [
      "http://compendiumdev.co.uk/selenium/basic_web_page.html\n",
      "http://only-testing-blog.blogspot.in/2014/01/textbox.html\n",
      "http://testwisely.com/demo\n",
      "http://jqueryui.com/\n",
      "http://book.theautomatedtester.co.uk/\n"
     ]
    }
   ],
   "source": [
    "def get_page_info4(url, chromedriver_path):\n",
    "    \n",
    "    # Set up the Chrome driver\n",
    "    service = Service(chromedriver_path)\n",
    "    driver = webdriver.Chrome(service=service)\n",
    "\n",
    "    try:\n",
    "        driver.get(url)\n",
    "        driver.implicitly_wait(10)\n",
    "        driver.maximize_window()\n",
    "        time.sleep(3)\n",
    "        \n",
    "        links = driver.find_elements(By.XPATH, \"//div[@id='LinkList1']//a\")\n",
    "        actions = ActionChains(driver)        \n",
    "        for link in links:\n",
    "            print(link.get_attribute(\"href\"))\n",
    "            actions.key_down(Keys.CONTROL).click(link).key_up(Keys.CONTROL).perform()\n",
    "            time.sleep(1)\n",
    "        \n",
    "        \n",
    "        time.sleep(3)\n",
    "        \n",
    "    except NoSuchElementException as e:\n",
    "        print(f\"Element not found: {e}\")\n",
    "            \n",
    "    finally:\n",
    "        driver.quit()\n",
    "\n",
    "\n",
    "website = \"https://omayo.blogspot.com/\"\n",
    "chromedriver_path = r\"C:\\Users\\Pappu\\Desktop\\books\\chromedriver-win64\\chromedriver.exe\"\n",
    "\n",
    "\n",
    "get_page_info4(website, chromedriver_path)"
   ]
  },
  {
   "cell_type": "markdown",
   "id": "c9f8e8ac",
   "metadata": {},
   "source": [
    "##### Executing JavaScript code"
   ]
  },
  {
   "cell_type": "code",
   "execution_count": 31,
   "id": "0723eb3e",
   "metadata": {},
   "outputs": [],
   "source": [
    "def get_page_info4(url, chromedriver_path):\n",
    "    \n",
    "    # Set up the Chrome driver\n",
    "    service = Service(chromedriver_path)\n",
    "    driver = webdriver.Chrome(service=service)\n",
    "\n",
    "    try:\n",
    "        driver.get(url)\n",
    "        driver.implicitly_wait(10)\n",
    "        driver.maximize_window()\n",
    "        time.sleep(3)\n",
    "        \n",
    "        driver.execute_script(\"alert('Pappu Akondo')\")\n",
    "        \n",
    "        time.sleep(3)\n",
    "        \n",
    "    except NoSuchElementException as e:\n",
    "        print(f\"Element not found: {e}\")\n",
    "            \n",
    "    finally:\n",
    "        driver.quit()\n",
    "\n",
    "\n",
    "website = \"https://omayo.blogspot.com/\"\n",
    "chromedriver_path = r\"C:\\Users\\Pappu\\Desktop\\books\\chromedriver-win64\\chromedriver.exe\"\n",
    "\n",
    "\n",
    "get_page_info4(website, chromedriver_path)"
   ]
  },
  {
   "cell_type": "markdown",
   "id": "c1c0e7fb",
   "metadata": {},
   "source": [
    "##### Chrome Browser in Headless mode and full page screen shot"
   ]
  },
  {
   "cell_type": "code",
   "execution_count": 36,
   "id": "eacb311b",
   "metadata": {},
   "outputs": [
    {
     "name": "stdout",
     "output_type": "stream",
     "text": [
      "omayo (QAFox.com)\n"
     ]
    }
   ],
   "source": [
    "def get_page_info4(url, chromedriver_path):\n",
    "    \n",
    "    # Set up the Chrome driver\n",
    "    chrome_options = webdriver.ChromeOptions()\n",
    "    chrome_options.add_argument(\"--headless\")\n",
    "    driver = webdriver.Chrome(options = chrome_options)\n",
    "\n",
    "    try:\n",
    "        driver.get(url)\n",
    "        \n",
    "        print(driver.title)\n",
    "        \n",
    "        ## Without Headless mode we can able to take screen shot of the full page\n",
    "        # Get the total height of the webpage\n",
    "        width = 1920\n",
    "        total_height = driver.execute_script(\"return Math.max( document.body.scrollHeight, document.body.offsetHeight, document.documentElement.clientHeight, document.documentElement.scrollHeight, document.documentElement.offsetHeight);\")\n",
    "\n",
    "        # Set the viewport height to a large value for capturing the full page\n",
    "        driver.set_window_size(width, total_height)\n",
    "        \n",
    "        full_body = driver.find_element(By.TAG_NAME, \"body\")\n",
    "        full_body.screenshot(\"images/full_page_screenshot.png\")\n",
    "        \n",
    "        time.sleep(3)\n",
    "        \n",
    "    except NoSuchElementException as e:\n",
    "        print(f\"Element not found: {e}\")\n",
    "            \n",
    "    finally:\n",
    "        driver.quit()\n",
    "\n",
    "\n",
    "website = \"https://omayo.blogspot.com/\"\n",
    "chromedriver_path = r\"C:\\Users\\Pappu\\Desktop\\books\\chromedriver-win64\\chromedriver.exe\"\n",
    "\n",
    "\n",
    "get_page_info4(website, chromedriver_path)"
   ]
  },
  {
   "cell_type": "markdown",
   "id": "26adf994",
   "metadata": {},
   "source": [
    "##### Window command in Selenium"
   ]
  },
  {
   "cell_type": "code",
   "execution_count": 39,
   "id": "8019208b",
   "metadata": {},
   "outputs": [
    {
     "name": "stdout",
     "output_type": "stream",
     "text": [
      "omayo (QAFox.com)\n",
      "Your Store\n"
     ]
    }
   ],
   "source": [
    "def get_page_info4(url1, url2, chromedriver_path):\n",
    "    \n",
    "    # Set up the Chrome driver\n",
    "    service = Service(chromedriver_path)\n",
    "    driver = webdriver.Chrome(service=service)\n",
    "\n",
    "    try:\n",
    "        driver.get(url1)\n",
    "        driver.implicitly_wait(10)\n",
    "        driver.maximize_window()\n",
    "        print(driver.title)\n",
    "        time.sleep(3)\n",
    "        \n",
    "        driver.switch_to.new_window('tab')\n",
    "        #driver.switch_to.new_window('window')\n",
    "        driver.get(url2)\n",
    "        time.sleep(3)\n",
    "        print(driver.title)\n",
    "        time.sleep(3)\n",
    "        \n",
    "    except NoSuchElementException as e:\n",
    "        print(f\"Element not found: {e}\")\n",
    "            \n",
    "    finally:\n",
    "        driver.quit()\n",
    "\n",
    "\n",
    "website1 = \"https://omayo.blogspot.com/\"\n",
    "website2 = \"https://tutorialsninja.com/demo/\"\n",
    "chromedriver_path = r\"C:\\Users\\Pappu\\Desktop\\books\\chromedriver-win64\\chromedriver.exe\"\n",
    "\n",
    "\n",
    "get_page_info4(website1, website2, chromedriver_path)\n"
   ]
  },
  {
   "cell_type": "markdown",
   "id": "757e1c47",
   "metadata": {},
   "source": [
    "##### Handling Ajax calls in Selenium"
   ]
  },
  {
   "cell_type": "raw",
   "id": "3e359c5e",
   "metadata": {},
   "source": [
    "# By Default selenium wait when page is loading. But In ajax call page don't load to retrive data. So selenium don't wait for it as the page don't load and it will give an exception. So we have to use waiting mechanism to handle this problem."
   ]
  },
  {
   "cell_type": "markdown",
   "id": "243c316c",
   "metadata": {},
   "source": [
    "##### Handling table"
   ]
  },
  {
   "cell_type": "code",
   "execution_count": 47,
   "id": "84584f1b",
   "metadata": {},
   "outputs": [
    {
     "name": "stdout",
     "output_type": "stream",
     "text": [
      "table heading :Name\n",
      "table heading :Age\n",
      "table heading :Place\n",
      "Table data :Kishore\n",
      "Table data :22\n",
      "Table data :Delhi\n",
      "Table data :Manish\n",
      "Table data :25\n",
      "Table data :Pune\n",
      "Table data :Praveen\n",
      "Table data :29\n",
      "Table data :Bangalore\n",
      "Table data :Dheepthi\n",
      "Table data :31\n",
      "Table data :Mumbai\n",
      "Table data 1st row:Kishore\n",
      "Table data 1st row:22\n",
      "Table data 1st row:Delhi\n",
      "Table data 2nd row:Manish\n",
      "Table data 2nd row:25\n",
      "Table data 2nd row:Pune\n",
      "Table data 2nd column data in 3rd row:29\n",
      "Table data 3rd column:Delhi\n",
      "Table data 3rd column:Pune\n",
      "Table data 3rd column:Bangalore\n",
      "Table data 3rd column:Mumbai\n"
     ]
    }
   ],
   "source": [
    "def get_page_info4(url, chromedriver_path):\n",
    "    \n",
    "    # Set up the Chrome driver\n",
    "    service = Service(chromedriver_path)\n",
    "    driver = webdriver.Chrome(service=service)\n",
    "\n",
    "    try:\n",
    "        driver.get(url)\n",
    "        driver.implicitly_wait(10)\n",
    "        driver.maximize_window()\n",
    "        \n",
    "        # Retrive table heading\n",
    "        tbl_heading = driver.find_elements(By.XPATH, \"//table[@id='table1']//th\")\n",
    "        for heading in tbl_heading:\n",
    "            print(f\"table heading :{heading.text}\")\n",
    "        \n",
    "        # Retrive table data\n",
    "        tbl_data = driver.find_elements(By.XPATH, \"//table[@id='table1']//tr/td\")\n",
    "        for data in tbl_data:\n",
    "            print(f\"Table data :{data.text}\")\n",
    "            \n",
    "        # Retrive table data from first row\n",
    "        tbl_data_1st = driver.find_elements(By.XPATH, \"//table[@id='table1']//tr[1]/td\")\n",
    "        for data in tbl_data_1st:\n",
    "            print(f\"Table data 1st row:{data.text}\")   \n",
    "            \n",
    "        # Retrieving Table data in second or third or fourth row   \n",
    "        tbl_data_2nd = driver.find_elements(By.XPATH, \"//table[@id='table1']//tr[2]/td\")\n",
    "        for data in tbl_data_2nd:\n",
    "            print(f\"Table data 2nd row:{data.text}\") \n",
    "            \n",
    "            \n",
    "        # Retrieving second column data in third row   \n",
    "        tbl_data_2nd_col_3rd_row = driver.find_elements(By.XPATH, \"//table[@id='table1']//tr[3]/td[2]\")\n",
    "        for data in tbl_data_2nd_col_3rd_row:\n",
    "            print(f\"Table data 2nd column data in 3rd row:{data.text}\")  \n",
    "            \n",
    "        # Retrieving Third column data \n",
    "        tbl_data_3rd_column = driver.find_elements(By.XPATH, \"//table[@id='table1']//tr/td[3]\")\n",
    "        for data in tbl_data_3rd_column:\n",
    "            print(f\"Table data 3rd column:{data.text}\")     \n",
    "        time.sleep(2)\n",
    "        \n",
    "    except NoSuchElementException as e:\n",
    "        print(f\"Element not found: {e}\")\n",
    "            \n",
    "    finally:\n",
    "        driver.quit() \n",
    "\n",
    "\n",
    "website = \"https://omayo.blogspot.com/\"\n",
    "chromedriver_path = r\"C:\\Users\\Pappu\\Desktop\\books\\chromedriver-win64\\chromedriver.exe\"\n",
    "\n",
    "\n",
    "get_page_info4(website1, chromedriver_path)\n"
   ]
  },
  {
   "cell_type": "code",
   "execution_count": null,
   "id": "7e034454",
   "metadata": {},
   "outputs": [],
   "source": []
  },
  {
   "cell_type": "code",
   "execution_count": null,
   "id": "b4046345",
   "metadata": {},
   "outputs": [],
   "source": []
  },
  {
   "cell_type": "code",
   "execution_count": null,
   "id": "76d036f1",
   "metadata": {},
   "outputs": [],
   "source": []
  },
  {
   "cell_type": "code",
   "execution_count": null,
   "id": "0ef52277",
   "metadata": {},
   "outputs": [],
   "source": []
  },
  {
   "cell_type": "code",
   "execution_count": null,
   "id": "f45ef250",
   "metadata": {},
   "outputs": [],
   "source": []
  },
  {
   "cell_type": "code",
   "execution_count": null,
   "id": "70bd63d4",
   "metadata": {},
   "outputs": [],
   "source": []
  },
  {
   "cell_type": "code",
   "execution_count": null,
   "id": "bf924171",
   "metadata": {},
   "outputs": [],
   "source": []
  },
  {
   "cell_type": "code",
   "execution_count": null,
   "id": "544b4e86",
   "metadata": {},
   "outputs": [],
   "source": []
  },
  {
   "cell_type": "code",
   "execution_count": null,
   "id": "926c3742",
   "metadata": {},
   "outputs": [],
   "source": []
  },
  {
   "cell_type": "code",
   "execution_count": null,
   "id": "cb2e628d",
   "metadata": {},
   "outputs": [],
   "source": []
  },
  {
   "cell_type": "code",
   "execution_count": null,
   "id": "b476c889",
   "metadata": {},
   "outputs": [],
   "source": []
  },
  {
   "cell_type": "code",
   "execution_count": null,
   "id": "a6c6cfd9",
   "metadata": {},
   "outputs": [],
   "source": []
  },
  {
   "cell_type": "code",
   "execution_count": null,
   "id": "c14ef2a6",
   "metadata": {},
   "outputs": [],
   "source": []
  },
  {
   "cell_type": "code",
   "execution_count": null,
   "id": "57906d69",
   "metadata": {},
   "outputs": [],
   "source": []
  },
  {
   "cell_type": "code",
   "execution_count": null,
   "id": "26541a81",
   "metadata": {},
   "outputs": [],
   "source": []
  },
  {
   "cell_type": "code",
   "execution_count": null,
   "id": "8bb04190",
   "metadata": {},
   "outputs": [],
   "source": []
  },
  {
   "cell_type": "code",
   "execution_count": null,
   "id": "59f84c71",
   "metadata": {},
   "outputs": [],
   "source": []
  },
  {
   "cell_type": "code",
   "execution_count": null,
   "id": "4bc61664",
   "metadata": {},
   "outputs": [],
   "source": []
  },
  {
   "cell_type": "code",
   "execution_count": null,
   "id": "ed44a84c",
   "metadata": {},
   "outputs": [],
   "source": []
  },
  {
   "cell_type": "code",
   "execution_count": null,
   "id": "27485b41",
   "metadata": {},
   "outputs": [],
   "source": []
  },
  {
   "cell_type": "code",
   "execution_count": null,
   "id": "bdfe71aa",
   "metadata": {},
   "outputs": [],
   "source": []
  },
  {
   "cell_type": "code",
   "execution_count": null,
   "id": "8be86b96",
   "metadata": {},
   "outputs": [],
   "source": []
  },
  {
   "cell_type": "code",
   "execution_count": null,
   "id": "e4423eec",
   "metadata": {},
   "outputs": [],
   "source": []
  },
  {
   "cell_type": "code",
   "execution_count": null,
   "id": "49cf561f",
   "metadata": {},
   "outputs": [],
   "source": []
  },
  {
   "cell_type": "code",
   "execution_count": null,
   "id": "0504a4dc",
   "metadata": {},
   "outputs": [],
   "source": []
  },
  {
   "cell_type": "code",
   "execution_count": null,
   "id": "b45b1c01",
   "metadata": {},
   "outputs": [],
   "source": []
  },
  {
   "cell_type": "code",
   "execution_count": null,
   "id": "3aee151e",
   "metadata": {},
   "outputs": [],
   "source": []
  },
  {
   "cell_type": "code",
   "execution_count": null,
   "id": "6ff3da2b",
   "metadata": {},
   "outputs": [],
   "source": []
  },
  {
   "cell_type": "code",
   "execution_count": null,
   "id": "c4e94d8a",
   "metadata": {},
   "outputs": [],
   "source": []
  },
  {
   "cell_type": "code",
   "execution_count": null,
   "id": "b4016dff",
   "metadata": {},
   "outputs": [],
   "source": []
  },
  {
   "cell_type": "code",
   "execution_count": null,
   "id": "ad6d7c36",
   "metadata": {},
   "outputs": [],
   "source": []
  },
  {
   "cell_type": "code",
   "execution_count": null,
   "id": "3d473edd",
   "metadata": {},
   "outputs": [],
   "source": []
  },
  {
   "cell_type": "code",
   "execution_count": null,
   "id": "ef496a6d",
   "metadata": {},
   "outputs": [],
   "source": []
  },
  {
   "cell_type": "code",
   "execution_count": null,
   "id": "48498da6",
   "metadata": {},
   "outputs": [],
   "source": []
  },
  {
   "cell_type": "code",
   "execution_count": null,
   "id": "5e1731cc",
   "metadata": {},
   "outputs": [],
   "source": []
  }
 ],
 "metadata": {
  "kernelspec": {
   "display_name": "Python 3 (ipykernel)",
   "language": "python",
   "name": "python3"
  },
  "language_info": {
   "codemirror_mode": {
    "name": "ipython",
    "version": 3
   },
   "file_extension": ".py",
   "mimetype": "text/x-python",
   "name": "python",
   "nbconvert_exporter": "python",
   "pygments_lexer": "ipython3",
   "version": "3.8.18"
  }
 },
 "nbformat": 4,
 "nbformat_minor": 5
}
