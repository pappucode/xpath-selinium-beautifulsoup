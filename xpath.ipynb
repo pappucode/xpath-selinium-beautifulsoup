{
 "cells": [
  {
   "cell_type": "markdown",
   "id": "73b25575",
   "metadata": {},
   "source": [
    "## Details About XPATH"
   ]
  },
  {
   "cell_type": "code",
   "execution_count": null,
   "id": "5b13279f",
   "metadata": {},
   "outputs": [],
   "source": [
    "# How to create XPATHS\n",
    "# Syntax\n",
    "# Absolute and Relative XPaths\n",
    "# Methods\n",
    "    ## contains\n",
    "    ## text\n",
    "    ## starts-with\n",
    "    ## Or, And\n",
    "#https://www.youtube.com/watch?v=W9_q7tZon2M&list=PLhW3qG5bs-L83gLEZVIDHOvgTTz27po_0&index=2&ab_channel=AutomationStepbyStep"
   ]
  },
  {
   "cell_type": "code",
   "execution_count": 10,
   "id": "3bfda10e",
   "metadata": {},
   "outputs": [],
   "source": [
    "from selenium import webdriver\n",
    "from selenium.webdriver.chrome.service import Service\n",
    "from selenium.webdriver.common.keys import Keys"
   ]
  },
  {
   "cell_type": "code",
   "execution_count": 14,
   "id": "0d07d67b",
   "metadata": {},
   "outputs": [],
   "source": [
    "website = \"https://www.google.com/\"\n",
    "path = r\"C:\\Users\\Pappu\\Desktop\\books\\chromedriver-win64\\chromedriver.exe\"\n",
    "service = Service(path)\n",
    "driver = webdriver.Chrome(service=service)\n",
    "driver.get(website)\n",
    "search_text = driver.find_element(\"xpath\", \"//textarea[@id='APjFqb']\")\n",
    "search_text.send_keys(\"Data Science\")\n",
    "search_text.send_keys(Keys.ENTER)\n",
    "driver.quit()"
   ]
  },
  {
   "cell_type": "markdown",
   "id": "669c6a52",
   "metadata": {},
   "source": [
    "### More XPATH with it's advance lavel"
   ]
  },
  {
   "cell_type": "code",
   "execution_count": null,
   "id": "3f88820e",
   "metadata": {},
   "outputs": [],
   "source": [
    "# https://www.youtube.com/watch?v=NhG__BL8zFo&ab_channel=AutomationZone"
   ]
  },
  {
   "cell_type": "raw",
   "id": "41204455",
   "metadata": {},
   "source": [
    "## Basic syntax\n",
    "\n",
    "## It search in all the tags\n",
    "# //*[@AttributeName=\"value\"]\n",
    "\n",
    "## It search with the tag\n",
    "# //TagName[@AttributeName=\"value\"]\n",
    "\n",
    "# And, or\n",
    "\n",
    "## text() this is a function of XPATH which return the text of any element of a webpage.\n",
    "# //p[text() = \"put the text here\"]\n",
    "\n",
    "## An example like parent tag has No unique identifier but it's child tag has unique identifier\n",
    "# //TagName[@AttributeName='value']/..\n",
    "\n",
    "## Identify parents tag using child tag (another way)\n",
    "# //TagName[ TagName[@AttributeName='value'] ]  like //a[ span[@id=\"link\"] ]\n",
    "# //a[.//span[@id=\"link\"] ], it will identify if need to identify parent child under a child that has unique indentifier\n",
    "\n",
    "## Another example like parent tag has unique identifier but it's child tag has No unique identifier\n",
    "# //div[@Id='divA']/* ,  Or use //div[@Id='divA']/TagName (Most appropriate)\n",
    "\n",
    "## If element not direct child then\n",
    "# //TagName[@AttributeName='value']/TagName/TagName like //div[@Id='divC']/span/input\n",
    "# Also can be use //div[@Id='divC']//input, it says that first // (double slash) means anywhere inside HTML page, but second // means inside of this first double slash.\n",
    "\n",
    "## Identify with the help of indexes, its only used when none other identification works, but there is a challenge here, when you give the indexes, this indexes basically specify the child.\n",
    "# (//label[@id='lable'])[1], if you not encapsulate it, then it will select all first child of the parent. 19.00 minute(Tutorial)"
   ]
  },
  {
   "cell_type": "raw",
   "id": "c9badff0",
   "metadata": {},
   "source": [
    "## XPATH Advance\n",
    "## XPATH Functions\n",
    "\n",
    "## Contain Function, it's very helpull when partial match is needed\n",
    "# //TagName[ contains( text(), 'put the text') ] like //p[ contains( text(), 'has logged in successfully') ], Also it can be written //TagName[ @AttributeName, 'value') ] like //p[ contains( @id, 'id1') ], also it can be used like combine with both //p[ contains( @id, 'd1')  and text()='unique id']. 27.00 minutes (Tutorial)\n",
    "\n",
    "## Starts with Function\n",
    "# //p[ starts-with( text(), 'logged in successfully') ]\n",
    "\n",
    "## Position\n",
    "# //table[@id = 'table1']//tr[position() = 2], also this can be used like //table[@id = 'table1']//tr[2]\n",
    "# //table[@id = 'table1']//tr[last()] to select the last row\n",
    "# //table[@id = 'table1']//tr[last()]/td/input\n",
    "# //table[@id = 'table1']//tr[last()-1]/td/input to point the second last row\n",
    "# //table[@id = 'table1']//tr[2+1]/td/input, can be done by mathmatical expression"
   ]
  },
  {
   "cell_type": "raw",
   "id": "0022328a",
   "metadata": {},
   "source": [
    "## XPATH More Advance\n",
    "## XPATH Functions\n",
    "## Identify elements by using attributes by ignoring its case as well as apaces if present inside of it\n",
    "# XPATH not work with spaces both for text and attribute\n",
    "# //p[ normalize-space(text()) = 'put text with out space' ], like //p[ normalize-space(text()) = 'Tommy' ], it will remove preceding and trailing space\n",
    "# //p[ normalize-space(@AttributeName) = 'Tommy' ]\n",
    "\n",
    "## Convert Uppercase character to Lowercase character\n",
    "#//p[ translate(text(), 'ABCDEFGHIJKLMNOPQRSTUVWXYZ', 'abcdefghizklmnopqrstuvwxyz' ) = 'tommy' ]\n",
    "\n",
    "## Remove preceding and trailing space and convert uppercase to lowercase\n",
    "#//p[normalize-space( translate(text(), 'ABCDEFGHIJKLMNOPQRSTUVWXYZ', 'abcdefghizklmnopqrstuvwxyz' )) = 'tommy' ]\n",
    "\n",
    "## Point the paragraph tag that has text greater then 30\n",
    "#//p[ string-length(text()) >30 ], //p[ string-length(text()) < 30 ] (smaller then 30)\n",
    "\n",
    "## Round and floor (Actual number 53.80)\n",
    "# //td[round(text() ) = '54']\n",
    "# //td[round(text() ) = '54']\n",
    "\n",
    "## and \n",
    "# //input[@type='radio' and @id='gender-0'], it selects the male \n",
    "# ////input[@type='radio' and not (@id='gender-0')], where as by using not it becomes the opposite such as it may be select female.\n",
    "\n",
    "## SubString (Olive has logged in successfully : 1pm) actual text\n",
    "# //p[  substring-after( text(), ':' ) = ' 1pm' ]\n",
    "# //p[  substring-before( text(), ':' ) = 'Olive has logged in successfully ' ]\n",
    "# //p[  normalize-space(substring-before( text(), ':' )) = 'Olive has logged in successfully' ], if string has contained spaces (I test it)"
   ]
  },
  {
   "cell_type": "code",
   "execution_count": null,
   "id": "c74180d2",
   "metadata": {},
   "outputs": [],
   "source": []
  },
  {
   "cell_type": "code",
   "execution_count": null,
   "id": "6eff8371",
   "metadata": {},
   "outputs": [],
   "source": []
  },
  {
   "cell_type": "code",
   "execution_count": null,
   "id": "ff4e1f98",
   "metadata": {},
   "outputs": [],
   "source": []
  },
  {
   "cell_type": "code",
   "execution_count": null,
   "id": "e778db29",
   "metadata": {},
   "outputs": [],
   "source": []
  },
  {
   "cell_type": "code",
   "execution_count": null,
   "id": "e46bd4f9",
   "metadata": {},
   "outputs": [],
   "source": []
  },
  {
   "cell_type": "code",
   "execution_count": null,
   "id": "d631595e",
   "metadata": {},
   "outputs": [],
   "source": []
  },
  {
   "cell_type": "code",
   "execution_count": null,
   "id": "6d62e20f",
   "metadata": {},
   "outputs": [],
   "source": []
  },
  {
   "cell_type": "code",
   "execution_count": null,
   "id": "e4213b08",
   "metadata": {},
   "outputs": [],
   "source": []
  },
  {
   "cell_type": "code",
   "execution_count": null,
   "id": "08af2255",
   "metadata": {},
   "outputs": [],
   "source": []
  },
  {
   "cell_type": "code",
   "execution_count": null,
   "id": "f37fbf7e",
   "metadata": {},
   "outputs": [],
   "source": []
  },
  {
   "cell_type": "code",
   "execution_count": null,
   "id": "d72e735b",
   "metadata": {},
   "outputs": [],
   "source": []
  },
  {
   "cell_type": "code",
   "execution_count": null,
   "id": "b9138d01",
   "metadata": {},
   "outputs": [],
   "source": []
  },
  {
   "cell_type": "code",
   "execution_count": null,
   "id": "e51f83f7",
   "metadata": {},
   "outputs": [],
   "source": []
  },
  {
   "cell_type": "code",
   "execution_count": null,
   "id": "2a3b0da9",
   "metadata": {},
   "outputs": [],
   "source": []
  },
  {
   "cell_type": "code",
   "execution_count": null,
   "id": "5617e96c",
   "metadata": {},
   "outputs": [],
   "source": []
  },
  {
   "cell_type": "code",
   "execution_count": null,
   "id": "73b499de",
   "metadata": {},
   "outputs": [],
   "source": []
  },
  {
   "cell_type": "code",
   "execution_count": null,
   "id": "65390987",
   "metadata": {},
   "outputs": [],
   "source": []
  },
  {
   "cell_type": "code",
   "execution_count": null,
   "id": "663303ba",
   "metadata": {},
   "outputs": [],
   "source": []
  },
  {
   "cell_type": "code",
   "execution_count": null,
   "id": "3cac5ec0",
   "metadata": {},
   "outputs": [],
   "source": []
  },
  {
   "cell_type": "code",
   "execution_count": null,
   "id": "52ba8b0a",
   "metadata": {},
   "outputs": [],
   "source": []
  },
  {
   "cell_type": "code",
   "execution_count": null,
   "id": "daed4a3c",
   "metadata": {},
   "outputs": [],
   "source": []
  },
  {
   "cell_type": "code",
   "execution_count": null,
   "id": "657989c8",
   "metadata": {},
   "outputs": [],
   "source": []
  },
  {
   "cell_type": "code",
   "execution_count": null,
   "id": "1a6dc8c0",
   "metadata": {},
   "outputs": [],
   "source": []
  },
  {
   "cell_type": "code",
   "execution_count": null,
   "id": "8c8f6a35",
   "metadata": {},
   "outputs": [],
   "source": []
  },
  {
   "cell_type": "code",
   "execution_count": null,
   "id": "c11a7263",
   "metadata": {},
   "outputs": [],
   "source": []
  },
  {
   "cell_type": "code",
   "execution_count": null,
   "id": "ba0c3640",
   "metadata": {},
   "outputs": [],
   "source": []
  },
  {
   "cell_type": "code",
   "execution_count": null,
   "id": "2b0f5748",
   "metadata": {},
   "outputs": [],
   "source": []
  },
  {
   "cell_type": "code",
   "execution_count": null,
   "id": "05e4d63f",
   "metadata": {},
   "outputs": [],
   "source": []
  },
  {
   "cell_type": "code",
   "execution_count": null,
   "id": "2e16f240",
   "metadata": {},
   "outputs": [],
   "source": []
  },
  {
   "cell_type": "code",
   "execution_count": null,
   "id": "c53ec6d7",
   "metadata": {},
   "outputs": [],
   "source": []
  },
  {
   "cell_type": "code",
   "execution_count": null,
   "id": "63b4200d",
   "metadata": {},
   "outputs": [],
   "source": []
  },
  {
   "cell_type": "code",
   "execution_count": null,
   "id": "f1cf8885",
   "metadata": {},
   "outputs": [],
   "source": []
  },
  {
   "cell_type": "code",
   "execution_count": null,
   "id": "0cfc93b7",
   "metadata": {},
   "outputs": [],
   "source": []
  },
  {
   "cell_type": "code",
   "execution_count": null,
   "id": "f5b4e7dd",
   "metadata": {},
   "outputs": [],
   "source": []
  },
  {
   "cell_type": "code",
   "execution_count": null,
   "id": "a986c0ea",
   "metadata": {},
   "outputs": [],
   "source": []
  },
  {
   "cell_type": "code",
   "execution_count": null,
   "id": "2b8ee06e",
   "metadata": {},
   "outputs": [],
   "source": []
  },
  {
   "cell_type": "code",
   "execution_count": null,
   "id": "8500c9ff",
   "metadata": {},
   "outputs": [],
   "source": []
  },
  {
   "cell_type": "code",
   "execution_count": null,
   "id": "2819b68d",
   "metadata": {},
   "outputs": [],
   "source": []
  },
  {
   "cell_type": "code",
   "execution_count": null,
   "id": "e3344c88",
   "metadata": {},
   "outputs": [],
   "source": []
  },
  {
   "cell_type": "code",
   "execution_count": null,
   "id": "9f7cfdf0",
   "metadata": {},
   "outputs": [],
   "source": []
  },
  {
   "cell_type": "code",
   "execution_count": null,
   "id": "cf938968",
   "metadata": {},
   "outputs": [],
   "source": []
  },
  {
   "cell_type": "code",
   "execution_count": null,
   "id": "8210ed32",
   "metadata": {},
   "outputs": [],
   "source": []
  },
  {
   "cell_type": "code",
   "execution_count": null,
   "id": "e5dfc791",
   "metadata": {},
   "outputs": [],
   "source": []
  }
 ],
 "metadata": {
  "kernelspec": {
   "display_name": "Python 3 (ipykernel)",
   "language": "python",
   "name": "python3"
  },
  "language_info": {
   "codemirror_mode": {
    "name": "ipython",
    "version": 3
   },
   "file_extension": ".py",
   "mimetype": "text/x-python",
   "name": "python",
   "nbconvert_exporter": "python",
   "pygments_lexer": "ipython3",
   "version": "3.8.18"
  }
 },
 "nbformat": 4,
 "nbformat_minor": 5
}
