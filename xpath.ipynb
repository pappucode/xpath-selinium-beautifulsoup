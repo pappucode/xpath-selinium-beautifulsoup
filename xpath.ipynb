{
 "cells": [
  {
   "cell_type": "markdown",
   "id": "24cccca1",
   "metadata": {},
   "source": [
    "## Details About XPATH"
   ]
  },
  {
   "cell_type": "code",
   "execution_count": null,
   "id": "c03cadf8",
   "metadata": {},
   "outputs": [],
   "source": [
    "# How to create XPATHS\n",
    "# Syntax\n",
    "# Absolute and Relative XPaths\n",
    "# Methods\n",
    "    ## contains\n",
    "    ## text\n",
    "    ## starts-with\n",
    "    ## Or, And\n",
    "#https://www.youtube.com/watch?v=W9_q7tZon2M&list=PLhW3qG5bs-L83gLEZVIDHOvgTTz27po_0&index=2&ab_channel=AutomationStepbyStep"
   ]
  },
  {
   "cell_type": "code",
   "execution_count": 10,
   "id": "6f83d151",
   "metadata": {},
   "outputs": [],
   "source": [
    "from selenium import webdriver\n",
    "from selenium.webdriver.chrome.service import Service\n",
    "from selenium.webdriver.common.keys import Keys"
   ]
  },
  {
   "cell_type": "code",
   "execution_count": 14,
   "id": "75be8d7a",
   "metadata": {},
   "outputs": [],
   "source": [
    "website = \"https://www.google.com/\"\n",
    "path = r\"C:\\Users\\Pappu\\Desktop\\books\\chromedriver-win64\\chromedriver.exe\"\n",
    "service = Service(path)\n",
    "driver = webdriver.Chrome(service=service)\n",
    "driver.get(website)\n",
    "search_text = driver.find_element(\"xpath\", \"//textarea[@id='APjFqb']\")\n",
    "search_text.send_keys(\"Data Science\")\n",
    "search_text.send_keys(Keys.ENTER)\n",
    "driver.quit()"
   ]
  },
  {
   "cell_type": "markdown",
   "id": "23e3ca24",
   "metadata": {},
   "source": [
    "### More XPATH with it's advance lavel"
   ]
  },
  {
   "cell_type": "code",
   "execution_count": null,
   "id": "6ec22708",
   "metadata": {},
   "outputs": [],
   "source": [
    "# https://www.youtube.com/watch?v=NhG__BL8zFo&ab_channel=AutomationZone"
   ]
  },
  {
   "cell_type": "raw",
   "id": "de8ebd1c",
   "metadata": {},
   "source": [
    "## Basic syntax\n",
    "\n",
    "## It search in all the tags\n",
    "# //*[@AttributeName=\"value\"]\n",
    "\n",
    "## It search with the tag\n",
    "# //TagName[@AttributeName=\"value\"]\n",
    "\n",
    "# And, or\n",
    "\n",
    "## text() this is a function of XPATH which return the text of any element of a webpage.\n",
    "# //p[text() = \"put the text here\"]\n",
    "\n",
    "## An example like parent tag has No unique identifier but it's child tag has unique identifier\n",
    "# //TagName[@AttributeName='value']/..\n",
    "\n",
    "## Identify parents tag using child tag (another way)\n",
    "# //TagName[ TagName[@AttributeName='value'] ]  like //a[ span[@id=\"link\"] ]\n",
    "# //a[.//span[@id=\"link\"] ], it will identify if \n",
    "\n",
    "## Another example like parent tag has unique identifier but it's child tag has No unique identifier\n",
    "# //div[@Id='divA']/* ,  Or use //div[@Id='divA']/TagName (Most appropriate)\n",
    "\n",
    "## If element not direct child then\n",
    "# //TagName[@AttributeName='value']/TagName/TagName like //div[@Id='divC']/span/input\n",
    "# Also can be use //div[@Id='divC']//input, it says that first // (double slash) means anywhere inside HTML page, but second // means inside of this first double slash.\n",
    "\n",
    "## Identify with the help of indexes, its only used when none other identification works, but there is a challenge here, when you give the indexes, this indexes basically specify the child.\n",
    "# (//label[@id='lable'])[1], if you not it, then it will select all first child of the parent. 19.00 minute(Tutorial)\n",
    "\n",
    "\n"
   ]
  },
  {
   "cell_type": "code",
   "execution_count": null,
   "id": "825aea6e",
   "metadata": {},
   "outputs": [],
   "source": []
  },
  {
   "cell_type": "code",
   "execution_count": null,
   "id": "c052a78e",
   "metadata": {},
   "outputs": [],
   "source": []
  },
  {
   "cell_type": "code",
   "execution_count": null,
   "id": "96c6a85d",
   "metadata": {},
   "outputs": [],
   "source": []
  },
  {
   "cell_type": "code",
   "execution_count": null,
   "id": "a7b3f5a6",
   "metadata": {},
   "outputs": [],
   "source": []
  },
  {
   "cell_type": "code",
   "execution_count": null,
   "id": "3f499dbf",
   "metadata": {},
   "outputs": [],
   "source": []
  },
  {
   "cell_type": "code",
   "execution_count": null,
   "id": "bf0e3f01",
   "metadata": {},
   "outputs": [],
   "source": []
  },
  {
   "cell_type": "code",
   "execution_count": null,
   "id": "5344eb18",
   "metadata": {},
   "outputs": [],
   "source": []
  },
  {
   "cell_type": "code",
   "execution_count": null,
   "id": "aee3474d",
   "metadata": {},
   "outputs": [],
   "source": []
  },
  {
   "cell_type": "code",
   "execution_count": null,
   "id": "66fd2aa7",
   "metadata": {},
   "outputs": [],
   "source": []
  },
  {
   "cell_type": "code",
   "execution_count": null,
   "id": "df3a598e",
   "metadata": {},
   "outputs": [],
   "source": []
  },
  {
   "cell_type": "code",
   "execution_count": null,
   "id": "dddc02a0",
   "metadata": {},
   "outputs": [],
   "source": []
  },
  {
   "cell_type": "code",
   "execution_count": null,
   "id": "ac444a8b",
   "metadata": {},
   "outputs": [],
   "source": []
  },
  {
   "cell_type": "code",
   "execution_count": null,
   "id": "c6f6833b",
   "metadata": {},
   "outputs": [],
   "source": []
  },
  {
   "cell_type": "code",
   "execution_count": null,
   "id": "0e719dde",
   "metadata": {},
   "outputs": [],
   "source": []
  },
  {
   "cell_type": "code",
   "execution_count": null,
   "id": "7aa59611",
   "metadata": {},
   "outputs": [],
   "source": []
  },
  {
   "cell_type": "code",
   "execution_count": null,
   "id": "9b2fcd6c",
   "metadata": {},
   "outputs": [],
   "source": []
  },
  {
   "cell_type": "code",
   "execution_count": null,
   "id": "03b51c44",
   "metadata": {},
   "outputs": [],
   "source": []
  },
  {
   "cell_type": "code",
   "execution_count": null,
   "id": "8a2f44e9",
   "metadata": {},
   "outputs": [],
   "source": []
  },
  {
   "cell_type": "code",
   "execution_count": null,
   "id": "e366c70d",
   "metadata": {},
   "outputs": [],
   "source": []
  },
  {
   "cell_type": "code",
   "execution_count": null,
   "id": "ef8ff773",
   "metadata": {},
   "outputs": [],
   "source": []
  },
  {
   "cell_type": "code",
   "execution_count": null,
   "id": "7048e1a9",
   "metadata": {},
   "outputs": [],
   "source": []
  },
  {
   "cell_type": "code",
   "execution_count": null,
   "id": "1f5c0365",
   "metadata": {},
   "outputs": [],
   "source": []
  },
  {
   "cell_type": "code",
   "execution_count": null,
   "id": "1f09c98e",
   "metadata": {},
   "outputs": [],
   "source": []
  },
  {
   "cell_type": "code",
   "execution_count": null,
   "id": "830dde35",
   "metadata": {},
   "outputs": [],
   "source": []
  },
  {
   "cell_type": "code",
   "execution_count": null,
   "id": "14735a44",
   "metadata": {},
   "outputs": [],
   "source": []
  },
  {
   "cell_type": "code",
   "execution_count": null,
   "id": "e577f625",
   "metadata": {},
   "outputs": [],
   "source": []
  },
  {
   "cell_type": "code",
   "execution_count": null,
   "id": "66c71cac",
   "metadata": {},
   "outputs": [],
   "source": []
  },
  {
   "cell_type": "code",
   "execution_count": null,
   "id": "cfd576bc",
   "metadata": {},
   "outputs": [],
   "source": []
  },
  {
   "cell_type": "code",
   "execution_count": null,
   "id": "81260dd6",
   "metadata": {},
   "outputs": [],
   "source": []
  },
  {
   "cell_type": "code",
   "execution_count": null,
   "id": "d3093843",
   "metadata": {},
   "outputs": [],
   "source": []
  },
  {
   "cell_type": "code",
   "execution_count": null,
   "id": "96070132",
   "metadata": {},
   "outputs": [],
   "source": []
  },
  {
   "cell_type": "code",
   "execution_count": null,
   "id": "acc61361",
   "metadata": {},
   "outputs": [],
   "source": []
  },
  {
   "cell_type": "code",
   "execution_count": null,
   "id": "8238b7f7",
   "metadata": {},
   "outputs": [],
   "source": []
  },
  {
   "cell_type": "code",
   "execution_count": null,
   "id": "66a0f69d",
   "metadata": {},
   "outputs": [],
   "source": []
  },
  {
   "cell_type": "code",
   "execution_count": null,
   "id": "0489e3c2",
   "metadata": {},
   "outputs": [],
   "source": []
  },
  {
   "cell_type": "code",
   "execution_count": null,
   "id": "747b0969",
   "metadata": {},
   "outputs": [],
   "source": []
  },
  {
   "cell_type": "code",
   "execution_count": null,
   "id": "58fe4a38",
   "metadata": {},
   "outputs": [],
   "source": []
  },
  {
   "cell_type": "code",
   "execution_count": null,
   "id": "600f8dbb",
   "metadata": {},
   "outputs": [],
   "source": []
  },
  {
   "cell_type": "code",
   "execution_count": null,
   "id": "4fa2fe6e",
   "metadata": {},
   "outputs": [],
   "source": []
  },
  {
   "cell_type": "code",
   "execution_count": null,
   "id": "b4cebaff",
   "metadata": {},
   "outputs": [],
   "source": []
  },
  {
   "cell_type": "code",
   "execution_count": null,
   "id": "2ce53b90",
   "metadata": {},
   "outputs": [],
   "source": []
  },
  {
   "cell_type": "code",
   "execution_count": null,
   "id": "8f0ab45c",
   "metadata": {},
   "outputs": [],
   "source": []
  },
  {
   "cell_type": "code",
   "execution_count": null,
   "id": "edb8567b",
   "metadata": {},
   "outputs": [],
   "source": []
  },
  {
   "cell_type": "code",
   "execution_count": null,
   "id": "f5bee334",
   "metadata": {},
   "outputs": [],
   "source": []
  },
  {
   "cell_type": "code",
   "execution_count": null,
   "id": "d89f699a",
   "metadata": {},
   "outputs": [],
   "source": []
  }
 ],
 "metadata": {
  "kernelspec": {
   "display_name": "Python 3 (ipykernel)",
   "language": "python",
   "name": "python3"
  },
  "language_info": {
   "codemirror_mode": {
    "name": "ipython",
    "version": 3
   },
   "file_extension": ".py",
   "mimetype": "text/x-python",
   "name": "python",
   "nbconvert_exporter": "python",
   "pygments_lexer": "ipython3",
   "version": "3.8.18"
  }
 },
 "nbformat": 4,
 "nbformat_minor": 5
}
