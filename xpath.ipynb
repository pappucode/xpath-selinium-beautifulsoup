{
 "cells": [
  {
   "cell_type": "markdown",
   "id": "fd8bf68a",
   "metadata": {},
   "source": [
    "## Details About XPATH"
   ]
  },
  {
   "cell_type": "code",
   "execution_count": null,
   "id": "f514d6de",
   "metadata": {},
   "outputs": [],
   "source": [
    "# How to create XPATHS\n",
    "# Syntax\n",
    "# Absolute and Relative XPaths\n",
    "# Methods\n",
    "    ## contains\n",
    "    ## text\n",
    "    ## starts-with\n",
    "    ## Or, And\n",
    "#https://www.youtube.com/watch?v=W9_q7tZon2M&list=PLhW3qG5bs-L83gLEZVIDHOvgTTz27po_0&index=2&ab_channel=AutomationStepbyStep"
   ]
  },
  {
   "cell_type": "code",
   "execution_count": 10,
   "id": "fc1fa738",
   "metadata": {},
   "outputs": [],
   "source": [
    "from selenium import webdriver\n",
    "from selenium.webdriver.chrome.service import Service\n",
    "from selenium.webdriver.common.keys import Keys"
   ]
  },
  {
   "cell_type": "code",
   "execution_count": 14,
   "id": "df5057f7",
   "metadata": {},
   "outputs": [],
   "source": [
    "website = \"https://www.google.com/\"\n",
    "path = r\"C:\\Users\\Pappu\\Desktop\\books\\chromedriver-win64\\chromedriver.exe\"\n",
    "service = Service(path)\n",
    "driver = webdriver.Chrome(service=service)\n",
    "driver.get(website)\n",
    "search_text = driver.find_element(\"xpath\", \"//textarea[@id='APjFqb']\")\n",
    "search_text.send_keys(\"Data Science\")\n",
    "search_text.send_keys(Keys.ENTER)\n",
    "driver.quit()"
   ]
  },
  {
   "cell_type": "markdown",
   "id": "782e5e1c",
   "metadata": {},
   "source": [
    "### More XPATH with it's advance lavel"
   ]
  },
  {
   "cell_type": "code",
   "execution_count": null,
   "id": "28186a82",
   "metadata": {},
   "outputs": [],
   "source": [
    "# https://www.youtube.com/watch?v=NhG__BL8zFo&ab_channel=AutomationZone\n",
    "# https://theautomationzone.blogspot.com/2020/07/xpath-practice.html\n",
    "# https://theautomationzone.blogspot.com/2020/07/sample-webtable-3.html"
   ]
  },
  {
   "cell_type": "raw",
   "id": "fae2fbc0",
   "metadata": {},
   "source": [
    "## Basic syntax\n",
    "\n",
    "## It search in all the tags\n",
    "# //*[@AttributeName=\"value\"]\n",
    "\n",
    "## It search with the tag\n",
    "# //TagName[@AttributeName=\"value\"]\n",
    "\n",
    "# And, or\n",
    "\n",
    "## text() this is a function of XPATH which return the text of any element of a webpage.\n",
    "# //p[text() = \"put the text here\"]\n",
    "\n",
    "## An example like parent tag has No unique identifier but it's child tag has unique identifier\n",
    "# //TagName[@AttributeName='value']/..\n",
    "# //div[ @id = 'Y2']/parent::* \"This is another way which also discuss in advance axes section\"\n",
    "\n",
    "## Identify parents tag using child tag (another way)\n",
    "# //TagName[ TagName[@AttributeName='value'] ]  like //a[ span[@id=\"link\"] ]\n",
    "# //a[.//span[@id=\"link\"] ], it will identify if need to identify parent child under a child that has unique indentifier\n",
    "\n",
    "## Another example like parent tag has unique identifier but it's child tag has No unique identifier\n",
    "# //div[@Id='divA']/* ,  Or use //div[@Id='divA']/TagName (Most appropriate)\n",
    "# //div[ @id = 'B2']/child::* \"This is another way which also discuss in advance axes section\"\n",
    "\n",
    "## If element not direct child then\n",
    "# //TagName[@AttributeName='value']/TagName/TagName like //div[@Id='divC']/span/input\n",
    "# Also can be use //div[@Id='divC']//input, it says that first // (double slash) means anywhere inside HTML page, but second // means inside of this first double slash.\n",
    "# //div[ @id = 'B2']/descendant::* \"This is another way which also discuss in advance axes section\"\n",
    "# //div[ @id = 'B2']//*\n",
    "# //div[ @id = 'B2']//div[@id='M2']\n",
    "\n",
    "## Identify with the help of indexes, its only used when none other identification works, but there is a challenge here, when you give the indexes, this indexes basically specify the child.\n",
    "# (//label[@id='lable'])[1], if you not encapsulate it, then it will select all first child of the parent. 19.00 minute(Tutorial)"
   ]
  },
  {
   "cell_type": "raw",
   "id": "a89b847a",
   "metadata": {},
   "source": [
    "## XPATH Advance\n",
    "## XPATH Functions\n",
    "\n",
    "## Contain Function, it's very helpull when partial match is needed\n",
    "# //TagName[ contains( text(), 'put the text') ] like //p[ contains( text(), 'has logged in successfully') ], Also it can be written //TagName[ @AttributeName, 'value') ] like //p[ contains( @id, 'id1') ], also it can be used like combine with both //p[ contains( @id, 'd1')  and text()='unique id']. 27.00 minutes (Tutorial)\n",
    "\n",
    "## Starts with Function\n",
    "# //p[ starts-with( text(), 'logged in successfully') ]\n",
    "\n",
    "## Position\n",
    "# //table[@id = 'table1']//tr[position() = 2], also this can be used like //table[@id = 'table1']//tr[2]\n",
    "# //table[@id = 'table1']//tr[last()] to select the last row\n",
    "# //table[@id = 'table1']//tr[last()]/td/input\n",
    "# //table[@id = 'table1']//tr[last()-1]/td/input to point the second last row\n",
    "# //table[@id = 'table1']//tr[2+1]/td/input, can be done by mathmatical expression"
   ]
  },
  {
   "cell_type": "raw",
   "id": "7ff8da8d",
   "metadata": {},
   "source": [
    "## XPATH More Advance\n",
    "## XPATH Functions\n",
    "## Identify elements by using attributes by ignoring its case as well as spaces if present inside of it.\n",
    "# XPATH not work with spaces both for text and attribute\n",
    "# //p[ normalize-space(text()) = 'put text with out space' ], like //p[ normalize-space(text()) = 'Tommy' ], it will remove preceding and trailing space\n",
    "# //p[ normalize-space(@AttributeName) = 'Tommy' ]\n",
    "\n",
    "## Convert Uppercase character to Lowercase character\n",
    "#//p[ translate(text(), 'ABCDEFGHIJKLMNOPQRSTUVWXYZ', 'abcdefghizklmnopqrstuvwxyz' ) = 'tommy' ]\n",
    "\n",
    "## Remove preceding and trailing space and convert uppercase to lowercase\n",
    "#//p[normalize-space( translate(text(), 'ABCDEFGHIJKLMNOPQRSTUVWXYZ', 'abcdefghizklmnopqrstuvwxyz' )) = 'tommy' ]\n",
    "\n",
    "## Point the paragraph tag that has text greater then 30\n",
    "#//p[ string-length(text()) >30 ], //p[ string-length(text()) < 30 ] (smaller then 30)\n",
    "\n",
    "## Round and floor (Actual number 53.80)\n",
    "# //td[round(text() ) = '54']\n",
    "# //td[round(text() ) = '54']\n",
    "\n",
    "## and \n",
    "# //input[@type='radio' and @id='gender-0'], it selects the male \n",
    "# ////input[@type='radio' and not (@id='gender-0')], where as by using not it becomes the opposite such as it may be select female.\n",
    "\n",
    "## SubString (Olive has logged in successfully : 1pm) actual text\n",
    "# //p[  substring-after( text(), ':' ) = ' 1pm' ]\n",
    "# //p[  substring-before( text(), ':' ) = 'Olive has logged in successfully ' ]\n",
    "# //p[  normalize-space(substring-before( text(), ':' )) = 'Olive has logged in successfully' ], if string has contained spaces (I have tested it)"
   ]
  },
  {
   "cell_type": "raw",
   "id": "a8e7da4c",
   "metadata": {},
   "source": [
    "## XPATH ADVANCE AXES\n",
    "## Parent\n",
    "# //div[ @id = 'Y2']/parent::*\n",
    "\n",
    "## Ancestor (child has parent and their parent and their parent and so on)\n",
    "//div[ @id = 'Y2']/ancestor::div[ @id = 'A'] 1.05 minute(Tutorial)\n",
    "\n",
    "## Child\n",
    "# //div[ @id = 'B2']/child::*\n",
    "\n",
    "## Descendant (It means child and their child and their child and so on)\n",
    "# //div[ @id = 'B2']/descendant::*\n",
    "\n",
    "## Following (It means, suppose we select B2 then Below the B2 all are followings, here B2 and its child not considered, like B2 is a div and its has childs then below B2 there B3 is a div, so we consider from B3 )\n",
    "# //div[ @id = 'B2']/following::*\n",
    "\n",
    "## Following-sibling (if B1, B2, B3, B4 are four child of parent A1, then they are siblings)\n",
    "# //div[ @id = 'B2']/following-sibling::* So here B3, and B4 will be selected.\n",
    "\n",
    "## Preceding(It is the exact oppsite of Following)\n",
    "\n",
    "## Preceding-sibling(It is the exact oppsite of Following-sibling)"
   ]
  },
  {
   "cell_type": "raw",
   "id": "83a4a3e0",
   "metadata": {},
   "source": [
    "Xpath in Selenium\n",
    "===================\n",
    "//*[@id='value'] - Any Elements by id\n",
    "//*[@name='value']- Any Elements by name\n",
    "//*[text()='value']- any Elements by text\n",
    "//input[@id='value']- input Elements by id\n",
    "//div[text()='value']- input Elements by text\n",
    "//input[@id='value' and @name='value'] - two or more attributes\n",
    "//input[@id='value' or @name='value'] - two or more attributes\n",
    "//div[@id='value']/.. - one element up\n",
    "//div[@id='value']/input - one element down by tag\n",
    "//div[@id='value']/div/input - two element down by tag\n",
    "//div[@id='value']//input - any level inside the element\n",
    "//div[@id='value']//input[1] - first element inside an element wit tag\n",
    "//div[@id='value']//input[@id='value'] - element inside an element with tag and attribute\n",
    "Elements as attributes\n",
    "//div[@id='value']/..\n",
    "//*[div[@id='value']] \n",
    "//div[@id='value']/../..\n",
    "//*[*[div[@id='value']]]"
   ]
  },
  {
   "cell_type": "raw",
   "id": "5c648d3a",
   "metadata": {},
   "source": [
    "Xpath Contains and Positions and more\n",
    "============================\n",
    "contains()\n",
    "starts-with()\n",
    "last() - tables\n",
    "position() - use checkboxes in tables\n",
    "count() - tables is an example"
   ]
  },
  {
   "cell_type": "raw",
   "id": "79448fc1",
   "metadata": {},
   "source": [
    "Xpath Ignore Case and Whitespaces and more\n",
    "============================\n",
    "normalize-space() - example with spaces\n",
    "translate() - replace example\n",
    "not() - take any example\n",
    "floor() \n",
    "round()\n",
    "string-length(string)\n",
    "substring-before(string1, string2)\n",
    "substring-after(string1, string2)"
   ]
  },
  {
   "cell_type": "raw",
   "id": "593bbafc",
   "metadata": {},
   "source": [
    "Xpath Axes\n",
    "===========\n",
    "ancestor\n",
    "ancestor-or-self\n",
    "attribute\n",
    "child\n",
    "descendant\n",
    "descendant-or-self\n",
    "following\n",
    "following-sibling\n",
    "parent\n",
    "preceding\n",
    "preceding-sibling\n",
    "self"
   ]
  },
  {
   "cell_type": "code",
   "execution_count": null,
   "id": "b9b5055e",
   "metadata": {},
   "outputs": [],
   "source": []
  },
  {
   "cell_type": "code",
   "execution_count": null,
   "id": "6311eeb8",
   "metadata": {},
   "outputs": [],
   "source": []
  },
  {
   "cell_type": "code",
   "execution_count": null,
   "id": "6aa982b9",
   "metadata": {},
   "outputs": [],
   "source": []
  },
  {
   "cell_type": "code",
   "execution_count": null,
   "id": "9a88e5ea",
   "metadata": {},
   "outputs": [],
   "source": []
  },
  {
   "cell_type": "code",
   "execution_count": null,
   "id": "c4f42760",
   "metadata": {},
   "outputs": [],
   "source": []
  },
  {
   "cell_type": "code",
   "execution_count": null,
   "id": "61b9cbd3",
   "metadata": {},
   "outputs": [],
   "source": []
  },
  {
   "cell_type": "code",
   "execution_count": null,
   "id": "31ca0892",
   "metadata": {},
   "outputs": [],
   "source": []
  },
  {
   "cell_type": "code",
   "execution_count": null,
   "id": "dfc49ee9",
   "metadata": {},
   "outputs": [],
   "source": []
  },
  {
   "cell_type": "code",
   "execution_count": null,
   "id": "84ba5c19",
   "metadata": {},
   "outputs": [],
   "source": []
  },
  {
   "cell_type": "code",
   "execution_count": null,
   "id": "022b820c",
   "metadata": {},
   "outputs": [],
   "source": []
  },
  {
   "cell_type": "code",
   "execution_count": null,
   "id": "60a78000",
   "metadata": {},
   "outputs": [],
   "source": []
  },
  {
   "cell_type": "code",
   "execution_count": null,
   "id": "296387e3",
   "metadata": {},
   "outputs": [],
   "source": []
  },
  {
   "cell_type": "code",
   "execution_count": null,
   "id": "e6774530",
   "metadata": {},
   "outputs": [],
   "source": []
  },
  {
   "cell_type": "code",
   "execution_count": null,
   "id": "29cd30ed",
   "metadata": {},
   "outputs": [],
   "source": []
  },
  {
   "cell_type": "code",
   "execution_count": null,
   "id": "f3852a23",
   "metadata": {},
   "outputs": [],
   "source": []
  },
  {
   "cell_type": "code",
   "execution_count": null,
   "id": "f94d9730",
   "metadata": {},
   "outputs": [],
   "source": []
  },
  {
   "cell_type": "code",
   "execution_count": null,
   "id": "4f4f1721",
   "metadata": {},
   "outputs": [],
   "source": []
  },
  {
   "cell_type": "code",
   "execution_count": null,
   "id": "04074e2c",
   "metadata": {},
   "outputs": [],
   "source": []
  },
  {
   "cell_type": "code",
   "execution_count": null,
   "id": "bf0922c4",
   "metadata": {},
   "outputs": [],
   "source": []
  },
  {
   "cell_type": "code",
   "execution_count": null,
   "id": "515ed3ac",
   "metadata": {},
   "outputs": [],
   "source": []
  },
  {
   "cell_type": "code",
   "execution_count": null,
   "id": "bb43b1f5",
   "metadata": {},
   "outputs": [],
   "source": []
  },
  {
   "cell_type": "code",
   "execution_count": null,
   "id": "fbf0d48c",
   "metadata": {},
   "outputs": [],
   "source": []
  },
  {
   "cell_type": "code",
   "execution_count": null,
   "id": "91b14acd",
   "metadata": {},
   "outputs": [],
   "source": []
  },
  {
   "cell_type": "code",
   "execution_count": null,
   "id": "b687a208",
   "metadata": {},
   "outputs": [],
   "source": []
  },
  {
   "cell_type": "code",
   "execution_count": null,
   "id": "ea882c1d",
   "metadata": {},
   "outputs": [],
   "source": []
  },
  {
   "cell_type": "code",
   "execution_count": null,
   "id": "3081e63b",
   "metadata": {},
   "outputs": [],
   "source": []
  },
  {
   "cell_type": "code",
   "execution_count": null,
   "id": "47c86771",
   "metadata": {},
   "outputs": [],
   "source": []
  },
  {
   "cell_type": "code",
   "execution_count": null,
   "id": "bfbd82f1",
   "metadata": {},
   "outputs": [],
   "source": []
  },
  {
   "cell_type": "code",
   "execution_count": null,
   "id": "93083a48",
   "metadata": {},
   "outputs": [],
   "source": []
  },
  {
   "cell_type": "code",
   "execution_count": null,
   "id": "5d1daca0",
   "metadata": {},
   "outputs": [],
   "source": []
  },
  {
   "cell_type": "code",
   "execution_count": null,
   "id": "d8a48f1f",
   "metadata": {},
   "outputs": [],
   "source": []
  },
  {
   "cell_type": "code",
   "execution_count": null,
   "id": "9596b584",
   "metadata": {},
   "outputs": [],
   "source": []
  },
  {
   "cell_type": "code",
   "execution_count": null,
   "id": "54d473ee",
   "metadata": {},
   "outputs": [],
   "source": []
  },
  {
   "cell_type": "code",
   "execution_count": null,
   "id": "0dfe8c7b",
   "metadata": {},
   "outputs": [],
   "source": []
  },
  {
   "cell_type": "code",
   "execution_count": null,
   "id": "22b5a159",
   "metadata": {},
   "outputs": [],
   "source": []
  },
  {
   "cell_type": "code",
   "execution_count": null,
   "id": "831b0dca",
   "metadata": {},
   "outputs": [],
   "source": []
  },
  {
   "cell_type": "code",
   "execution_count": null,
   "id": "7daea318",
   "metadata": {},
   "outputs": [],
   "source": []
  },
  {
   "cell_type": "code",
   "execution_count": null,
   "id": "98cfc034",
   "metadata": {},
   "outputs": [],
   "source": []
  }
 ],
 "metadata": {
  "kernelspec": {
   "display_name": "Python 3 (ipykernel)",
   "language": "python",
   "name": "python3"
  },
  "language_info": {
   "codemirror_mode": {
    "name": "ipython",
    "version": 3
   },
   "file_extension": ".py",
   "mimetype": "text/x-python",
   "name": "python",
   "nbconvert_exporter": "python",
   "pygments_lexer": "ipython3",
   "version": "3.8.18"
  }
 },
 "nbformat": 4,
 "nbformat_minor": 5
}
