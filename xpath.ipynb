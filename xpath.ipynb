{
 "cells": [
  {
   "cell_type": "markdown",
   "id": "70221535",
   "metadata": {},
   "source": [
    "## Details About XPATH"
   ]
  },
  {
   "cell_type": "code",
   "execution_count": null,
   "id": "30fcf01e",
   "metadata": {},
   "outputs": [],
   "source": [
    "# How to create XPATHS\n",
    "# Syntax\n",
    "# Absolute and Relative XPaths\n",
    "# Methods\n",
    "    ## contains\n",
    "    ## text\n",
    "    ## starts-with\n",
    "    ## Or, And\n",
    "#https://www.youtube.com/watch?v=W9_q7tZon2M&list=PLhW3qG5bs-L83gLEZVIDHOvgTTz27po_0&index=2&ab_channel=AutomationStepbyStep"
   ]
  },
  {
   "cell_type": "code",
   "execution_count": 10,
   "id": "cddc4bfa",
   "metadata": {},
   "outputs": [],
   "source": [
    "from selenium import webdriver\n",
    "from selenium.webdriver.chrome.service import Service\n",
    "from selenium.webdriver.common.keys import Keys"
   ]
  },
  {
   "cell_type": "code",
   "execution_count": 14,
   "id": "0ea689a6",
   "metadata": {},
   "outputs": [],
   "source": [
    "website = \"https://www.google.com/\"\n",
    "path = r\"C:\\Users\\Pappu\\Desktop\\books\\chromedriver-win64\\chromedriver.exe\"\n",
    "service = Service(path)\n",
    "driver = webdriver.Chrome(service=service)\n",
    "driver.get(website)\n",
    "search_text = driver.find_element(\"xpath\", \"//textarea[@id='APjFqb']\")\n",
    "search_text.send_keys(\"Data Science\")\n",
    "search_text.send_keys(Keys.ENTER)\n",
    "driver.quit()"
   ]
  },
  {
   "cell_type": "markdown",
   "id": "c5a30be5",
   "metadata": {},
   "source": [
    "### More XPATH with it's advance lavel"
   ]
  },
  {
   "cell_type": "code",
   "execution_count": null,
   "id": "facec90d",
   "metadata": {},
   "outputs": [],
   "source": [
    "# https://www.youtube.com/watch?v=NhG__BL8zFo&ab_channel=AutomationZone\n",
    "# https://theautomationzone.blogspot.com/2020/07/xpath-practice.html\n",
    "# https://theautomationzone.blogspot.com/2020/07/sample-webtable-3.html"
   ]
  },
  {
   "cell_type": "raw",
   "id": "ee1fa313",
   "metadata": {},
   "source": [
    "## Basic syntax\n",
    "\n",
    "## It search in all the tags\n",
    "# //*[@AttributeName=\"value\"]\n",
    "\n",
    "## It search with the tag\n",
    "# //TagName[@AttributeName=\"value\"]\n",
    "\n",
    "# And, or\n",
    "\n",
    "## text() this is a function of XPATH which return the text of any element of a webpage.\n",
    "# //p[text() = \"put the text here\"]\n",
    "\n",
    "## An example like parent tag has No unique identifier but it's child tag has unique identifier\n",
    "# //TagName[@AttributeName='value']/..\n",
    "# //div[ @id = 'Y2']/parent::* \"This is another way whuch also discuss in advance axes section\"\n",
    "\n",
    "## Identify parents tag using child tag (another way)\n",
    "# //TagName[ TagName[@AttributeName='value'] ]  like //a[ span[@id=\"link\"] ]\n",
    "# //a[.//span[@id=\"link\"] ], it will identify if need to identify parent child under a child that has unique indentifier\n",
    "\n",
    "## Another example like parent tag has unique identifier but it's child tag has No unique identifier\n",
    "# //div[@Id='divA']/* ,  Or use //div[@Id='divA']/TagName (Most appropriate)\n",
    "# //div[ @id = 'B2']/child::* \"This is another way whuch also discuss in advance axes section\"\n",
    "\n",
    "## If element not direct child then\n",
    "# //TagName[@AttributeName='value']/TagName/TagName like //div[@Id='divC']/span/input\n",
    "# Also can be use //div[@Id='divC']//input, it says that first // (double slash) means anywhere inside HTML page, but second // means inside of this first double slash.\n",
    "# //div[ @id = 'B2']/descendant::* \"This is another way whuch also discuss in advance axes section\"\n",
    "# //div[ @id = 'B2']//*\n",
    "# //div[ @id = 'B2']//div[@id='M2']\n",
    "\n",
    "## Identify with the help of indexes, its only used when none other identification works, but there is a challenge here, when you give the indexes, this indexes basically specify the child.\n",
    "# (//label[@id='lable'])[1], if you not encapsulate it, then it will select all first child of the parent. 19.00 minute(Tutorial)"
   ]
  },
  {
   "cell_type": "raw",
   "id": "13058038",
   "metadata": {},
   "source": [
    "## XPATH Advance\n",
    "## XPATH Functions\n",
    "\n",
    "## Contain Function, it's very helpull when partial match is needed\n",
    "# //TagName[ contains( text(), 'put the text') ] like //p[ contains( text(), 'has logged in successfully') ], Also it can be written //TagName[ @AttributeName, 'value') ] like //p[ contains( @id, 'id1') ], also it can be used like combine with both //p[ contains( @id, 'd1')  and text()='unique id']. 27.00 minutes (Tutorial)\n",
    "\n",
    "## Starts with Function\n",
    "# //p[ starts-with( text(), 'logged in successfully') ]\n",
    "\n",
    "## Position\n",
    "# //table[@id = 'table1']//tr[position() = 2], also this can be used like //table[@id = 'table1']//tr[2]\n",
    "# //table[@id = 'table1']//tr[last()] to select the last row\n",
    "# //table[@id = 'table1']//tr[last()]/td/input\n",
    "# //table[@id = 'table1']//tr[last()-1]/td/input to point the second last row\n",
    "# //table[@id = 'table1']//tr[2+1]/td/input, can be done by mathmatical expression"
   ]
  },
  {
   "cell_type": "raw",
   "id": "49680456",
   "metadata": {},
   "source": [
    "## XPATH More Advance\n",
    "## XPATH Functions\n",
    "## Identify elements by using attributes by ignoring its case as well as apaces if present inside of it\n",
    "# XPATH not work with spaces both for text and attribute\n",
    "# //p[ normalize-space(text()) = 'put text with out space' ], like //p[ normalize-space(text()) = 'Tommy' ], it will remove preceding and trailing space\n",
    "# //p[ normalize-space(@AttributeName) = 'Tommy' ]\n",
    "\n",
    "## Convert Uppercase character to Lowercase character\n",
    "#//p[ translate(text(), 'ABCDEFGHIJKLMNOPQRSTUVWXYZ', 'abcdefghizklmnopqrstuvwxyz' ) = 'tommy' ]\n",
    "\n",
    "## Remove preceding and trailing space and convert uppercase to lowercase\n",
    "#//p[normalize-space( translate(text(), 'ABCDEFGHIJKLMNOPQRSTUVWXYZ', 'abcdefghizklmnopqrstuvwxyz' )) = 'tommy' ]\n",
    "\n",
    "## Point the paragraph tag that has text greater then 30\n",
    "#//p[ string-length(text()) >30 ], //p[ string-length(text()) < 30 ] (smaller then 30)\n",
    "\n",
    "## Round and floor (Actual number 53.80)\n",
    "# //td[round(text() ) = '54']\n",
    "# //td[round(text() ) = '54']\n",
    "\n",
    "## and \n",
    "# //input[@type='radio' and @id='gender-0'], it selects the male \n",
    "# ////input[@type='radio' and not (@id='gender-0')], where as by using not it becomes the opposite such as it may be select female.\n",
    "\n",
    "## SubString (Olive has logged in successfully : 1pm) actual text\n",
    "# //p[  substring-after( text(), ':' ) = ' 1pm' ]\n",
    "# //p[  substring-before( text(), ':' ) = 'Olive has logged in successfully ' ]\n",
    "# //p[  normalize-space(substring-before( text(), ':' )) = 'Olive has logged in successfully' ], if string has contained spaces (I test it)"
   ]
  },
  {
   "cell_type": "raw",
   "id": "17cb81b9",
   "metadata": {},
   "source": [
    "## XPATH ADVANCE AXES\n",
    "## Parent\n",
    "# //div[ @id = 'Y2']/parent::*\n",
    "\n",
    "## Ancestor\n",
    "//div[ @id = 'Y2']/ancestor::div[ @id = 'A'] 1.05 minute(Tutorial)\n",
    "\n",
    "## Child\n",
    "# //div[ @id = 'B2']/child::*\n",
    "\n",
    "## Descendant (It means child and their child and their child and so on)\n",
    "# //div[ @id = 'B2']/descendant::*\n",
    "\n",
    "## Following (It means, suppose we select B2 then Below the B2 all are followings, here B2 and its child not considered, like B2 is a div and its has childs then below B2 there B3 is a div, so we consider from B3 )\n",
    "# //div[ @id = 'B2']/following::*\n",
    "\n",
    "## Following-sibling (if B1, B2, B3, B4 are four child of parent A1, then they are siblings)\n",
    "# //div[ @id = 'B2']/following-sibling::* So here B3, and B4 will be selected.\n",
    "\n",
    "## Preceding(It is the exact oppsite of Following)\n",
    "\n",
    "## Preceding-sibling(It is the exact oppsite of Following-sibling)"
   ]
  },
  {
   "cell_type": "code",
   "execution_count": 17,
   "id": "014e1887",
   "metadata": {},
   "outputs": [
    {
     "ename": "SyntaxError",
     "evalue": "invalid syntax (2177337510.py, line 2)",
     "output_type": "error",
     "traceback": [
      "\u001b[1;36m  Cell \u001b[1;32mIn[17], line 2\u001b[1;36m\u001b[0m\n\u001b[1;33m    ===================\u001b[0m\n\u001b[1;37m    ^\u001b[0m\n\u001b[1;31mSyntaxError\u001b[0m\u001b[1;31m:\u001b[0m invalid syntax\n"
     ]
    }
   ],
   "source": [
    "Xpath in Selenium\n",
    "===================\n",
    "//*[@id='value'] - Any Elements by id\n",
    "//*[@name='value']- Any Elements by name\n",
    "//*[text()='value']- any Elements by text\n",
    "//input[@id='value']- input Elements by id\n",
    "//div[text()='value']- input Elements by text\n",
    "//input[@id='value' and @name='value'] - two or more attributes\n",
    "//input[@id='value' or @name='value'] - two or more attributes\n",
    "//div[@id='value']/.. - one element up\n",
    "//div[@id='value']/input - one element down by tag\n",
    "//div[@id='value']/div/input - two element down by tag\n",
    "//div[@id='value']//input - any level inside the element\n",
    "//div[@id='value']//input[1] - first element inside an element wit tag\n",
    "//div[@id='value']//input[@id='value'] - element inside an element with tag and attribute\n",
    "Elements as attributes\n",
    "//div[@id='value']/..\n",
    "//*[div[@id='value']] \n",
    "//div[@id='value']/../..\n",
    "//*[*[div[@id='value']]]"
   ]
  },
  {
   "cell_type": "code",
   "execution_count": null,
   "id": "3f8c897a",
   "metadata": {},
   "outputs": [],
   "source": [
    "\n",
    "Xpath Contains and Positions and more\n",
    "============================\n",
    "contains()\n",
    "starts-with()\n",
    "last() - tables\n",
    "position() - use checkboxes in tables\n",
    "count() - tables is an example"
   ]
  },
  {
   "cell_type": "code",
   "execution_count": null,
   "id": "405bc0a7",
   "metadata": {},
   "outputs": [],
   "source": []
  },
  {
   "cell_type": "code",
   "execution_count": null,
   "id": "2a8b1975",
   "metadata": {},
   "outputs": [],
   "source": []
  },
  {
   "cell_type": "code",
   "execution_count": null,
   "id": "e6651be3",
   "metadata": {},
   "outputs": [],
   "source": []
  },
  {
   "cell_type": "code",
   "execution_count": null,
   "id": "f265917c",
   "metadata": {},
   "outputs": [],
   "source": []
  },
  {
   "cell_type": "code",
   "execution_count": null,
   "id": "276f4fe5",
   "metadata": {},
   "outputs": [],
   "source": []
  },
  {
   "cell_type": "code",
   "execution_count": null,
   "id": "7565ca6e",
   "metadata": {},
   "outputs": [],
   "source": []
  },
  {
   "cell_type": "code",
   "execution_count": null,
   "id": "7858ed9b",
   "metadata": {},
   "outputs": [],
   "source": []
  },
  {
   "cell_type": "code",
   "execution_count": null,
   "id": "be9aa0e0",
   "metadata": {},
   "outputs": [],
   "source": []
  },
  {
   "cell_type": "code",
   "execution_count": null,
   "id": "0ae4d73d",
   "metadata": {},
   "outputs": [],
   "source": []
  },
  {
   "cell_type": "code",
   "execution_count": null,
   "id": "1ae3fc54",
   "metadata": {},
   "outputs": [],
   "source": []
  },
  {
   "cell_type": "code",
   "execution_count": null,
   "id": "804cea4e",
   "metadata": {},
   "outputs": [],
   "source": []
  },
  {
   "cell_type": "code",
   "execution_count": null,
   "id": "214bfe5e",
   "metadata": {},
   "outputs": [],
   "source": []
  },
  {
   "cell_type": "code",
   "execution_count": null,
   "id": "74113cc1",
   "metadata": {},
   "outputs": [],
   "source": []
  },
  {
   "cell_type": "code",
   "execution_count": null,
   "id": "64f7b1e4",
   "metadata": {},
   "outputs": [],
   "source": []
  },
  {
   "cell_type": "code",
   "execution_count": null,
   "id": "7038fa45",
   "metadata": {},
   "outputs": [],
   "source": []
  },
  {
   "cell_type": "code",
   "execution_count": null,
   "id": "1bda3e85",
   "metadata": {},
   "outputs": [],
   "source": []
  },
  {
   "cell_type": "code",
   "execution_count": null,
   "id": "ff6d0665",
   "metadata": {},
   "outputs": [],
   "source": []
  },
  {
   "cell_type": "code",
   "execution_count": null,
   "id": "eb3ed588",
   "metadata": {},
   "outputs": [],
   "source": []
  },
  {
   "cell_type": "code",
   "execution_count": null,
   "id": "6d54b812",
   "metadata": {},
   "outputs": [],
   "source": []
  },
  {
   "cell_type": "code",
   "execution_count": null,
   "id": "bb3dabec",
   "metadata": {},
   "outputs": [],
   "source": []
  },
  {
   "cell_type": "code",
   "execution_count": null,
   "id": "835fa843",
   "metadata": {},
   "outputs": [],
   "source": []
  },
  {
   "cell_type": "code",
   "execution_count": null,
   "id": "aec4df59",
   "metadata": {},
   "outputs": [],
   "source": []
  },
  {
   "cell_type": "code",
   "execution_count": null,
   "id": "d8feed8b",
   "metadata": {},
   "outputs": [],
   "source": []
  },
  {
   "cell_type": "code",
   "execution_count": null,
   "id": "5c509a14",
   "metadata": {},
   "outputs": [],
   "source": []
  },
  {
   "cell_type": "code",
   "execution_count": null,
   "id": "1b153f13",
   "metadata": {},
   "outputs": [],
   "source": []
  },
  {
   "cell_type": "code",
   "execution_count": null,
   "id": "83a33c30",
   "metadata": {},
   "outputs": [],
   "source": []
  },
  {
   "cell_type": "code",
   "execution_count": null,
   "id": "46c2c2d8",
   "metadata": {},
   "outputs": [],
   "source": []
  },
  {
   "cell_type": "code",
   "execution_count": null,
   "id": "a0f35488",
   "metadata": {},
   "outputs": [],
   "source": []
  },
  {
   "cell_type": "code",
   "execution_count": null,
   "id": "4f0f46fa",
   "metadata": {},
   "outputs": [],
   "source": []
  },
  {
   "cell_type": "code",
   "execution_count": null,
   "id": "9380285d",
   "metadata": {},
   "outputs": [],
   "source": []
  },
  {
   "cell_type": "code",
   "execution_count": null,
   "id": "9d8cfbf0",
   "metadata": {},
   "outputs": [],
   "source": []
  },
  {
   "cell_type": "code",
   "execution_count": null,
   "id": "88d5253c",
   "metadata": {},
   "outputs": [],
   "source": []
  },
  {
   "cell_type": "code",
   "execution_count": null,
   "id": "bb5896f9",
   "metadata": {},
   "outputs": [],
   "source": []
  },
  {
   "cell_type": "code",
   "execution_count": null,
   "id": "b84a2711",
   "metadata": {},
   "outputs": [],
   "source": []
  },
  {
   "cell_type": "code",
   "execution_count": null,
   "id": "e5f81d78",
   "metadata": {},
   "outputs": [],
   "source": []
  },
  {
   "cell_type": "code",
   "execution_count": null,
   "id": "487fa8e0",
   "metadata": {},
   "outputs": [],
   "source": []
  },
  {
   "cell_type": "code",
   "execution_count": null,
   "id": "71f9de3e",
   "metadata": {},
   "outputs": [],
   "source": []
  },
  {
   "cell_type": "code",
   "execution_count": null,
   "id": "8e048be8",
   "metadata": {},
   "outputs": [],
   "source": []
  },
  {
   "cell_type": "code",
   "execution_count": null,
   "id": "9310d3c7",
   "metadata": {},
   "outputs": [],
   "source": []
  },
  {
   "cell_type": "code",
   "execution_count": null,
   "id": "014e611e",
   "metadata": {},
   "outputs": [],
   "source": []
  }
 ],
 "metadata": {
  "kernelspec": {
   "display_name": "Python 3 (ipykernel)",
   "language": "python",
   "name": "python3"
  },
  "language_info": {
   "codemirror_mode": {
    "name": "ipython",
    "version": 3
   },
   "file_extension": ".py",
   "mimetype": "text/x-python",
   "name": "python",
   "nbconvert_exporter": "python",
   "pygments_lexer": "ipython3",
   "version": "3.8.18"
  }
 },
 "nbformat": 4,
 "nbformat_minor": 5
}
