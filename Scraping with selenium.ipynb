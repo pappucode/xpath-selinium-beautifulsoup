{
 "cells": [
  {
   "cell_type": "markdown",
   "id": "1302159c",
   "metadata": {},
   "source": [
    "### Selenium"
   ]
  },
  {
   "cell_type": "code",
   "execution_count": null,
   "id": "db0e7cff",
   "metadata": {},
   "outputs": [],
   "source": [
    "#https://edgedl.me.gvt1.com/edgedl/chrome/chrome-for-testing/120.0.6099.109/win64/chromedriver-win64.zip"
   ]
  },
  {
   "cell_type": "code",
   "execution_count": 52,
   "id": "d64fb457",
   "metadata": {},
   "outputs": [],
   "source": [
    "from selenium import webdriver\n",
    "from selenium.webdriver.chrome.service import Service\n",
    "from selenium.webdriver.common.by import By\n",
    "from selenium.webdriver.support.ui import Select\n",
    "from selenium.webdriver.common.keys import Keys\n",
    "import pandas as pd\n",
    "import time"
   ]
  },
  {
   "cell_type": "code",
   "execution_count": 53,
   "id": "014a7ffa",
   "metadata": {},
   "outputs": [],
   "source": [
    "website = \"https:/www.adamchoi.co.uk/overs/detailed\""
   ]
  },
  {
   "cell_type": "code",
   "execution_count": 54,
   "id": "84b648ac",
   "metadata": {},
   "outputs": [],
   "source": [
    "## Another way to create Chrome driver, here the chromedriver.exe file will be store in main program file, so no need to show the path\n",
    "# driver = webdriver.Chrome()\n",
    "# driver.get(website)\n",
    "#all_matches_button = driver.find_element(\"xpath\", '//label[@analytics-event=\"All matches\"]')\n",
    "#all_matches_button.click()\n",
    "\n",
    "#driver.quit()"
   ]
  },
  {
   "cell_type": "code",
   "execution_count": 65,
   "id": "e43b37be",
   "metadata": {},
   "outputs": [
    {
     "name": "stdout",
     "output_type": "stream",
     "text": [
      "            date    home_team   score   away_team\n",
      "0     13-08-2021    Brentford  2 -- 0     Arsenal\n",
      "1     22-08-2021      Arsenal  0 -- 2     Chelsea\n",
      "2     28-08-2021     Man City  5 -- 0     Arsenal\n",
      "3     11-09-2021      Arsenal  1 -- 0     Norwich\n",
      "4     18-09-2021      Burnley  0 -- 1     Arsenal\n",
      "...          ...          ...     ...         ...\n",
      "3035  02-05-2021   Villarreal  1 -- 0      Getafe\n",
      "3036  09-05-2021   Villarreal  2 -- 4       Celta\n",
      "3037  13-05-2021   Valladolid  0 -- 2  Villarreal\n",
      "3038  16-05-2021   Villarreal  4 -- 0     Sevilla\n",
      "3039  22-05-2021  Real Madrid  2 -- 1  Villarreal\n",
      "\n",
      "[3040 rows x 4 columns]\n"
     ]
    }
   ],
   "source": [
    "#path = \"C:\\\\Users\\\\Pappu\\\\Desktop\\\\books\\\\chromedriver-win64\\\\chromedriver.exe\"\n",
    "path = r\"C:\\Users\\Pappu\\Desktop\\books\\chromedriver-win64\\chromedriver.exe\"\n",
    "service = Service(path)\n",
    "driver = webdriver.Chrome(service=service)\n",
    "driver.get(website)\n",
    "\n",
    "time.sleep(5)\n",
    "\n",
    "## When use xpath, we always use relative xpath like that rather then absolute xpath. Absolute xpath may change. So that gives us errors.\n",
    "all_matches_button = driver.find_element(\"xpath\", '//label[@analytics-event=\"All matches\"]')\n",
    "all_matches_button.click()\n",
    "\n",
    "country_list = [\"England\", \"Spain\"]\n",
    "\n",
    "date = []\n",
    "home_team = []\n",
    "score = []\n",
    "away_team = []\n",
    "\n",
    "for country in country_list:\n",
    "\n",
    "    # dropdown_country = driver.find_element(\"xpath\", \"//select[@id='country']\")\n",
    "    # dropdown_country.send_keys(\"Spain\")\n",
    "    # dropdown_country.send_keys(Keys.ENTER)\n",
    "\n",
    "    # dropdown_season = driver.find_element(\"xpath\", \"//select[@id='season']\")\n",
    "    # dropdown_season.send_keys(\"20/21\")\n",
    "    # dropdown_season.send_keys(Keys.ENTER)\n",
    "\n",
    "    ## Another way\n",
    "    dropdown_country = Select(driver.find_element(\"xpath\", \"//select[@id='country']\"))\n",
    "    dropdown_country.select_by_visible_text(country)\n",
    "\n",
    "    time.sleep(2)\n",
    "    \n",
    "    seasons = [\"21/22\", \"20/21\"]\n",
    "    for season in seasons:\n",
    "        dropdown_season = Select(driver.find_element(\"xpath\", \"//select[@id='season']\"))\n",
    "        dropdown_season.select_by_visible_text(season)\n",
    "\n",
    "        time.sleep(5)\n",
    "\n",
    "        matches = driver.find_elements(By.TAG_NAME, 'tr')\n",
    "        #matches = driver.find_elements('xpath', '//tr')\n",
    "        # for match in matches:\n",
    "        #     print(match.text)\n",
    "\n",
    "        for match in matches:\n",
    "            date.append(match.find_element(\"xpath\", './td[1]').text) #The dot sign is specified that we want to use the current context\n",
    "            home_team.append(match.find_element(\"xpath\", './td[2]').text)\n",
    "            score.append(match.find_element(\"xpath\", './td[3]').text)\n",
    "            away_team.append(match.find_element(\"xpath\", './td[4]').text)\n",
    "\n",
    "driver.quit()\n",
    "    \n",
    "df = pd.DataFrame({'date' : date, 'home_team' : home_team, 'score' : score, 'away_team' : away_team })\n",
    "#df['score'] = df['score'].str.split('-').str.join('--')\n",
    "df['score'] = df['score'].str.replace('-', '--')\n",
    "df.to_csv('football_data.csv', index = False)\n",
    "print(df)"
   ]
  },
  {
   "cell_type": "code",
   "execution_count": null,
   "id": "d36bb433",
   "metadata": {},
   "outputs": [],
   "source": []
  },
  {
   "cell_type": "code",
   "execution_count": null,
   "id": "6f383f8b",
   "metadata": {},
   "outputs": [],
   "source": []
  },
  {
   "cell_type": "code",
   "execution_count": null,
   "id": "78eac856",
   "metadata": {},
   "outputs": [],
   "source": []
  },
  {
   "cell_type": "code",
   "execution_count": null,
   "id": "3a6d745b",
   "metadata": {},
   "outputs": [],
   "source": []
  },
  {
   "cell_type": "code",
   "execution_count": null,
   "id": "92c08943",
   "metadata": {},
   "outputs": [],
   "source": []
  },
  {
   "cell_type": "code",
   "execution_count": null,
   "id": "b8354023",
   "metadata": {},
   "outputs": [],
   "source": []
  },
  {
   "cell_type": "code",
   "execution_count": null,
   "id": "1c988d7e",
   "metadata": {},
   "outputs": [],
   "source": []
  },
  {
   "cell_type": "code",
   "execution_count": null,
   "id": "0609856a",
   "metadata": {},
   "outputs": [],
   "source": []
  },
  {
   "cell_type": "code",
   "execution_count": null,
   "id": "c85d0afe",
   "metadata": {},
   "outputs": [],
   "source": []
  },
  {
   "cell_type": "code",
   "execution_count": null,
   "id": "21468608",
   "metadata": {},
   "outputs": [],
   "source": []
  },
  {
   "cell_type": "code",
   "execution_count": null,
   "id": "293f29d9",
   "metadata": {},
   "outputs": [],
   "source": []
  },
  {
   "cell_type": "code",
   "execution_count": null,
   "id": "ea88d25b",
   "metadata": {},
   "outputs": [],
   "source": []
  },
  {
   "cell_type": "code",
   "execution_count": null,
   "id": "aae164ee",
   "metadata": {},
   "outputs": [],
   "source": []
  },
  {
   "cell_type": "code",
   "execution_count": null,
   "id": "487118dd",
   "metadata": {},
   "outputs": [],
   "source": []
  },
  {
   "cell_type": "code",
   "execution_count": null,
   "id": "885b453f",
   "metadata": {},
   "outputs": [],
   "source": []
  },
  {
   "cell_type": "code",
   "execution_count": null,
   "id": "b7726216",
   "metadata": {},
   "outputs": [],
   "source": []
  },
  {
   "cell_type": "code",
   "execution_count": null,
   "id": "4b108b7d",
   "metadata": {},
   "outputs": [],
   "source": []
  },
  {
   "cell_type": "code",
   "execution_count": null,
   "id": "0221232d",
   "metadata": {},
   "outputs": [],
   "source": []
  },
  {
   "cell_type": "code",
   "execution_count": null,
   "id": "703b621b",
   "metadata": {},
   "outputs": [],
   "source": []
  },
  {
   "cell_type": "code",
   "execution_count": null,
   "id": "41eb483d",
   "metadata": {},
   "outputs": [],
   "source": []
  },
  {
   "cell_type": "code",
   "execution_count": null,
   "id": "26ec37af",
   "metadata": {},
   "outputs": [],
   "source": []
  },
  {
   "cell_type": "code",
   "execution_count": null,
   "id": "e6dd2228",
   "metadata": {},
   "outputs": [],
   "source": []
  },
  {
   "cell_type": "code",
   "execution_count": null,
   "id": "85299f00",
   "metadata": {},
   "outputs": [],
   "source": []
  },
  {
   "cell_type": "code",
   "execution_count": null,
   "id": "8b9a99be",
   "metadata": {},
   "outputs": [],
   "source": []
  },
  {
   "cell_type": "code",
   "execution_count": null,
   "id": "9acf14b0",
   "metadata": {},
   "outputs": [],
   "source": []
  },
  {
   "cell_type": "code",
   "execution_count": null,
   "id": "ce51971e",
   "metadata": {},
   "outputs": [],
   "source": []
  },
  {
   "cell_type": "code",
   "execution_count": null,
   "id": "50ec86d6",
   "metadata": {},
   "outputs": [],
   "source": []
  },
  {
   "cell_type": "code",
   "execution_count": null,
   "id": "416a9985",
   "metadata": {},
   "outputs": [],
   "source": []
  },
  {
   "cell_type": "code",
   "execution_count": null,
   "id": "bc57cc72",
   "metadata": {},
   "outputs": [],
   "source": []
  },
  {
   "cell_type": "code",
   "execution_count": null,
   "id": "92e5cd1e",
   "metadata": {},
   "outputs": [],
   "source": []
  },
  {
   "cell_type": "code",
   "execution_count": null,
   "id": "226ea6b3",
   "metadata": {},
   "outputs": [],
   "source": []
  },
  {
   "cell_type": "code",
   "execution_count": null,
   "id": "c5ee7074",
   "metadata": {},
   "outputs": [],
   "source": []
  },
  {
   "cell_type": "code",
   "execution_count": null,
   "id": "e07ff281",
   "metadata": {},
   "outputs": [],
   "source": []
  },
  {
   "cell_type": "code",
   "execution_count": null,
   "id": "2b195530",
   "metadata": {},
   "outputs": [],
   "source": []
  },
  {
   "cell_type": "code",
   "execution_count": null,
   "id": "0f446949",
   "metadata": {},
   "outputs": [],
   "source": []
  },
  {
   "cell_type": "code",
   "execution_count": null,
   "id": "f111a290",
   "metadata": {},
   "outputs": [],
   "source": []
  },
  {
   "cell_type": "code",
   "execution_count": null,
   "id": "1e5221fa",
   "metadata": {},
   "outputs": [],
   "source": []
  },
  {
   "cell_type": "code",
   "execution_count": null,
   "id": "a7c1bfc0",
   "metadata": {},
   "outputs": [],
   "source": []
  },
  {
   "cell_type": "code",
   "execution_count": null,
   "id": "8fb855c2",
   "metadata": {},
   "outputs": [],
   "source": []
  },
  {
   "cell_type": "code",
   "execution_count": null,
   "id": "93ed567b",
   "metadata": {},
   "outputs": [],
   "source": []
  },
  {
   "cell_type": "code",
   "execution_count": null,
   "id": "83e8bf34",
   "metadata": {},
   "outputs": [],
   "source": []
  },
  {
   "cell_type": "code",
   "execution_count": null,
   "id": "55b9120d",
   "metadata": {},
   "outputs": [],
   "source": []
  }
 ],
 "metadata": {
  "kernelspec": {
   "display_name": "Python 3 (ipykernel)",
   "language": "python",
   "name": "python3"
  },
  "language_info": {
   "codemirror_mode": {
    "name": "ipython",
    "version": 3
   },
   "file_extension": ".py",
   "mimetype": "text/x-python",
   "name": "python",
   "nbconvert_exporter": "python",
   "pygments_lexer": "ipython3",
   "version": "3.8.18"
  }
 },
 "nbformat": 4,
 "nbformat_minor": 5
}
