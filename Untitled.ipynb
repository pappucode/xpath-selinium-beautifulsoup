{
 "cells": [
  {
   "cell_type": "code",
   "execution_count": null,
   "id": "89be8243",
   "metadata": {},
   "outputs": [],
   "source": []
  },
  {
   "cell_type": "raw",
   "id": "1bce6001",
   "metadata": {},
   "source": [
    "# When we have to use Selenium.\n",
    "# When We Inspect pages, if the press ctrl+shift+p and write javascript disabled, if the page not loaded correctly, then we can say that we have to use selenium forscraping."
   ]
  },
  {
   "cell_type": "code",
   "execution_count": null,
   "id": "5f2775f3",
   "metadata": {},
   "outputs": [],
   "source": []
  },
  {
   "cell_type": "code",
   "execution_count": 1,
   "id": "267b93ff",
   "metadata": {},
   "outputs": [
    {
     "data": {
      "text/plain": [
       "['ম', 'ু', 'খ', 'ো', 'প', 'া', 'ধ', '্', 'য', 'া', 'য়']"
      ]
     },
     "execution_count": 1,
     "metadata": {},
     "output_type": "execute_result"
    }
   ],
   "source": [
    "list(\"মুখোপাধ্যায়\")"
   ]
  },
  {
   "cell_type": "code",
   "execution_count": null,
   "id": "d04d3f65",
   "metadata": {},
   "outputs": [],
   "source": []
  },
  {
   "cell_type": "code",
   "execution_count": null,
   "id": "d1f669b8",
   "metadata": {},
   "outputs": [],
   "source": []
  },
  {
   "cell_type": "code",
   "execution_count": null,
   "id": "aca7801c",
   "metadata": {},
   "outputs": [],
   "source": []
  },
  {
   "cell_type": "code",
   "execution_count": null,
   "id": "6e9df945",
   "metadata": {},
   "outputs": [],
   "source": []
  },
  {
   "cell_type": "code",
   "execution_count": null,
   "id": "eb695020",
   "metadata": {},
   "outputs": [],
   "source": []
  }
 ],
 "metadata": {
  "kernelspec": {
   "display_name": "Python 3 (ipykernel)",
   "language": "python",
   "name": "python3"
  },
  "language_info": {
   "codemirror_mode": {
    "name": "ipython",
    "version": 3
   },
   "file_extension": ".py",
   "mimetype": "text/x-python",
   "name": "python",
   "nbconvert_exporter": "python",
   "pygments_lexer": "ipython3",
   "version": "3.8.18"
  }
 },
 "nbformat": 4,
 "nbformat_minor": 5
}
